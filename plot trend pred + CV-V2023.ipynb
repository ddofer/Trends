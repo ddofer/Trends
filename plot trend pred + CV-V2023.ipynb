{
 "cells": [
  {
   "cell_type": "markdown",
   "id": "a63a5d2b",
   "metadata": {},
   "source": [
    "##### Publication trends forecasting outputs\n",
    "\n",
    "* Train+val+test Data covers ~1960-2019.\n",
    "    * Model/features optimized over 1980-2010\n",
    "\n",
    "* Prediction 5 years (inclusive) in advance\n",
    "\n",
    "* Temporal split over data\n",
    "\n",
    "* `y_raw` = Actual amount of publications (normalized out of total pubs that year in pubmed)\n",
    "* `preds` = model predictions\n",
    "\n",
    "\n",
    "* SparkBeyond Validation set ~ 2010-2013 , Test set 2014-2019\n",
    "    * SB Train+val+test Data covers 1980-2019.\n",
    "    * Raw/context data covers more (and I output that here)\n",
    "* Prediction 5 years (inclusive) in advance\n",
    "\n",
    "\n",
    " * I try redoing time series CV/split here from scratch , to better show predicitons. \n",
    "     * https://scikit-learn.org/stable/modules/generated/sklearn.model_selection.TimeSeriesSplit.html"
   ]
  },
  {
   "cell_type": "code",
   "execution_count": 29,
   "id": "17021a74",
   "metadata": {},
   "outputs": [],
   "source": [
    "import pandas as pd\n",
    "import seaborn as sns\n",
    "%matplotlib inline \n",
    "\n",
    "from sklearn.model_selection import cross_val_predict,TimeSeriesSplit\n",
    "from sklearn.ensemble import HistGradientBoostingRegressor \n",
    "from sklearn import linear_model\n",
    "from sklearn.linear_model import LinearRegression,Ridge,RidgeCV, ElasticNet,ElasticNetCV, Lasso\n",
    "from sklearn.compose import TransformedTargetRegressor\n",
    "from sklearn.preprocessing import MinMaxScaler\n",
    "from sklearn.feature_selection import SequentialFeatureSelector\n",
    "# from sklearn.metrics import PredictionErrorDisplay\n",
    "from sklearn.pipeline import Pipeline\n",
    "import numpy as np\n",
    "from catboost import CatBoostRegressor\n",
    "from sklearn.feature_selection import RFECV\n",
    "import sklearn.metrics as metrics\n",
    "from  sklearn.metrics import classification_report\n",
    "import re\n",
    "pd.set_option('mode.use_inf_as_na', True)"
   ]
  },
  {
   "cell_type": "code",
   "execution_count": 2,
   "id": "51d7fce5",
   "metadata": {},
   "outputs": [],
   "source": [
    "FILTER_GROUP_SIZES = True\n",
    "\n",
    "DIFF_TARGET = True#False#True # set target to diff vs 5 years ago. i.e tougher baseline\n",
    "DIFF_TARGET_PCT = False#True#False#True\n",
    "NUM_CV_FOLDS =  30#5#30 #\n",
    "\n",
    "DO_RFE_FS = False#False#True\n",
    "\n",
    "GET_DL_EMBEDS = True#False"
   ]
  },
  {
   "cell_type": "code",
   "execution_count": 3,
   "id": "30720785",
   "metadata": {},
   "outputs": [],
   "source": [
    "def plot_var_preds(df,val:str=\"subthalamus\",logScale=False):\n",
    "#     df.loc[df[\"variable\"].str.contains(val,case=False)][[\"y_raw\",\"preds\"]].plot(title=val)# \"y_raw_predicted\"\n",
    "    if logScale:\n",
    "        df.loc[df[\"variable\"].str.lower()==val.lower()][[\"y_raw\",\"preds\"]].apply(np.log1p).plot(title=val)\n",
    "    else:\n",
    "        df.loc[df[\"variable\"].str.lower()==val.lower()][[\"y_raw\",\"preds\"]].plot(title=val)\n",
    "    \n",
    "def regression_results(y_true, y_pred):\n",
    "    # Regression metrics\n",
    "    explained_variance=metrics.explained_variance_score(y_true, y_pred)\n",
    "    mean_absolute_error=metrics.mean_absolute_error(y_true, y_pred) \n",
    "    mse=metrics.mean_squared_error(y_true, y_pred) \n",
    "    \n",
    "    median_absolute_error=metrics.median_absolute_error(y_true, y_pred)\n",
    "    r2=metrics.r2_score(y_true, y_pred)\n",
    "\n",
    "    print('r2:', round(r2,3))\n",
    "    print('MAE (Mean absolute error):', round(mean_absolute_error,3))\n",
    "    print('Median absolute error:', round(median_absolute_error,3))\n",
    "#     print('MSE: ', round(mse,3))\n",
    "    print('RMSE:', round(np.sqrt(mse),3))\n",
    "    print('explained_variance: ', round(explained_variance,3))    \n",
    "    try:\n",
    "        mape = metrics.mean_absolute_percentage_error(y_true, y_pred)\n",
    "        print('mape:', round(mape,3))\n",
    "    except:()\n",
    "    try: \n",
    "        mean_squared_log_error=metrics.mean_squared_log_error(y_true, y_pred)\n",
    "        print('mean_squared_log_error:', round(mean_squared_log_error,3))\n",
    "    except:()\n",
    "\n",
    "        \n",
    "def evaluate(model = CatBoostRegressor(cat_features= [\"variable\"],verbose=False,has_time=True),X = None):\n",
    "    \"\"\"\n",
    "    Assigns results of preictions to df_feat (global var version)\n",
    "    https://stats.stackexchange.com/questions/495151/cross-validation-for-time-series-what-am-i-doing-wrong\n",
    "    https://stackoverflow.com/questions/51597507/sklearn-timeseriessplit-error-keyerror-0-1-2-not-in-index\n",
    "    \"\"\"\n",
    "    # train model on training dataset\n",
    "    i = 0\n",
    "    tscv = TimeSeriesSplit(NUM_CV_FOLDS) #10) # ORIG - 10\n",
    "#     df_feat[\"preds\"] = np.NaN # un commented - DAN - new\n",
    "    for train_index, test_index in tscv.split(X): #df_feat):\n",
    "        i +=1\n",
    "#         print(i)\n",
    "        if i%3==0: print(i)\n",
    "        X_train, X_test = X.iloc[train_index], X.iloc[test_index]\n",
    "#         X_train, X_test = X.index[train_index], X.index[test_index]#X.iloc[train_index], X.iloc[test_index]\n",
    "        y_train, y_test = y[train_index], y[test_index]\n",
    "#         model = CatBoostRegressor(iterations=500,\n",
    "#                                   cat_features= [\"variable\"],#[0], #[\"variable\"],\n",
    "#                           verbose=False,has_time=True)\n",
    "#         print(\"fit\")\n",
    "#         model.fit(X_train, y_train)\n",
    "        model.fit(X_train, y_train,\n",
    "#                   early_stopping_rounds=10,\n",
    "#                   eval_set=(X_test, y_test),\n",
    "                  #plot=(i%3==0),\n",
    "#                  baseline=X_train[\"lag5\"].values)#pd.concat([X_train[\"lag5\"],X_test[\"lag5\"]]).values)\n",
    "                  )\n",
    "#         print(\"doing pred\")\n",
    "        y_predict = model.predict(X_test)\n",
    "        assert np.isnan(y_predict).max() == False\n",
    "#         print(\"assigning pred\")\n",
    "#         df_feat.loc[test_index,\"preds\"] =y_predict\n",
    "        df_feat.iloc[test_index,-1] =y_predict  ##\n",
    "    print(\"\\n Done\")\n",
    "\n",
    "def truncate(f2, n=1):\n",
    "    '''Truncates/pads a float f to n decimal places without rounding'''\n",
    "#     if f.isnumeric():\n",
    "    try: \n",
    "        f = float(f2)\n",
    "#         s = '{}'.format(f)\n",
    "#         if 'e' in s or 'E' in s:\n",
    "#             return '{0:.{1}f}'.format(f, n)\n",
    "#         i, p, d = s.partition('.')\n",
    "#         return '.'.join([i, (d+'0'*n)[:n]])\n",
    "        return(str(round(float(f),2)))\n",
    "#     else:\n",
    "    except:\n",
    "        return f2"
   ]
  },
  {
   "cell_type": "markdown",
   "id": "9b8d4a10",
   "metadata": {},
   "source": [
    "#### plot (lagged?) correlation of inputs and target in raw data"
   ]
  },
  {
   "cell_type": "code",
   "execution_count": 4,
   "id": "d2c6dfdd",
   "metadata": {},
   "outputs": [
    {
     "name": "stdout",
     "output_type": "stream",
     "text": [
      "(4798, 25)\n"
     ]
    },
    {
     "name": "stderr",
     "output_type": "stream",
     "text": [
      "/tmp/ipykernel_1135/370888971.py:1: FutureWarning: The argument 'infer_datetime_format' is deprecated and will be removed in a future version. A strict version of it is now the default, see https://pandas.pydata.org/pdeps/0004-consistent-to-datetime-parsing.html. You can safely remove this argument.\n",
      "  df_targets = pd.read_csv(\"trends_v6.csv.gz\",parse_dates=[\"Year\",\"first\",\"start\"],infer_datetime_format=True)\n"
     ]
    },
    {
     "data": {
      "text/html": [
       "<div>\n",
       "<style scoped>\n",
       "    .dataframe tbody tr th:only-of-type {\n",
       "        vertical-align: middle;\n",
       "    }\n",
       "\n",
       "    .dataframe tbody tr th {\n",
       "        vertical-align: top;\n",
       "    }\n",
       "\n",
       "    .dataframe thead th {\n",
       "        text-align: right;\n",
       "    }\n",
       "</style>\n",
       "<table border=\"1\" class=\"dataframe\">\n",
       "  <thead>\n",
       "    <tr style=\"text-align: right;\">\n",
       "      <th></th>\n",
       "      <th>Year</th>\n",
       "      <th>variable</th>\n",
       "      <th>y_raw</th>\n",
       "      <th>reviews</th>\n",
       "      <th>research_review_diff</th>\n",
       "      <th>research_review_ratio</th>\n",
       "      <th>pct_diff</th>\n",
       "      <th>patent_count</th>\n",
       "      <th>patent_frac</th>\n",
       "      <th>patent_yearly_total</th>\n",
       "      <th>...</th>\n",
       "      <th>pat_div_research</th>\n",
       "      <th>year_num</th>\n",
       "      <th>y_diff</th>\n",
       "      <th>y_pct_diff</th>\n",
       "      <th>diff_lag5</th>\n",
       "      <th>diff_lag6</th>\n",
       "      <th>pct_diff_lag5</th>\n",
       "      <th>pct_diff_lag6</th>\n",
       "      <th>target_5</th>\n",
       "      <th>lag5_pct_new</th>\n",
       "    </tr>\n",
       "  </thead>\n",
       "  <tbody>\n",
       "    <tr>\n",
       "      <th>0</th>\n",
       "      <td>1979-01-01</td>\n",
       "      <td>BLAST</td>\n",
       "      <td>103.5087</td>\n",
       "      <td>1.4179</td>\n",
       "      <td>103.5087</td>\n",
       "      <td>1.0000</td>\n",
       "      <td>-0.0271</td>\n",
       "      <td>87.0</td>\n",
       "      <td>4.5645</td>\n",
       "      <td>1906.0</td>\n",
       "      <td>...</td>\n",
       "      <td>0.8405</td>\n",
       "      <td>1979</td>\n",
       "      <td>-2.8860</td>\n",
       "      <td>-0.027125</td>\n",
       "      <td>63.1021</td>\n",
       "      <td>69.3282</td>\n",
       "      <td>0.182154</td>\n",
       "      <td>0.052524</td>\n",
       "      <td>150.1954</td>\n",
       "      <td>60.963088</td>\n",
       "    </tr>\n",
       "    <tr>\n",
       "      <th>1</th>\n",
       "      <td>1979-01-01</td>\n",
       "      <td>Brodmann area</td>\n",
       "      <td>2.1269</td>\n",
       "      <td>0.0000</td>\n",
       "      <td>-4.2538</td>\n",
       "      <td>-2.0000</td>\n",
       "      <td>0.9324</td>\n",
       "      <td>0.0</td>\n",
       "      <td>0.0000</td>\n",
       "      <td>1906.0</td>\n",
       "      <td>...</td>\n",
       "      <td>0.0000</td>\n",
       "      <td>1979</td>\n",
       "      <td>1.0263</td>\n",
       "      <td>0.932491</td>\n",
       "      <td>1.7016</td>\n",
       "      <td>2.1269</td>\n",
       "      <td>NaN</td>\n",
       "      <td>NaN</td>\n",
       "      <td>3.1422</td>\n",
       "      <td>80.003761</td>\n",
       "    </tr>\n",
       "    <tr>\n",
       "      <th>2</th>\n",
       "      <td>1979-01-01</td>\n",
       "      <td>Cingulate cortex</td>\n",
       "      <td>13.8248</td>\n",
       "      <td>0.0000</td>\n",
       "      <td>13.8248</td>\n",
       "      <td>1.0000</td>\n",
       "      <td>-0.0084</td>\n",
       "      <td>0.0</td>\n",
       "      <td>0.0000</td>\n",
       "      <td>1906.0</td>\n",
       "      <td>...</td>\n",
       "      <td>0.0000</td>\n",
       "      <td>1979</td>\n",
       "      <td>-0.1166</td>\n",
       "      <td>-0.008364</td>\n",
       "      <td>-2.3378</td>\n",
       "      <td>-6.9431</td>\n",
       "      <td>-0.221751</td>\n",
       "      <td>0.631850</td>\n",
       "      <td>25.1373</td>\n",
       "      <td>-16.910190</td>\n",
       "    </tr>\n",
       "    <tr>\n",
       "      <th>3</th>\n",
       "      <td>1979-01-01</td>\n",
       "      <td>DNA array</td>\n",
       "      <td>4.2538</td>\n",
       "      <td>0.3545</td>\n",
       "      <td>4.2538</td>\n",
       "      <td>1.0000</td>\n",
       "      <td>0.1595</td>\n",
       "      <td>0.0</td>\n",
       "      <td>0.0000</td>\n",
       "      <td>1906.0</td>\n",
       "      <td>...</td>\n",
       "      <td>0.0000</td>\n",
       "      <td>1979</td>\n",
       "      <td>0.5850</td>\n",
       "      <td>0.159453</td>\n",
       "      <td>3.4031</td>\n",
       "      <td>3.3885</td>\n",
       "      <td>NaN</td>\n",
       "      <td>NaN</td>\n",
       "      <td>13.1971</td>\n",
       "      <td>80.001411</td>\n",
       "    </tr>\n",
       "    <tr>\n",
       "      <th>4</th>\n",
       "      <td>1979-01-01</td>\n",
       "      <td>Dorsolateral prefrontal cortex</td>\n",
       "      <td>1.0634</td>\n",
       "      <td>0.0000</td>\n",
       "      <td>-40.0564</td>\n",
       "      <td>-37.6667</td>\n",
       "      <td>-0.5859</td>\n",
       "      <td>0.0</td>\n",
       "      <td>0.0000</td>\n",
       "      <td>1906.0</td>\n",
       "      <td>...</td>\n",
       "      <td>0.0000</td>\n",
       "      <td>1979</td>\n",
       "      <td>-1.5047</td>\n",
       "      <td>-0.585920</td>\n",
       "      <td>0.6381</td>\n",
       "      <td>0.6307</td>\n",
       "      <td>NaN</td>\n",
       "      <td>NaN</td>\n",
       "      <td>2.8279</td>\n",
       "      <td>60.005642</td>\n",
       "    </tr>\n",
       "    <tr>\n",
       "      <th>5</th>\n",
       "      <td>1979-01-01</td>\n",
       "      <td>EEG</td>\n",
       "      <td>719.9524</td>\n",
       "      <td>20.5599</td>\n",
       "      <td>699.0379</td>\n",
       "      <td>0.9710</td>\n",
       "      <td>0.0237</td>\n",
       "      <td>1.0</td>\n",
       "      <td>0.0525</td>\n",
       "      <td>1906.0</td>\n",
       "      <td>...</td>\n",
       "      <td>0.0014</td>\n",
       "      <td>1979</td>\n",
       "      <td>16.6468</td>\n",
       "      <td>0.023669</td>\n",
       "      <td>-226.4131</td>\n",
       "      <td>-321.0382</td>\n",
       "      <td>-0.090899</td>\n",
       "      <td>-0.016952</td>\n",
       "      <td>683.1065</td>\n",
       "      <td>-31.448343</td>\n",
       "    </tr>\n",
       "    <tr>\n",
       "      <th>6</th>\n",
       "      <td>1979-01-01</td>\n",
       "      <td>Epidemiology</td>\n",
       "      <td>3853.2162</td>\n",
       "      <td>153.1361</td>\n",
       "      <td>3853.2162</td>\n",
       "      <td>1.0000</td>\n",
       "      <td>0.0485</td>\n",
       "      <td>0.0</td>\n",
       "      <td>0.0000</td>\n",
       "      <td>1906.0</td>\n",
       "      <td>...</td>\n",
       "      <td>0.0000</td>\n",
       "      <td>1979</td>\n",
       "      <td>178.1969</td>\n",
       "      <td>0.048489</td>\n",
       "      <td>-510.6986</td>\n",
       "      <td>-559.9610</td>\n",
       "      <td>-0.011163</td>\n",
       "      <td>0.079809</td>\n",
       "      <td>4098.6388</td>\n",
       "      <td>-13.253827</td>\n",
       "    </tr>\n",
       "  </tbody>\n",
       "</table>\n",
       "<p>7 rows × 26 columns</p>\n",
       "</div>"
      ],
      "text/plain": [
       "        Year                        variable      y_raw   reviews  \\\n",
       "0 1979-01-01                           BLAST   103.5087    1.4179   \n",
       "1 1979-01-01                   Brodmann area     2.1269    0.0000   \n",
       "2 1979-01-01                Cingulate cortex    13.8248    0.0000   \n",
       "3 1979-01-01                       DNA array     4.2538    0.3545   \n",
       "4 1979-01-01  Dorsolateral prefrontal cortex     1.0634    0.0000   \n",
       "5 1979-01-01                             EEG   719.9524   20.5599   \n",
       "6 1979-01-01                    Epidemiology  3853.2162  153.1361   \n",
       "\n",
       "   research_review_diff  research_review_ratio  pct_diff  patent_count  \\\n",
       "0              103.5087                 1.0000   -0.0271          87.0   \n",
       "1               -4.2538                -2.0000    0.9324           0.0   \n",
       "2               13.8248                 1.0000   -0.0084           0.0   \n",
       "3                4.2538                 1.0000    0.1595           0.0   \n",
       "4              -40.0564               -37.6667   -0.5859           0.0   \n",
       "5              699.0379                 0.9710    0.0237           1.0   \n",
       "6             3853.2162                 1.0000    0.0485           0.0   \n",
       "\n",
       "   patent_frac  patent_yearly_total  ...  pat_div_research  year_num  \\\n",
       "0       4.5645               1906.0  ...            0.8405      1979   \n",
       "1       0.0000               1906.0  ...            0.0000      1979   \n",
       "2       0.0000               1906.0  ...            0.0000      1979   \n",
       "3       0.0000               1906.0  ...            0.0000      1979   \n",
       "4       0.0000               1906.0  ...            0.0000      1979   \n",
       "5       0.0525               1906.0  ...            0.0014      1979   \n",
       "6       0.0000               1906.0  ...            0.0000      1979   \n",
       "\n",
       "     y_diff y_pct_diff  diff_lag5  diff_lag6  pct_diff_lag5  pct_diff_lag6  \\\n",
       "0   -2.8860  -0.027125    63.1021    69.3282       0.182154       0.052524   \n",
       "1    1.0263   0.932491     1.7016     2.1269            NaN            NaN   \n",
       "2   -0.1166  -0.008364    -2.3378    -6.9431      -0.221751       0.631850   \n",
       "3    0.5850   0.159453     3.4031     3.3885            NaN            NaN   \n",
       "4   -1.5047  -0.585920     0.6381     0.6307            NaN            NaN   \n",
       "5   16.6468   0.023669  -226.4131  -321.0382      -0.090899      -0.016952   \n",
       "6  178.1969   0.048489  -510.6986  -559.9610      -0.011163       0.079809   \n",
       "\n",
       "    target_5  lag5_pct_new  \n",
       "0   150.1954     60.963088  \n",
       "1     3.1422     80.003761  \n",
       "2    25.1373    -16.910190  \n",
       "3    13.1971     80.001411  \n",
       "4     2.8279     60.005642  \n",
       "5   683.1065    -31.448343  \n",
       "6  4098.6388    -13.253827  \n",
       "\n",
       "[7 rows x 26 columns]"
      ]
     },
     "execution_count": 4,
     "metadata": {},
     "output_type": "execute_result"
    }
   ],
   "source": [
    "df_targets = pd.read_csv(\"trends_v6.csv.gz\",parse_dates=[\"Year\",\"first\",\"start\"],infer_datetime_format=True)\n",
    "\n",
    "#### NEW! Sort by date!\n",
    "df_targets = df_targets.sort_values([\"Year\",\"variable\"])\n",
    "df_targets[\"target_5\"] = df_targets.groupby(\"variable\")[\"y_raw\"].shift(-5) ## target in 5 years\n",
    "\n",
    "# df_targets[[\"Year\",\"variable\",\"y_raw\",\"target_5\"]]\n",
    "df_targets = df_targets.loc[(df_targets[\"Year\"]> df_targets[\"start\"]) & (df_targets[\"year_num\"]>= 1979) ]\n",
    "df_targets.drop(columns=[\n",
    "#                          \"pct_diff_lag6\",\n",
    "    \"y_pct_bins\",\n",
    "#                          \"y_pct_diff\",\"year_num\",\n",
    "                         \"lag1\",\"lag2\",\"lag3\",\"lag4\",\n",
    "##ORIG: was commented out! be careful! #                          \"diff_lag6\",\"lag6\",\n",
    "#                          \"pct_diff_lag5\",\n",
    "#                          \"first\",\"start\"\n",
    "            ],errors=\"ignore\",inplace=True)\n",
    "print(df_targets.shape)\n",
    "df_targets[\"lag5_pct_new\"] = 100*df_targets[\"diff_lag5\"].div(df_targets[\"y_raw\"])# pct diff vs 5 years ago\n",
    "\n",
    "df_targets = df_targets.reset_index(drop=True)\n",
    "\n",
    "df_targets.head(7)"
   ]
  },
  {
   "cell_type": "code",
   "execution_count": 5,
   "id": "dea3713d",
   "metadata": {},
   "outputs": [
    {
     "data": {
      "text/html": [
       "<div>\n",
       "<style scoped>\n",
       "    .dataframe tbody tr th:only-of-type {\n",
       "        vertical-align: middle;\n",
       "    }\n",
       "\n",
       "    .dataframe tbody tr th {\n",
       "        vertical-align: top;\n",
       "    }\n",
       "\n",
       "    .dataframe thead th {\n",
       "        text-align: right;\n",
       "    }\n",
       "</style>\n",
       "<table border=\"1\" class=\"dataframe\">\n",
       "  <thead>\n",
       "    <tr style=\"text-align: right;\">\n",
       "      <th></th>\n",
       "      <th>target_5</th>\n",
       "      <th>y_raw</th>\n",
       "      <th>reviews</th>\n",
       "      <th>first</th>\n",
       "      <th>start</th>\n",
       "      <th>start_sub_first</th>\n",
       "      <th>year_sub_start</th>\n",
       "    </tr>\n",
       "  </thead>\n",
       "  <tbody>\n",
       "    <tr>\n",
       "      <th>target_5</th>\n",
       "      <td>1.000</td>\n",
       "      <td>0.987</td>\n",
       "      <td>0.902</td>\n",
       "      <td>-0.027</td>\n",
       "      <td>-0.223</td>\n",
       "      <td>-0.030</td>\n",
       "      <td>0.236</td>\n",
       "    </tr>\n",
       "    <tr>\n",
       "      <th>y_raw</th>\n",
       "      <td>0.987</td>\n",
       "      <td>1.000</td>\n",
       "      <td>0.905</td>\n",
       "      <td>-0.021</td>\n",
       "      <td>-0.229</td>\n",
       "      <td>-0.031</td>\n",
       "      <td>0.250</td>\n",
       "    </tr>\n",
       "    <tr>\n",
       "      <th>reviews</th>\n",
       "      <td>0.902</td>\n",
       "      <td>0.905</td>\n",
       "      <td>1.000</td>\n",
       "      <td>-0.021</td>\n",
       "      <td>-0.217</td>\n",
       "      <td>-0.028</td>\n",
       "      <td>0.281</td>\n",
       "    </tr>\n",
       "    <tr>\n",
       "      <th>first</th>\n",
       "      <td>-0.027</td>\n",
       "      <td>-0.021</td>\n",
       "      <td>-0.021</td>\n",
       "      <td>1.000</td>\n",
       "      <td>0.128</td>\n",
       "      <td>-0.975</td>\n",
       "      <td>-0.056</td>\n",
       "    </tr>\n",
       "    <tr>\n",
       "      <th>start</th>\n",
       "      <td>-0.223</td>\n",
       "      <td>-0.229</td>\n",
       "      <td>-0.217</td>\n",
       "      <td>0.128</td>\n",
       "      <td>1.000</td>\n",
       "      <td>0.098</td>\n",
       "      <td>-0.724</td>\n",
       "    </tr>\n",
       "    <tr>\n",
       "      <th>start_sub_first</th>\n",
       "      <td>-0.030</td>\n",
       "      <td>-0.031</td>\n",
       "      <td>-0.028</td>\n",
       "      <td>-0.975</td>\n",
       "      <td>0.098</td>\n",
       "      <td>1.000</td>\n",
       "      <td>-0.107</td>\n",
       "    </tr>\n",
       "    <tr>\n",
       "      <th>year_sub_start</th>\n",
       "      <td>0.236</td>\n",
       "      <td>0.250</td>\n",
       "      <td>0.281</td>\n",
       "      <td>-0.056</td>\n",
       "      <td>-0.724</td>\n",
       "      <td>-0.107</td>\n",
       "      <td>1.000</td>\n",
       "    </tr>\n",
       "  </tbody>\n",
       "</table>\n",
       "</div>"
      ],
      "text/plain": [
       "                 target_5  y_raw  reviews  first  start  start_sub_first  \\\n",
       "target_5            1.000  0.987    0.902 -0.027 -0.223           -0.030   \n",
       "y_raw               0.987  1.000    0.905 -0.021 -0.229           -0.031   \n",
       "reviews             0.902  0.905    1.000 -0.021 -0.217           -0.028   \n",
       "first              -0.027 -0.021   -0.021  1.000  0.128           -0.975   \n",
       "start              -0.223 -0.229   -0.217  0.128  1.000            0.098   \n",
       "start_sub_first    -0.030 -0.031   -0.028 -0.975  0.098            1.000   \n",
       "year_sub_start      0.236  0.250    0.281 -0.056 -0.724           -0.107   \n",
       "\n",
       "                 year_sub_start  \n",
       "target_5                  0.236  \n",
       "y_raw                     0.250  \n",
       "reviews                   0.281  \n",
       "first                    -0.056  \n",
       "start                    -0.724  \n",
       "start_sub_first          -0.107  \n",
       "year_sub_start            1.000  "
      ]
     },
     "execution_count": 5,
     "metadata": {},
     "output_type": "execute_result"
    }
   ],
   "source": [
    "df_targets[\"first\"] = df_targets[\"first\"].str.split(\"-\",expand=True)[0].astype(int)\n",
    "df_targets[\"start\"] = pd.to_datetime(df_targets[\"start\"]).dt.year.astype(int)\n",
    "df_targets[\"start_sub_first\"] = df_targets[\"start\"].sub(df_targets[\"first\"])\n",
    "df_targets[\"year_sub_start\"] = df_targets[\"year_num\"].sub(df_targets[\"start\"])\n",
    "df_targets[[\"target_5\",\"y_raw\",\"reviews\",\"first\",\"start\",\"start_sub_first\",\"year_sub_start\"]].corr().round(3)"
   ]
  },
  {
   "cell_type": "code",
   "execution_count": 6,
   "id": "2303841e",
   "metadata": {},
   "outputs": [
    {
     "data": {
      "text/html": [
       "<div>\n",
       "<style scoped>\n",
       "    .dataframe tbody tr th:only-of-type {\n",
       "        vertical-align: middle;\n",
       "    }\n",
       "\n",
       "    .dataframe tbody tr th {\n",
       "        vertical-align: top;\n",
       "    }\n",
       "\n",
       "    .dataframe thead th {\n",
       "        text-align: right;\n",
       "    }\n",
       "</style>\n",
       "<table border=\"1\" class=\"dataframe\">\n",
       "  <thead>\n",
       "    <tr style=\"text-align: right;\">\n",
       "      <th></th>\n",
       "      <th>Year</th>\n",
       "      <th>variable</th>\n",
       "      <th>y_raw</th>\n",
       "      <th>reviews</th>\n",
       "      <th>research_review_diff</th>\n",
       "      <th>research_review_ratio</th>\n",
       "      <th>pct_diff</th>\n",
       "      <th>patent_count</th>\n",
       "      <th>patent_frac</th>\n",
       "      <th>patent_yearly_total</th>\n",
       "      <th>...</th>\n",
       "      <th>y_diff</th>\n",
       "      <th>y_pct_diff</th>\n",
       "      <th>diff_lag5</th>\n",
       "      <th>diff_lag6</th>\n",
       "      <th>pct_diff_lag5</th>\n",
       "      <th>pct_diff_lag6</th>\n",
       "      <th>target_5</th>\n",
       "      <th>lag5_pct_new</th>\n",
       "      <th>start_sub_first</th>\n",
       "      <th>year_sub_start</th>\n",
       "    </tr>\n",
       "  </thead>\n",
       "  <tbody>\n",
       "    <tr>\n",
       "      <th>0</th>\n",
       "      <td>1979-01-01</td>\n",
       "      <td>BLAST</td>\n",
       "      <td>103.5087</td>\n",
       "      <td>1.4179</td>\n",
       "      <td>103.5087</td>\n",
       "      <td>1.0</td>\n",
       "      <td>-0.0271</td>\n",
       "      <td>87.0</td>\n",
       "      <td>4.5645</td>\n",
       "      <td>1906.0</td>\n",
       "      <td>...</td>\n",
       "      <td>-2.8860</td>\n",
       "      <td>-0.027125</td>\n",
       "      <td>63.1021</td>\n",
       "      <td>69.3282</td>\n",
       "      <td>0.182154</td>\n",
       "      <td>0.052524</td>\n",
       "      <td>150.1954</td>\n",
       "      <td>60.963088</td>\n",
       "      <td>5</td>\n",
       "      <td>29</td>\n",
       "    </tr>\n",
       "    <tr>\n",
       "      <th>98</th>\n",
       "      <td>1980-01-01</td>\n",
       "      <td>BLAST</td>\n",
       "      <td>103.3293</td>\n",
       "      <td>2.8505</td>\n",
       "      <td>103.3293</td>\n",
       "      <td>1.0</td>\n",
       "      <td>-0.0017</td>\n",
       "      <td>113.0</td>\n",
       "      <td>4.7221</td>\n",
       "      <td>2393.0</td>\n",
       "      <td>...</td>\n",
       "      <td>-0.1794</td>\n",
       "      <td>-0.001733</td>\n",
       "      <td>-3.8170</td>\n",
       "      <td>62.9227</td>\n",
       "      <td>1.651703</td>\n",
       "      <td>0.182154</td>\n",
       "      <td>168.4701</td>\n",
       "      <td>-3.694015</td>\n",
       "      <td>5</td>\n",
       "      <td>30</td>\n",
       "    </tr>\n",
       "    <tr>\n",
       "      <th>199</th>\n",
       "      <td>1981-01-01</td>\n",
       "      <td>BLAST</td>\n",
       "      <td>144.5499</td>\n",
       "      <td>1.7628</td>\n",
       "      <td>144.5499</td>\n",
       "      <td>1.0</td>\n",
       "      <td>0.3989</td>\n",
       "      <td>104.0</td>\n",
       "      <td>4.1517</td>\n",
       "      <td>2505.0</td>\n",
       "      <td>...</td>\n",
       "      <td>41.2206</td>\n",
       "      <td>0.398925</td>\n",
       "      <td>31.5976</td>\n",
       "      <td>37.4036</td>\n",
       "      <td>0.054188</td>\n",
       "      <td>1.651703</td>\n",
       "      <td>168.6982</td>\n",
       "      <td>21.859303</td>\n",
       "      <td>5</td>\n",
       "      <td>31</td>\n",
       "    </tr>\n",
       "    <tr>\n",
       "      <th>302</th>\n",
       "      <td>1982-01-01</td>\n",
       "      <td>BLAST</td>\n",
       "      <td>129.1531</td>\n",
       "      <td>2.0286</td>\n",
       "      <td>129.1531</td>\n",
       "      <td>1.0</td>\n",
       "      <td>-0.1065</td>\n",
       "      <td>134.0</td>\n",
       "      <td>5.7338</td>\n",
       "      <td>2337.0</td>\n",
       "      <td>...</td>\n",
       "      <td>-15.3968</td>\n",
       "      <td>-0.106515</td>\n",
       "      <td>35.3287</td>\n",
       "      <td>16.2008</td>\n",
       "      <td>-0.169345</td>\n",
       "      <td>0.054188</td>\n",
       "      <td>186.4166</td>\n",
       "      <td>27.354125</td>\n",
       "      <td>5</td>\n",
       "      <td>32</td>\n",
       "    </tr>\n",
       "    <tr>\n",
       "      <th>406</th>\n",
       "      <td>1983-01-01</td>\n",
       "      <td>BLAST</td>\n",
       "      <td>147.9653</td>\n",
       "      <td>2.5845</td>\n",
       "      <td>147.9653</td>\n",
       "      <td>1.0</td>\n",
       "      <td>0.1457</td>\n",
       "      <td>126.0</td>\n",
       "      <td>5.5975</td>\n",
       "      <td>2251.0</td>\n",
       "      <td>...</td>\n",
       "      <td>18.8122</td>\n",
       "      <td>0.145658</td>\n",
       "      <td>41.5706</td>\n",
       "      <td>54.1409</td>\n",
       "      <td>0.133977</td>\n",
       "      <td>-0.169345</td>\n",
       "      <td>184.7340</td>\n",
       "      <td>28.094830</td>\n",
       "      <td>5</td>\n",
       "      <td>33</td>\n",
       "    </tr>\n",
       "    <tr>\n",
       "      <th>511</th>\n",
       "      <td>1984-01-01</td>\n",
       "      <td>BLAST</td>\n",
       "      <td>150.1954</td>\n",
       "      <td>2.5137</td>\n",
       "      <td>150.1954</td>\n",
       "      <td>1.0</td>\n",
       "      <td>0.0151</td>\n",
       "      <td>104.0</td>\n",
       "      <td>4.2536</td>\n",
       "      <td>2445.0</td>\n",
       "      <td>...</td>\n",
       "      <td>2.2301</td>\n",
       "      <td>0.015072</td>\n",
       "      <td>46.6867</td>\n",
       "      <td>43.8007</td>\n",
       "      <td>-0.027125</td>\n",
       "      <td>0.133977</td>\n",
       "      <td>198.6063</td>\n",
       "      <td>31.083975</td>\n",
       "      <td>5</td>\n",
       "      <td>34</td>\n",
       "    </tr>\n",
       "    <tr>\n",
       "      <th>618</th>\n",
       "      <td>1985-01-01</td>\n",
       "      <td>BLAST</td>\n",
       "      <td>168.4701</td>\n",
       "      <td>3.8763</td>\n",
       "      <td>168.4701</td>\n",
       "      <td>1.0</td>\n",
       "      <td>0.1217</td>\n",
       "      <td>77.0</td>\n",
       "      <td>2.9367</td>\n",
       "      <td>2622.0</td>\n",
       "      <td>...</td>\n",
       "      <td>18.2747</td>\n",
       "      <td>0.121673</td>\n",
       "      <td>65.1408</td>\n",
       "      <td>64.9614</td>\n",
       "      <td>-0.001733</td>\n",
       "      <td>-0.027125</td>\n",
       "      <td>186.9095</td>\n",
       "      <td>38.666090</td>\n",
       "      <td>5</td>\n",
       "      <td>35</td>\n",
       "    </tr>\n",
       "  </tbody>\n",
       "</table>\n",
       "<p>7 rows × 28 columns</p>\n",
       "</div>"
      ],
      "text/plain": [
       "          Year variable     y_raw  reviews  research_review_diff  \\\n",
       "0   1979-01-01    BLAST  103.5087   1.4179              103.5087   \n",
       "98  1980-01-01    BLAST  103.3293   2.8505              103.3293   \n",
       "199 1981-01-01    BLAST  144.5499   1.7628              144.5499   \n",
       "302 1982-01-01    BLAST  129.1531   2.0286              129.1531   \n",
       "406 1983-01-01    BLAST  147.9653   2.5845              147.9653   \n",
       "511 1984-01-01    BLAST  150.1954   2.5137              150.1954   \n",
       "618 1985-01-01    BLAST  168.4701   3.8763              168.4701   \n",
       "\n",
       "     research_review_ratio  pct_diff  patent_count  patent_frac  \\\n",
       "0                      1.0   -0.0271          87.0       4.5645   \n",
       "98                     1.0   -0.0017         113.0       4.7221   \n",
       "199                    1.0    0.3989         104.0       4.1517   \n",
       "302                    1.0   -0.1065         134.0       5.7338   \n",
       "406                    1.0    0.1457         126.0       5.5975   \n",
       "511                    1.0    0.0151         104.0       4.2536   \n",
       "618                    1.0    0.1217          77.0       2.9367   \n",
       "\n",
       "     patent_yearly_total  ...   y_diff  y_pct_diff  diff_lag5  diff_lag6  \\\n",
       "0                 1906.0  ...  -2.8860   -0.027125    63.1021    69.3282   \n",
       "98                2393.0  ...  -0.1794   -0.001733    -3.8170    62.9227   \n",
       "199               2505.0  ...  41.2206    0.398925    31.5976    37.4036   \n",
       "302               2337.0  ... -15.3968   -0.106515    35.3287    16.2008   \n",
       "406               2251.0  ...  18.8122    0.145658    41.5706    54.1409   \n",
       "511               2445.0  ...   2.2301    0.015072    46.6867    43.8007   \n",
       "618               2622.0  ...  18.2747    0.121673    65.1408    64.9614   \n",
       "\n",
       "     pct_diff_lag5  pct_diff_lag6  target_5  lag5_pct_new  start_sub_first  \\\n",
       "0         0.182154       0.052524  150.1954     60.963088                5   \n",
       "98        1.651703       0.182154  168.4701     -3.694015                5   \n",
       "199       0.054188       1.651703  168.6982     21.859303                5   \n",
       "302      -0.169345       0.054188  186.4166     27.354125                5   \n",
       "406       0.133977      -0.169345  184.7340     28.094830                5   \n",
       "511      -0.027125       0.133977  198.6063     31.083975                5   \n",
       "618      -0.001733      -0.027125  186.9095     38.666090                5   \n",
       "\n",
       "     year_sub_start  \n",
       "0                29  \n",
       "98               30  \n",
       "199              31  \n",
       "302              32  \n",
       "406              33  \n",
       "511              34  \n",
       "618              35  \n",
       "\n",
       "[7 rows x 28 columns]"
      ]
     },
     "metadata": {},
     "output_type": "display_data"
    },
    {
     "data": {
      "text/html": [
       "<div>\n",
       "<style scoped>\n",
       "    .dataframe tbody tr th:only-of-type {\n",
       "        vertical-align: middle;\n",
       "    }\n",
       "\n",
       "    .dataframe tbody tr th {\n",
       "        vertical-align: top;\n",
       "    }\n",
       "\n",
       "    .dataframe thead th {\n",
       "        text-align: right;\n",
       "    }\n",
       "</style>\n",
       "<table border=\"1\" class=\"dataframe\">\n",
       "  <thead>\n",
       "    <tr style=\"text-align: right;\">\n",
       "      <th></th>\n",
       "      <th>Year</th>\n",
       "      <th>variable</th>\n",
       "      <th>y_raw</th>\n",
       "      <th>reviews</th>\n",
       "      <th>research_review_diff</th>\n",
       "      <th>research_review_ratio</th>\n",
       "      <th>pct_diff</th>\n",
       "      <th>patent_count</th>\n",
       "      <th>patent_frac</th>\n",
       "      <th>patent_yearly_total</th>\n",
       "      <th>...</th>\n",
       "      <th>y_diff</th>\n",
       "      <th>y_pct_diff</th>\n",
       "      <th>diff_lag5</th>\n",
       "      <th>diff_lag6</th>\n",
       "      <th>pct_diff_lag5</th>\n",
       "      <th>pct_diff_lag6</th>\n",
       "      <th>target_5</th>\n",
       "      <th>lag5_pct_new</th>\n",
       "      <th>start_sub_first</th>\n",
       "      <th>year_sub_start</th>\n",
       "    </tr>\n",
       "  </thead>\n",
       "  <tbody>\n",
       "    <tr>\n",
       "      <th>4057</th>\n",
       "      <td>2014-01-01</td>\n",
       "      <td>zebra fish</td>\n",
       "      <td>235.4479</td>\n",
       "      <td>22.0681</td>\n",
       "      <td>88.0233</td>\n",
       "      <td>0.3739</td>\n",
       "      <td>-0.0153</td>\n",
       "      <td>0.0</td>\n",
       "      <td>0.0000</td>\n",
       "      <td>19662.0</td>\n",
       "      <td>...</td>\n",
       "      <td>-3.6511</td>\n",
       "      <td>-0.015270</td>\n",
       "      <td>38.4216</td>\n",
       "      <td>46.4562</td>\n",
       "      <td>0.042513</td>\n",
       "      <td>0.074991</td>\n",
       "      <td>287.7659</td>\n",
       "      <td>16.318515</td>\n",
       "      <td>5</td>\n",
       "      <td>61</td>\n",
       "    </tr>\n",
       "    <tr>\n",
       "      <th>4180</th>\n",
       "      <td>2015-01-01</td>\n",
       "      <td>zebra fish</td>\n",
       "      <td>238.4186</td>\n",
       "      <td>20.7563</td>\n",
       "      <td>79.4464</td>\n",
       "      <td>0.3332</td>\n",
       "      <td>0.0126</td>\n",
       "      <td>0.0</td>\n",
       "      <td>0.0000</td>\n",
       "      <td>19640.0</td>\n",
       "      <td>...</td>\n",
       "      <td>2.9707</td>\n",
       "      <td>0.012617</td>\n",
       "      <td>35.5586</td>\n",
       "      <td>41.3923</td>\n",
       "      <td>0.029609</td>\n",
       "      <td>0.042513</td>\n",
       "      <td>273.3293</td>\n",
       "      <td>14.914357</td>\n",
       "      <td>5</td>\n",
       "      <td>62</td>\n",
       "    </tr>\n",
       "    <tr>\n",
       "      <th>4303</th>\n",
       "      <td>2016-01-01</td>\n",
       "      <td>zebra fish</td>\n",
       "      <td>264.3801</td>\n",
       "      <td>24.0558</td>\n",
       "      <td>96.9238</td>\n",
       "      <td>0.3666</td>\n",
       "      <td>0.1089</td>\n",
       "      <td>0.0</td>\n",
       "      <td>0.0000</td>\n",
       "      <td>19578.0</td>\n",
       "      <td>...</td>\n",
       "      <td>25.9615</td>\n",
       "      <td>0.108890</td>\n",
       "      <td>36.3338</td>\n",
       "      <td>61.5201</td>\n",
       "      <td>0.124156</td>\n",
       "      <td>0.029609</td>\n",
       "      <td>NaN</td>\n",
       "      <td>13.743016</td>\n",
       "      <td>5</td>\n",
       "      <td>63</td>\n",
       "    </tr>\n",
       "    <tr>\n",
       "      <th>4426</th>\n",
       "      <td>2017-01-01</td>\n",
       "      <td>zebra fish</td>\n",
       "      <td>260.2324</td>\n",
       "      <td>23.8668</td>\n",
       "      <td>79.5815</td>\n",
       "      <td>0.3058</td>\n",
       "      <td>-0.0157</td>\n",
       "      <td>1.0</td>\n",
       "      <td>0.0047</td>\n",
       "      <td>21165.0</td>\n",
       "      <td>...</td>\n",
       "      <td>-4.1477</td>\n",
       "      <td>-0.015688</td>\n",
       "      <td>35.9295</td>\n",
       "      <td>32.1861</td>\n",
       "      <td>-0.016415</td>\n",
       "      <td>0.124156</td>\n",
       "      <td>NaN</td>\n",
       "      <td>13.806697</td>\n",
       "      <td>5</td>\n",
       "      <td>64</td>\n",
       "    </tr>\n",
       "    <tr>\n",
       "      <th>4549</th>\n",
       "      <td>2018-01-01</td>\n",
       "      <td>zebra fish</td>\n",
       "      <td>273.0933</td>\n",
       "      <td>21.4016</td>\n",
       "      <td>112.5070</td>\n",
       "      <td>0.4120</td>\n",
       "      <td>0.0494</td>\n",
       "      <td>1.0</td>\n",
       "      <td>0.0048</td>\n",
       "      <td>20638.0</td>\n",
       "      <td>...</td>\n",
       "      <td>12.8609</td>\n",
       "      <td>0.049421</td>\n",
       "      <td>33.9943</td>\n",
       "      <td>48.7904</td>\n",
       "      <td>0.065965</td>\n",
       "      <td>-0.016415</td>\n",
       "      <td>NaN</td>\n",
       "      <td>12.447870</td>\n",
       "      <td>5</td>\n",
       "      <td>65</td>\n",
       "    </tr>\n",
       "    <tr>\n",
       "      <th>4673</th>\n",
       "      <td>2019-01-01</td>\n",
       "      <td>zebra fish</td>\n",
       "      <td>287.7659</td>\n",
       "      <td>23.2825</td>\n",
       "      <td>138.4172</td>\n",
       "      <td>0.4810</td>\n",
       "      <td>0.0537</td>\n",
       "      <td>0.0</td>\n",
       "      <td>0.0000</td>\n",
       "      <td>23994.0</td>\n",
       "      <td>...</td>\n",
       "      <td>14.6726</td>\n",
       "      <td>0.053727</td>\n",
       "      <td>52.3180</td>\n",
       "      <td>48.6669</td>\n",
       "      <td>-0.015270</td>\n",
       "      <td>0.065965</td>\n",
       "      <td>NaN</td>\n",
       "      <td>18.180750</td>\n",
       "      <td>5</td>\n",
       "      <td>66</td>\n",
       "    </tr>\n",
       "    <tr>\n",
       "      <th>4797</th>\n",
       "      <td>2020-01-01</td>\n",
       "      <td>zebra fish</td>\n",
       "      <td>273.3293</td>\n",
       "      <td>22.3980</td>\n",
       "      <td>125.3426</td>\n",
       "      <td>0.4586</td>\n",
       "      <td>-0.0502</td>\n",
       "      <td>1.0</td>\n",
       "      <td>0.0039</td>\n",
       "      <td>25883.0</td>\n",
       "      <td>...</td>\n",
       "      <td>-14.4366</td>\n",
       "      <td>-0.050168</td>\n",
       "      <td>34.9107</td>\n",
       "      <td>37.8814</td>\n",
       "      <td>0.012617</td>\n",
       "      <td>-0.015270</td>\n",
       "      <td>NaN</td>\n",
       "      <td>12.772396</td>\n",
       "      <td>5</td>\n",
       "      <td>67</td>\n",
       "    </tr>\n",
       "  </tbody>\n",
       "</table>\n",
       "<p>7 rows × 28 columns</p>\n",
       "</div>"
      ],
      "text/plain": [
       "           Year    variable     y_raw  reviews  research_review_diff  \\\n",
       "4057 2014-01-01  zebra fish  235.4479  22.0681               88.0233   \n",
       "4180 2015-01-01  zebra fish  238.4186  20.7563               79.4464   \n",
       "4303 2016-01-01  zebra fish  264.3801  24.0558               96.9238   \n",
       "4426 2017-01-01  zebra fish  260.2324  23.8668               79.5815   \n",
       "4549 2018-01-01  zebra fish  273.0933  21.4016              112.5070   \n",
       "4673 2019-01-01  zebra fish  287.7659  23.2825              138.4172   \n",
       "4797 2020-01-01  zebra fish  273.3293  22.3980              125.3426   \n",
       "\n",
       "      research_review_ratio  pct_diff  patent_count  patent_frac  \\\n",
       "4057                 0.3739   -0.0153           0.0       0.0000   \n",
       "4180                 0.3332    0.0126           0.0       0.0000   \n",
       "4303                 0.3666    0.1089           0.0       0.0000   \n",
       "4426                 0.3058   -0.0157           1.0       0.0047   \n",
       "4549                 0.4120    0.0494           1.0       0.0048   \n",
       "4673                 0.4810    0.0537           0.0       0.0000   \n",
       "4797                 0.4586   -0.0502           1.0       0.0039   \n",
       "\n",
       "      patent_yearly_total  ...   y_diff  y_pct_diff  diff_lag5  diff_lag6  \\\n",
       "4057              19662.0  ...  -3.6511   -0.015270    38.4216    46.4562   \n",
       "4180              19640.0  ...   2.9707    0.012617    35.5586    41.3923   \n",
       "4303              19578.0  ...  25.9615    0.108890    36.3338    61.5201   \n",
       "4426              21165.0  ...  -4.1477   -0.015688    35.9295    32.1861   \n",
       "4549              20638.0  ...  12.8609    0.049421    33.9943    48.7904   \n",
       "4673              23994.0  ...  14.6726    0.053727    52.3180    48.6669   \n",
       "4797              25883.0  ... -14.4366   -0.050168    34.9107    37.8814   \n",
       "\n",
       "      pct_diff_lag5  pct_diff_lag6  target_5  lag5_pct_new  start_sub_first  \\\n",
       "4057       0.042513       0.074991  287.7659     16.318515                5   \n",
       "4180       0.029609       0.042513  273.3293     14.914357                5   \n",
       "4303       0.124156       0.029609       NaN     13.743016                5   \n",
       "4426      -0.016415       0.124156       NaN     13.806697                5   \n",
       "4549       0.065965      -0.016415       NaN     12.447870                5   \n",
       "4673      -0.015270       0.065965       NaN     18.180750                5   \n",
       "4797       0.012617      -0.015270       NaN     12.772396                5   \n",
       "\n",
       "      year_sub_start  \n",
       "4057              61  \n",
       "4180              62  \n",
       "4303              63  \n",
       "4426              64  \n",
       "4549              65  \n",
       "4673              66  \n",
       "4797              67  \n",
       "\n",
       "[7 rows x 28 columns]"
      ]
     },
     "metadata": {},
     "output_type": "display_data"
    }
   ],
   "source": [
    "display(df_targets.sort_values([\"variable\",\"Year\"]).head(7))\n",
    "display(df_targets.sort_values([\"variable\",\"Year\"]).tail(7))"
   ]
  },
  {
   "cell_type": "code",
   "execution_count": 7,
   "id": "47adf239",
   "metadata": {},
   "outputs": [
    {
     "name": "stdout",
     "output_type": "stream",
     "text": [
      "4798\n",
      "4790\n",
      "DIFF_TARGET\n",
      "differencing of target applied\n"
     ]
    },
    {
     "data": {
      "text/html": [
       "<div>\n",
       "<style scoped>\n",
       "    .dataframe tbody tr th:only-of-type {\n",
       "        vertical-align: middle;\n",
       "    }\n",
       "\n",
       "    .dataframe tbody tr th {\n",
       "        vertical-align: top;\n",
       "    }\n",
       "\n",
       "    .dataframe thead th {\n",
       "        text-align: right;\n",
       "    }\n",
       "</style>\n",
       "<table border=\"1\" class=\"dataframe\">\n",
       "  <thead>\n",
       "    <tr style=\"text-align: right;\">\n",
       "      <th></th>\n",
       "      <th>target_5</th>\n",
       "      <th>y_raw</th>\n",
       "    </tr>\n",
       "  </thead>\n",
       "  <tbody>\n",
       "    <tr>\n",
       "      <th>count</th>\n",
       "      <td>4175.000</td>\n",
       "      <td>4175.000</td>\n",
       "    </tr>\n",
       "    <tr>\n",
       "      <th>mean</th>\n",
       "      <td>117.053</td>\n",
       "      <td>623.469</td>\n",
       "    </tr>\n",
       "    <tr>\n",
       "      <th>std</th>\n",
       "      <td>385.901</td>\n",
       "      <td>1299.120</td>\n",
       "    </tr>\n",
       "    <tr>\n",
       "      <th>min</th>\n",
       "      <td>-1351.747</td>\n",
       "      <td>0.000</td>\n",
       "    </tr>\n",
       "    <tr>\n",
       "      <th>25%</th>\n",
       "      <td>-9.584</td>\n",
       "      <td>29.440</td>\n",
       "    </tr>\n",
       "    <tr>\n",
       "      <th>50%</th>\n",
       "      <td>15.162</td>\n",
       "      <td>170.474</td>\n",
       "    </tr>\n",
       "    <tr>\n",
       "      <th>75%</th>\n",
       "      <td>116.739</td>\n",
       "      <td>565.663</td>\n",
       "    </tr>\n",
       "    <tr>\n",
       "      <th>max</th>\n",
       "      <td>3919.521</td>\n",
       "      <td>11909.162</td>\n",
       "    </tr>\n",
       "  </tbody>\n",
       "</table>\n",
       "</div>"
      ],
      "text/plain": [
       "       target_5      y_raw\n",
       "count  4175.000   4175.000\n",
       "mean    117.053    623.469\n",
       "std     385.901   1299.120\n",
       "min   -1351.747      0.000\n",
       "25%      -9.584     29.440\n",
       "50%      15.162    170.474\n",
       "75%     116.739    565.663\n",
       "max    3919.521  11909.162"
      ]
     },
     "metadata": {},
     "output_type": "display_data"
    }
   ],
   "source": [
    "if FILTER_GROUP_SIZES:\n",
    "    print(df_targets.shape[0])\n",
    "    element_group_sizes = df_targets['variable'].groupby(df_targets['variable']).transform('count')\n",
    "    df_targets = df_targets[element_group_sizes>6] # was 5, changed for CV results\n",
    "    df_targets.reset_index(inplace=True,drop=True) # otherwise, error ?? \n",
    "    print(df_targets.shape[0])\n",
    "\n",
    "if DIFF_TARGET_PCT:\n",
    "    print(\"DIFF_TARGET_PCT\")\n",
    "    df_targets[\"target_5\"] = 100*df_targets[\"target_5\"].sub(df_targets[\"lag5\"]).div(df_targets[\"y_raw\"]).round(4) # alt, pct change target\n",
    "#     df_targets[\"y_raw\"] = 100*df_targets[\"y_raw\"].div(df_targets[\"lag5\"]).round(4) # alt, pct change target\n",
    "elif DIFF_TARGET:\n",
    "    print(\"DIFF_TARGET\")\n",
    "    df_targets[\"target_5\"] = df_targets[\"target_5\"].sub(df_targets[\"lag5\"])\n",
    "#     df_targets[\"y_raw\"] = df_targets[\"y_raw\"].sub(df_targets[\"lag5\"]) # not needed? \n",
    "#     df_targets[\"y_raw\"] = df_targets[\"y_raw\"].div(df_targets[\"lag5\"]) # alt, pct change target\n",
    "if DIFF_TARGET_PCT or DIFF_TARGET:\n",
    "    print(\"differencing of target applied\")\n",
    "#     df_targets.dropna(subset=[\"y_raw\"],inplace=True)\n",
    "    df_targets_orig_full = df_targets.copy() # new, keep copy of full data for getting future preds\n",
    "    df_targets.dropna(subset=[\"target_5\"],inplace=True) ## originally we dropped - keep these for predictions! \n",
    "    df_targets.reset_index(inplace=True,drop=True)\n",
    "    display(df_targets[[\"target_5\",\"y_raw\"]].describe().round(3))\n",
    "else:\n",
    "    df_targets_orig_full = df_targets.copy()"
   ]
  },
  {
   "cell_type": "code",
   "execution_count": 8,
   "id": "89436916",
   "metadata": {},
   "outputs": [],
   "source": [
    "if DIFF_TARGET_PCT:\n",
    "    print(\"percent differenced target has some outliers (especially around start of a topic) and some extreme values (11,644)\")\n",
    "    ### extreme growth topics - subthalamus, rnai, MRI, fMRI, carbon nanotubes, perceptron - makes sense\n",
    "    display(df_targets[df_targets[\"target_5\"]>3000].sort_values([\"target_5\"],ascending=False).filter([\"Year\",\"variable\",\"y_raw\",\"target_5\"],axis=1))\n"
   ]
  },
  {
   "cell_type": "code",
   "execution_count": 9,
   "id": "0a3e5f4b",
   "metadata": {},
   "outputs": [
    {
     "data": {
      "text/plain": [
       "0.451"
      ]
     },
     "execution_count": 9,
     "metadata": {},
     "output_type": "execute_result"
    }
   ],
   "source": [
    "df_targets[\"target_5\"].corr(df_targets['y_raw']).round(3)"
   ]
  },
  {
   "cell_type": "markdown",
   "id": "b9c8019c",
   "metadata": {},
   "source": [
    "## Fig S2- Increasing popularity over time"
   ]
  },
  {
   "cell_type": "code",
   "execution_count": 10,
   "id": "c2ed7afe",
   "metadata": {},
   "outputs": [
    {
     "data": {
      "text/plain": [
       "<Axes: title={'center': 'Increasing popularity over time'}, xlabel='Year', ylabel='Average popularity of all topics'>"
      ]
     },
     "execution_count": 10,
     "metadata": {},
     "output_type": "execute_result"
    },
    {
     "data": {
      "image/png": "[encoded data removed]",
      "text/plain": [
       "<Figure size 640x480 with 1 Axes>"
      ]
     },
     "metadata": {},
     "output_type": "display_data"
    }
   ],
   "source": [
    "df_targets.groupby(\"Year\")['y_raw'].mean().plot(ylabel=\"Average popularity of all topics\",title=\"Increasing popularity over time\")"
   ]
  },
  {
   "cell_type": "code",
   "execution_count": 11,
   "id": "c6aa3ab6",
   "metadata": {},
   "outputs": [
    {
     "name": "stdout",
     "output_type": "stream",
     "text": [
      "-3 0.918\n",
      "-2 0.946\n",
      "-1 0.973\n",
      "0 1.0\n",
      "1 0.991\n",
      "2 0.981\n",
      "3 0.97\n",
      "4 0.959\n",
      "5 0.946\n",
      "6 0.933\n",
      "7 0.919\n",
      "8 0.906\n"
     ]
    }
   ],
   "source": [
    "# # df_targets.groupby('variable')['y_raw'].apply(lambda x: x.autocorr(lag=1)).mean().round(3)\n",
    "# df_g = df_targets.groupby([\"variable\"])\n",
    "# for i in range(-2,7):#[-1,0,1,2]:\n",
    "#     print(i,df_g.apply(lambda df2: df2['y_raw'].corr(df2['y_raw'].shift(i))).mean().round(3))\n",
    "\n",
    "# df_targets.groupby(\"variable\")[\"y_raw\"].shift(-5)\n",
    "for i in range(-3,9):\n",
    "    ## assumes data sorted! \n",
    "    df_targets[\"lagged\"] = df_targets.groupby(\"variable\")[\"y_raw\"].shift(i).fillna(0) ## fillna 0 greatly changes results!!\n",
    "    print(i,df_targets['y_raw'].corr(df_targets[\"lagged\"]).round(3))\n",
    "    df_targets.drop(columns=[\"lagged\"],inplace=True)"
   ]
  },
  {
   "cell_type": "code",
   "execution_count": 12,
   "id": "9eb812b7",
   "metadata": {},
   "outputs": [],
   "source": [
    "# pd.plotting.autocorrelation_plot(df_targets.groupby('variable')['y_raw'])"
   ]
  },
  {
   "cell_type": "code",
   "execution_count": 13,
   "id": "7ce57524",
   "metadata": {},
   "outputs": [
    {
     "data": {
      "text/plain": [
       "0        103.5087\n",
       "1          2.1269\n",
       "2         13.8248\n",
       "3          4.2538\n",
       "4          1.0634\n",
       "          ...    \n",
       "4170    1467.2528\n",
       "4171     588.2531\n",
       "4172     188.3969\n",
       "4173     393.6532\n",
       "4174     238.4186\n",
       "Name: y_raw, Length: 4175, dtype: float64"
      ]
     },
     "execution_count": 13,
     "metadata": {},
     "output_type": "execute_result"
    }
   ],
   "source": [
    "df_targets[\"y_raw\"]"
   ]
  },
  {
   "cell_type": "code",
   "execution_count": 14,
   "id": "98e5b4fb",
   "metadata": {
    "scrolled": true
   },
   "outputs": [],
   "source": [
    "# print(\"Correlation with target (y_raw) at same time (not lagged):\")\n",
    "# df_targets.corrwith(df_targets[\"y_raw\"]).round(2).sort_values()"
   ]
  },
  {
   "cell_type": "code",
   "execution_count": 15,
   "id": "c1a36f51",
   "metadata": {},
   "outputs": [],
   "source": [
    "# print(\"Lagged with target as it will be in 3 years:\")\n",
    "# df_targets.corrwith(df_targets.groupby(\"variable\")[\"y_raw\"].shift(-3),method=\"spearman\").round(2).sort_values()"
   ]
  },
  {
   "cell_type": "code",
   "execution_count": 16,
   "id": "ef398f17",
   "metadata": {},
   "outputs": [
    {
     "name": "stdout",
     "output_type": "stream",
     "text": [
      "Lagged with target as it will be in 5 years:\n"
     ]
    },
    {
     "ename": "TypeError",
     "evalue": "reduction operation 'corr' not allowed for this dtype",
     "output_type": "error",
     "traceback": [
      "\u001b[0;31m---------------------------------------------------------------------------\u001b[0m",
      "\u001b[0;31mTypeError\u001b[0m                                 Traceback (most recent call last)",
      "Cell \u001b[0;32mIn[16], line 2\u001b[0m\n\u001b[1;32m      1\u001b[0m \u001b[38;5;28mprint\u001b[39m(\u001b[38;5;124m\"\u001b[39m\u001b[38;5;124mLagged with target as it will be in 5 years:\u001b[39m\u001b[38;5;124m\"\u001b[39m)\n\u001b[0;32m----> 2\u001b[0m \u001b[43mdf_targets\u001b[49m\u001b[38;5;241;43m.\u001b[39;49m\u001b[43mcorrwith\u001b[49m\u001b[43m(\u001b[49m\u001b[43mdf_targets\u001b[49m\u001b[38;5;241;43m.\u001b[39;49m\u001b[43mgroupby\u001b[49m\u001b[43m(\u001b[49m\u001b[38;5;124;43m\"\u001b[39;49m\u001b[38;5;124;43mvariable\u001b[39;49m\u001b[38;5;124;43m\"\u001b[39;49m\u001b[43m)\u001b[49m\u001b[43m[\u001b[49m\u001b[38;5;124;43m\"\u001b[39;49m\u001b[38;5;124;43my_raw\u001b[39;49m\u001b[38;5;124;43m\"\u001b[39;49m\u001b[43m]\u001b[49m\u001b[38;5;241;43m.\u001b[39;49m\u001b[43mshift\u001b[49m\u001b[43m(\u001b[49m\u001b[38;5;241;43m-\u001b[39;49m\u001b[38;5;241;43m5\u001b[39;49m\u001b[43m)\u001b[49m\u001b[43m,\u001b[49m\u001b[43mmethod\u001b[49m\u001b[38;5;241;43m=\u001b[39;49m\u001b[38;5;124;43m\"\u001b[39;49m\u001b[38;5;124;43mspearman\u001b[39;49m\u001b[38;5;124;43m\"\u001b[39;49m\u001b[43m)\u001b[49m\u001b[38;5;241m.\u001b[39mround(\u001b[38;5;241m2\u001b[39m)\u001b[38;5;241m.\u001b[39msort_values()\n",
      "File \u001b[0;32m~/anaconda3/lib/python3.10/site-packages/pandas/core/frame.py:10301\u001b[0m, in \u001b[0;36mDataFrame.corrwith\u001b[0;34m(self, other, axis, drop, method, numeric_only)\u001b[0m\n\u001b[1;32m  10298\u001b[0m this \u001b[38;5;241m=\u001b[39m \u001b[38;5;28mself\u001b[39m\u001b[38;5;241m.\u001b[39m_get_numeric_data() \u001b[38;5;28;01mif\u001b[39;00m numeric_only \u001b[38;5;28;01melse\u001b[39;00m \u001b[38;5;28mself\u001b[39m\n\u001b[1;32m  10300\u001b[0m \u001b[38;5;28;01mif\u001b[39;00m \u001b[38;5;28misinstance\u001b[39m(other, Series):\n\u001b[0;32m> 10301\u001b[0m     \u001b[38;5;28;01mreturn\u001b[39;00m \u001b[43mthis\u001b[49m\u001b[38;5;241;43m.\u001b[39;49m\u001b[43mapply\u001b[49m\u001b[43m(\u001b[49m\u001b[38;5;28;43;01mlambda\u001b[39;49;00m\u001b[43m \u001b[49m\u001b[43mx\u001b[49m\u001b[43m:\u001b[49m\u001b[43m \u001b[49m\u001b[43mother\u001b[49m\u001b[38;5;241;43m.\u001b[39;49m\u001b[43mcorr\u001b[49m\u001b[43m(\u001b[49m\u001b[43mx\u001b[49m\u001b[43m,\u001b[49m\u001b[43m \u001b[49m\u001b[43mmethod\u001b[49m\u001b[38;5;241;43m=\u001b[39;49m\u001b[43mmethod\u001b[49m\u001b[43m)\u001b[49m\u001b[43m,\u001b[49m\u001b[43m \u001b[49m\u001b[43maxis\u001b[49m\u001b[38;5;241;43m=\u001b[39;49m\u001b[43maxis\u001b[49m\u001b[43m)\u001b[49m\n\u001b[1;32m  10303\u001b[0m \u001b[38;5;28;01mif\u001b[39;00m numeric_only:\n\u001b[1;32m  10304\u001b[0m     other \u001b[38;5;241m=\u001b[39m other\u001b[38;5;241m.\u001b[39m_get_numeric_data()\n",
      "File \u001b[0;32m~/anaconda3/lib/python3.10/site-packages/pandas/core/frame.py:9423\u001b[0m, in \u001b[0;36mDataFrame.apply\u001b[0;34m(self, func, axis, raw, result_type, args, **kwargs)\u001b[0m\n\u001b[1;32m   9412\u001b[0m \u001b[38;5;28;01mfrom\u001b[39;00m \u001b[38;5;21;01mpandas\u001b[39;00m\u001b[38;5;21;01m.\u001b[39;00m\u001b[38;5;21;01mcore\u001b[39;00m\u001b[38;5;21;01m.\u001b[39;00m\u001b[38;5;21;01mapply\u001b[39;00m \u001b[38;5;28;01mimport\u001b[39;00m frame_apply\n\u001b[1;32m   9414\u001b[0m op \u001b[38;5;241m=\u001b[39m frame_apply(\n\u001b[1;32m   9415\u001b[0m     \u001b[38;5;28mself\u001b[39m,\n\u001b[1;32m   9416\u001b[0m     func\u001b[38;5;241m=\u001b[39mfunc,\n\u001b[0;32m   (...)\u001b[0m\n\u001b[1;32m   9421\u001b[0m     kwargs\u001b[38;5;241m=\u001b[39mkwargs,\n\u001b[1;32m   9422\u001b[0m )\n\u001b[0;32m-> 9423\u001b[0m \u001b[38;5;28;01mreturn\u001b[39;00m \u001b[43mop\u001b[49m\u001b[38;5;241;43m.\u001b[39;49m\u001b[43mapply\u001b[49m\u001b[43m(\u001b[49m\u001b[43m)\u001b[49m\u001b[38;5;241m.\u001b[39m__finalize__(\u001b[38;5;28mself\u001b[39m, method\u001b[38;5;241m=\u001b[39m\u001b[38;5;124m\"\u001b[39m\u001b[38;5;124mapply\u001b[39m\u001b[38;5;124m\"\u001b[39m)\n",
      "File \u001b[0;32m~/anaconda3/lib/python3.10/site-packages/pandas/core/apply.py:678\u001b[0m, in \u001b[0;36mFrameApply.apply\u001b[0;34m(self)\u001b[0m\n\u001b[1;32m    675\u001b[0m \u001b[38;5;28;01melif\u001b[39;00m \u001b[38;5;28mself\u001b[39m\u001b[38;5;241m.\u001b[39mraw:\n\u001b[1;32m    676\u001b[0m     \u001b[38;5;28;01mreturn\u001b[39;00m \u001b[38;5;28mself\u001b[39m\u001b[38;5;241m.\u001b[39mapply_raw()\n\u001b[0;32m--> 678\u001b[0m \u001b[38;5;28;01mreturn\u001b[39;00m \u001b[38;5;28;43mself\u001b[39;49m\u001b[38;5;241;43m.\u001b[39;49m\u001b[43mapply_standard\u001b[49m\u001b[43m(\u001b[49m\u001b[43m)\u001b[49m\n",
      "File \u001b[0;32m~/anaconda3/lib/python3.10/site-packages/pandas/core/apply.py:798\u001b[0m, in \u001b[0;36mFrameApply.apply_standard\u001b[0;34m(self)\u001b[0m\n\u001b[1;32m    797\u001b[0m \u001b[38;5;28;01mdef\u001b[39;00m \u001b[38;5;21mapply_standard\u001b[39m(\u001b[38;5;28mself\u001b[39m):\n\u001b[0;32m--> 798\u001b[0m     results, res_index \u001b[38;5;241m=\u001b[39m \u001b[38;5;28;43mself\u001b[39;49m\u001b[38;5;241;43m.\u001b[39;49m\u001b[43mapply_series_generator\u001b[49m\u001b[43m(\u001b[49m\u001b[43m)\u001b[49m\n\u001b[1;32m    800\u001b[0m     \u001b[38;5;66;03m# wrap results\u001b[39;00m\n\u001b[1;32m    801\u001b[0m     \u001b[38;5;28;01mreturn\u001b[39;00m \u001b[38;5;28mself\u001b[39m\u001b[38;5;241m.\u001b[39mwrap_results(results, res_index)\n",
      "File \u001b[0;32m~/anaconda3/lib/python3.10/site-packages/pandas/core/apply.py:814\u001b[0m, in \u001b[0;36mFrameApply.apply_series_generator\u001b[0;34m(self)\u001b[0m\n\u001b[1;32m    811\u001b[0m \u001b[38;5;28;01mwith\u001b[39;00m option_context(\u001b[38;5;124m\"\u001b[39m\u001b[38;5;124mmode.chained_assignment\u001b[39m\u001b[38;5;124m\"\u001b[39m, \u001b[38;5;28;01mNone\u001b[39;00m):\n\u001b[1;32m    812\u001b[0m     \u001b[38;5;28;01mfor\u001b[39;00m i, v \u001b[38;5;129;01min\u001b[39;00m \u001b[38;5;28menumerate\u001b[39m(series_gen):\n\u001b[1;32m    813\u001b[0m         \u001b[38;5;66;03m# ignore SettingWithCopy here in case the user mutates\u001b[39;00m\n\u001b[0;32m--> 814\u001b[0m         results[i] \u001b[38;5;241m=\u001b[39m \u001b[38;5;28;43mself\u001b[39;49m\u001b[38;5;241;43m.\u001b[39;49m\u001b[43mf\u001b[49m\u001b[43m(\u001b[49m\u001b[43mv\u001b[49m\u001b[43m)\u001b[49m\n\u001b[1;32m    815\u001b[0m         \u001b[38;5;28;01mif\u001b[39;00m \u001b[38;5;28misinstance\u001b[39m(results[i], ABCSeries):\n\u001b[1;32m    816\u001b[0m             \u001b[38;5;66;03m# If we have a view on v, we need to make a copy because\u001b[39;00m\n\u001b[1;32m    817\u001b[0m             \u001b[38;5;66;03m#  series_generator will swap out the underlying data\u001b[39;00m\n\u001b[1;32m    818\u001b[0m             results[i] \u001b[38;5;241m=\u001b[39m results[i]\u001b[38;5;241m.\u001b[39mcopy(deep\u001b[38;5;241m=\u001b[39m\u001b[38;5;28;01mFalse\u001b[39;00m)\n",
      "File \u001b[0;32m~/anaconda3/lib/python3.10/site-packages/pandas/core/frame.py:10301\u001b[0m, in \u001b[0;36mDataFrame.corrwith.<locals>.<lambda>\u001b[0;34m(x)\u001b[0m\n\u001b[1;32m  10298\u001b[0m this \u001b[38;5;241m=\u001b[39m \u001b[38;5;28mself\u001b[39m\u001b[38;5;241m.\u001b[39m_get_numeric_data() \u001b[38;5;28;01mif\u001b[39;00m numeric_only \u001b[38;5;28;01melse\u001b[39;00m \u001b[38;5;28mself\u001b[39m\n\u001b[1;32m  10300\u001b[0m \u001b[38;5;28;01mif\u001b[39;00m \u001b[38;5;28misinstance\u001b[39m(other, Series):\n\u001b[0;32m> 10301\u001b[0m     \u001b[38;5;28;01mreturn\u001b[39;00m this\u001b[38;5;241m.\u001b[39mapply(\u001b[38;5;28;01mlambda\u001b[39;00m x: \u001b[43mother\u001b[49m\u001b[38;5;241;43m.\u001b[39;49m\u001b[43mcorr\u001b[49m\u001b[43m(\u001b[49m\u001b[43mx\u001b[49m\u001b[43m,\u001b[49m\u001b[43m \u001b[49m\u001b[43mmethod\u001b[49m\u001b[38;5;241;43m=\u001b[39;49m\u001b[43mmethod\u001b[49m\u001b[43m)\u001b[49m, axis\u001b[38;5;241m=\u001b[39maxis)\n\u001b[1;32m  10303\u001b[0m \u001b[38;5;28;01mif\u001b[39;00m numeric_only:\n\u001b[1;32m  10304\u001b[0m     other \u001b[38;5;241m=\u001b[39m other\u001b[38;5;241m.\u001b[39m_get_numeric_data()\n",
      "File \u001b[0;32m~/anaconda3/lib/python3.10/site-packages/pandas/core/series.py:2727\u001b[0m, in \u001b[0;36mSeries.corr\u001b[0;34m(self, other, method, min_periods)\u001b[0m\n\u001b[1;32m   2724\u001b[0m     \u001b[38;5;28;01mreturn\u001b[39;00m np\u001b[38;5;241m.\u001b[39mnan\n\u001b[1;32m   2726\u001b[0m \u001b[38;5;28;01mif\u001b[39;00m method \u001b[38;5;129;01min\u001b[39;00m [\u001b[38;5;124m\"\u001b[39m\u001b[38;5;124mpearson\u001b[39m\u001b[38;5;124m\"\u001b[39m, \u001b[38;5;124m\"\u001b[39m\u001b[38;5;124mspearman\u001b[39m\u001b[38;5;124m\"\u001b[39m, \u001b[38;5;124m\"\u001b[39m\u001b[38;5;124mkendall\u001b[39m\u001b[38;5;124m\"\u001b[39m] \u001b[38;5;129;01mor\u001b[39;00m \u001b[38;5;28mcallable\u001b[39m(method):\n\u001b[0;32m-> 2727\u001b[0m     \u001b[38;5;28;01mreturn\u001b[39;00m \u001b[43mnanops\u001b[49m\u001b[38;5;241;43m.\u001b[39;49m\u001b[43mnancorr\u001b[49m\u001b[43m(\u001b[49m\n\u001b[1;32m   2728\u001b[0m \u001b[43m        \u001b[49m\u001b[43mthis\u001b[49m\u001b[38;5;241;43m.\u001b[39;49m\u001b[43mvalues\u001b[49m\u001b[43m,\u001b[49m\u001b[43m \u001b[49m\u001b[43mother\u001b[49m\u001b[38;5;241;43m.\u001b[39;49m\u001b[43mvalues\u001b[49m\u001b[43m,\u001b[49m\u001b[43m \u001b[49m\u001b[43mmethod\u001b[49m\u001b[38;5;241;43m=\u001b[39;49m\u001b[43mmethod\u001b[49m\u001b[43m,\u001b[49m\u001b[43m \u001b[49m\u001b[43mmin_periods\u001b[49m\u001b[38;5;241;43m=\u001b[39;49m\u001b[43mmin_periods\u001b[49m\n\u001b[1;32m   2729\u001b[0m \u001b[43m    \u001b[49m\u001b[43m)\u001b[49m\n\u001b[1;32m   2731\u001b[0m \u001b[38;5;28;01mraise\u001b[39;00m \u001b[38;5;167;01mValueError\u001b[39;00m(\n\u001b[1;32m   2732\u001b[0m     \u001b[38;5;124m\"\u001b[39m\u001b[38;5;124mmethod must be either \u001b[39m\u001b[38;5;124m'\u001b[39m\u001b[38;5;124mpearson\u001b[39m\u001b[38;5;124m'\u001b[39m\u001b[38;5;124m, \u001b[39m\u001b[38;5;124m\"\u001b[39m\n\u001b[1;32m   2733\u001b[0m     \u001b[38;5;124m\"\u001b[39m\u001b[38;5;124m'\u001b[39m\u001b[38;5;124mspearman\u001b[39m\u001b[38;5;124m'\u001b[39m\u001b[38;5;124m, \u001b[39m\u001b[38;5;124m'\u001b[39m\u001b[38;5;124mkendall\u001b[39m\u001b[38;5;124m'\u001b[39m\u001b[38;5;124m, or a callable, \u001b[39m\u001b[38;5;124m\"\u001b[39m\n\u001b[1;32m   2734\u001b[0m     \u001b[38;5;124mf\u001b[39m\u001b[38;5;124m\"\u001b[39m\u001b[38;5;124m'\u001b[39m\u001b[38;5;132;01m{\u001b[39;00mmethod\u001b[38;5;132;01m}\u001b[39;00m\u001b[38;5;124m'\u001b[39m\u001b[38;5;124m was supplied\u001b[39m\u001b[38;5;124m\"\u001b[39m\n\u001b[1;32m   2735\u001b[0m )\n",
      "File \u001b[0;32m~/anaconda3/lib/python3.10/site-packages/pandas/core/nanops.py:91\u001b[0m, in \u001b[0;36mdisallow.__call__.<locals>._f\u001b[0;34m(*args, **kwargs)\u001b[0m\n\u001b[1;32m     89\u001b[0m \u001b[38;5;28;01mif\u001b[39;00m \u001b[38;5;28many\u001b[39m(\u001b[38;5;28mself\u001b[39m\u001b[38;5;241m.\u001b[39mcheck(obj) \u001b[38;5;28;01mfor\u001b[39;00m obj \u001b[38;5;129;01min\u001b[39;00m obj_iter):\n\u001b[1;32m     90\u001b[0m     f_name \u001b[38;5;241m=\u001b[39m f\u001b[38;5;241m.\u001b[39m\u001b[38;5;18m__name__\u001b[39m\u001b[38;5;241m.\u001b[39mreplace(\u001b[38;5;124m\"\u001b[39m\u001b[38;5;124mnan\u001b[39m\u001b[38;5;124m\"\u001b[39m, \u001b[38;5;124m\"\u001b[39m\u001b[38;5;124m\"\u001b[39m)\n\u001b[0;32m---> 91\u001b[0m     \u001b[38;5;28;01mraise\u001b[39;00m \u001b[38;5;167;01mTypeError\u001b[39;00m(\n\u001b[1;32m     92\u001b[0m         \u001b[38;5;124mf\u001b[39m\u001b[38;5;124m\"\u001b[39m\u001b[38;5;124mreduction operation \u001b[39m\u001b[38;5;124m'\u001b[39m\u001b[38;5;132;01m{\u001b[39;00mf_name\u001b[38;5;132;01m}\u001b[39;00m\u001b[38;5;124m'\u001b[39m\u001b[38;5;124m not allowed for this dtype\u001b[39m\u001b[38;5;124m\"\u001b[39m\n\u001b[1;32m     93\u001b[0m     )\n\u001b[1;32m     94\u001b[0m \u001b[38;5;28;01mtry\u001b[39;00m:\n\u001b[1;32m     95\u001b[0m     \u001b[38;5;28;01mwith\u001b[39;00m np\u001b[38;5;241m.\u001b[39merrstate(invalid\u001b[38;5;241m=\u001b[39m\u001b[38;5;124m\"\u001b[39m\u001b[38;5;124mignore\u001b[39m\u001b[38;5;124m\"\u001b[39m):\n",
      "\u001b[0;31mTypeError\u001b[0m: reduction operation 'corr' not allowed for this dtype"
     ]
    }
   ],
   "source": [
    "print(\"Lagged with target as it will be in 5 years:\")\n",
    "df_targets.corrwith(df_targets.groupby(\"variable\")[\"y_raw\"].shift(-5),method=\"spearman\").round(2).sort_values()"
   ]
  },
  {
   "cell_type": "code",
   "execution_count": null,
   "id": "12d197f8",
   "metadata": {},
   "outputs": [],
   "source": [
    "print(\"(reverse) Lagged with target as it was 5 years ago\")\n",
    "df_targets.corrwith(df_targets.groupby(\"variable\")[\"y_raw\"].shift(5),method=\"spearman\").round(2).sort_values()"
   ]
  },
  {
   "cell_type": "markdown",
   "id": "a1dfd8c0",
   "metadata": {},
   "source": [
    "##### Corr with lagged, diffed target:"
   ]
  },
  {
   "cell_type": "code",
   "execution_count": null,
   "id": "500b9464",
   "metadata": {},
   "outputs": [],
   "source": [
    "print(\"Correlation with target diff_lag5 at same time (not lagged):\")\n",
    "df_targets.corrwith(df_targets[\"diff_lag5\"],method=\"spearman\").round(2).sort_values()"
   ]
  },
  {
   "cell_type": "code",
   "execution_count": null,
   "id": "ad03d071",
   "metadata": {},
   "outputs": [],
   "source": [
    "print(\"Lagged with target diff_lag5 as it will be in 5 years:\")\n",
    "df_targets.corrwith(df_targets.groupby(\"variable\")[\"diff_lag5\"].shift(-5),method=\"spearman\").round(2).sort_values()"
   ]
  },
  {
   "cell_type": "markdown",
   "id": "ba024ee4",
   "metadata": {},
   "source": [
    "`pct_diff`"
   ]
  },
  {
   "cell_type": "code",
   "execution_count": null,
   "id": "705bfe49",
   "metadata": {},
   "outputs": [],
   "source": [
    "print(\"Lagged with target lag5_pct_new, unlagged\")\n",
    "df_targets.corrwith(df_targets[\"lag5_pct_new\"],method=\"spearman\").round(3).sort_values()"
   ]
  },
  {
   "cell_type": "code",
   "execution_count": null,
   "id": "0e8aff5a",
   "metadata": {},
   "outputs": [],
   "source": [
    "print(\"Lagged with target pct_diff (vs 5 y ago) as it will be in 5 years:\")\n",
    "df_targets.corrwith(df_targets.groupby(\"variable\")[\"lag5_pct_new\"].shift(-5),method=\"spearman\").round(2).sort_values()"
   ]
  },
  {
   "cell_type": "code",
   "execution_count": null,
   "id": "d9385863",
   "metadata": {},
   "outputs": [],
   "source": [
    "df_targets.corrwith(df_targets[\"diff_lag5\"].shift(-5),method=\"spearman\").round(2).sort_values()"
   ]
  },
  {
   "cell_type": "code",
   "execution_count": null,
   "id": "e3ed076a",
   "metadata": {
    "scrolled": true
   },
   "outputs": [],
   "source": [
    "df_targets.corrwith(df_targets.groupby(\"variable\")[\"diff_lag5\"].shift(-5),method=\"spearman\").round(2).sort_values()"
   ]
  },
  {
   "cell_type": "markdown",
   "id": "d2ba1936",
   "metadata": {},
   "source": [
    "### Baseline model - lag raw\n",
    "* baseline model of input features, lag 5"
   ]
  },
  {
   "cell_type": "code",
   "execution_count": 17,
   "id": "89eb08f5",
   "metadata": {},
   "outputs": [
    {
     "data": {
      "text/html": [
       "<div>\n",
       "<style scoped>\n",
       "    .dataframe tbody tr th:only-of-type {\n",
       "        vertical-align: middle;\n",
       "    }\n",
       "\n",
       "    .dataframe tbody tr th {\n",
       "        vertical-align: top;\n",
       "    }\n",
       "\n",
       "    .dataframe thead th {\n",
       "        text-align: right;\n",
       "    }\n",
       "</style>\n",
       "<table border=\"1\" class=\"dataframe\">\n",
       "  <thead>\n",
       "    <tr style=\"text-align: right;\">\n",
       "      <th></th>\n",
       "      <th>Year</th>\n",
       "      <th>variable</th>\n",
       "      <th>y_raw</th>\n",
       "      <th>target_5</th>\n",
       "    </tr>\n",
       "  </thead>\n",
       "  <tbody>\n",
       "    <tr>\n",
       "      <th>0</th>\n",
       "      <td>1979-01-01</td>\n",
       "      <td>BLAST</td>\n",
       "      <td>103.5087</td>\n",
       "      <td>109.7888</td>\n",
       "    </tr>\n",
       "    <tr>\n",
       "      <th>1</th>\n",
       "      <td>1979-01-01</td>\n",
       "      <td>Brodmann area</td>\n",
       "      <td>2.1269</td>\n",
       "      <td>2.7169</td>\n",
       "    </tr>\n",
       "    <tr>\n",
       "      <th>2</th>\n",
       "      <td>1979-01-01</td>\n",
       "      <td>Cingulate cortex</td>\n",
       "      <td>13.8248</td>\n",
       "      <td>8.9747</td>\n",
       "    </tr>\n",
       "    <tr>\n",
       "      <th>3</th>\n",
       "      <td>1979-01-01</td>\n",
       "      <td>DNA array</td>\n",
       "      <td>4.2538</td>\n",
       "      <td>12.3464</td>\n",
       "    </tr>\n",
       "    <tr>\n",
       "      <th>4</th>\n",
       "      <td>1979-01-01</td>\n",
       "      <td>Dorsolateral prefrontal cortex</td>\n",
       "      <td>1.0634</td>\n",
       "      <td>2.4026</td>\n",
       "    </tr>\n",
       "    <tr>\n",
       "      <th>...</th>\n",
       "      <td>...</td>\n",
       "      <td>...</td>\n",
       "      <td>...</td>\n",
       "      <td>...</td>\n",
       "    </tr>\n",
       "    <tr>\n",
       "      <th>4170</th>\n",
       "      <td>2015-01-01</td>\n",
       "      <td>vaccine</td>\n",
       "      <td>1467.2528</td>\n",
       "      <td>139.7049</td>\n",
       "    </tr>\n",
       "    <tr>\n",
       "      <th>4171</th>\n",
       "      <td>2015-01-01</td>\n",
       "      <td>viral therapy</td>\n",
       "      <td>588.2531</td>\n",
       "      <td>649.8641</td>\n",
       "    </tr>\n",
       "    <tr>\n",
       "      <th>4172</th>\n",
       "      <td>2015-01-01</td>\n",
       "      <td>vitamin C</td>\n",
       "      <td>188.3969</td>\n",
       "      <td>-24.9629</td>\n",
       "    </tr>\n",
       "    <tr>\n",
       "      <th>4173</th>\n",
       "      <td>2015-01-01</td>\n",
       "      <td>vitamin D</td>\n",
       "      <td>393.6532</td>\n",
       "      <td>13.1577</td>\n",
       "    </tr>\n",
       "    <tr>\n",
       "      <th>4174</th>\n",
       "      <td>2015-01-01</td>\n",
       "      <td>zebra fish</td>\n",
       "      <td>238.4186</td>\n",
       "      <td>70.4693</td>\n",
       "    </tr>\n",
       "  </tbody>\n",
       "</table>\n",
       "<p>4175 rows × 4 columns</p>\n",
       "</div>"
      ],
      "text/plain": [
       "           Year                        variable      y_raw  target_5\n",
       "0    1979-01-01                           BLAST   103.5087  109.7888\n",
       "1    1979-01-01                   Brodmann area     2.1269    2.7169\n",
       "2    1979-01-01                Cingulate cortex    13.8248    8.9747\n",
       "3    1979-01-01                       DNA array     4.2538   12.3464\n",
       "4    1979-01-01  Dorsolateral prefrontal cortex     1.0634    2.4026\n",
       "...         ...                             ...        ...       ...\n",
       "4170 2015-01-01                         vaccine  1467.2528  139.7049\n",
       "4171 2015-01-01                   viral therapy   588.2531  649.8641\n",
       "4172 2015-01-01                       vitamin C   188.3969  -24.9629\n",
       "4173 2015-01-01                       vitamin D   393.6532   13.1577\n",
       "4174 2015-01-01                      zebra fish   238.4186   70.4693\n",
       "\n",
       "[4175 rows x 4 columns]"
      ]
     },
     "execution_count": 17,
     "metadata": {},
     "output_type": "execute_result"
    }
   ],
   "source": [
    "# df_targets[\"target_5\"] = df_targets.groupby(\"variable\")[\"y_raw\"].shift(-2)\n",
    "df_targets[[\"Year\",\"variable\",\"y_raw\",\"target_5\"]]"
   ]
  },
  {
   "cell_type": "code",
   "execution_count": 18,
   "id": "16c6aaa1",
   "metadata": {},
   "outputs": [],
   "source": [
    "# df_lagged = df_targets.dropna(subset=[\"target_5\"],axis=0).copy()\n",
    "\n",
    "df_lagged = df_targets.filter(['variable', 'reviews',\n",
    "                              'patent_count', 'patent_frac','patent_yearly_total',\n",
    "                               'year_num', \n",
    "\"y_raw\",                              ## ADdded: Here it is 5 befre?  NEW\n",
    "                              \"lag5_pct_new\",\"pct_diff_lag5\", ## also new - check not leak? \n",
    "                              'research_review_diff',\n",
    "       'research_review_ratio', 'pct_diff', \n",
    "                              'review_research_ratio_2',\n",
    "       'review_research_diff_2', 'pat_div_research',\n",
    "        'y_diff','y_pct_diff', \n",
    "        'target_5']).reset_index(drop=True)\n",
    "\n",
    "num_cols = list(df_lagged.select_dtypes(\"number\").drop(columns=['target_5',\n",
    "#                                                                 \"y_raw\", ### Keeep? NEW\n",
    "                                                                \"y_raw_predicted\",\"preds\"],errors=\"ignore\").columns)\n",
    "df_lagged = df_lagged.filter([\"variable\",\"target_5\"]+num_cols,axis=1)\n",
    "mask = ~df_lagged[\"target_5\"].isna()\n",
    "# X = df_lagged[[\"variable\"]+num_cols]#.copy() \n",
    "# y = df_lagged[\"target_5\"] ## target in 5Y\n",
    "\n",
    "X = df_lagged[mask][[\"variable\"]+num_cols]#.copy() \n",
    "y = df_lagged[mask][\"target_5\"] ## target in 5Y\n",
    "assert (X.shape[0]>100)\n",
    "assert (y.isna().sum()==0)"
   ]
  },
  {
   "cell_type": "code",
   "execution_count": 19,
   "id": "082fba13",
   "metadata": {
    "scrolled": true
   },
   "outputs": [
    {
     "name": "stdout",
     "output_type": "stream",
     "text": [
      "Pre embed non linear model (with all numeric features)\n",
      "4\n",
      "8\n",
      "12\n",
      "16\n",
      "20\n",
      "24\n",
      "28\n",
      "r2: 0.817\n",
      "MAE (Mean absolute error): 75.736\n",
      "Median absolute error: 28.527\n",
      "RMSE: 167.126\n",
      "explained_variance:  0.817\n",
      "mape: 6.134\n",
      "CPU times: user 46 s, sys: 8.7 s, total: 54.7 s\n",
      "Wall time: 11.9 s\n"
     ]
    }
   ],
   "source": [
    "%%time\n",
    "if GET_DL_EMBEDS:\n",
    "    print(\"Pre embed non linear model (with all numeric features)\")\n",
    "    i = 0\n",
    "    tscv = TimeSeriesSplit(NUM_CV_FOLDS)\n",
    "    df_lagged[\"preds\"] = np.NaN\n",
    "    X2 = X.select_dtypes(\"number\")\n",
    "    for train_index, test_index in tscv.split(X): #df_feat):\n",
    "        i +=1\n",
    "        if (i%4)==0: print(i)\n",
    "        X_train, X_test = X2.iloc[train_index], X2.iloc[test_index]\n",
    "        y_train, y_test = y[train_index], y[test_index]\n",
    "        model = CatBoostRegressor(iterations=300,\n",
    "    #                               cat_features= [\"variable\"],\n",
    "                          verbose=False,has_time=True)\n",
    "        model.fit(X_train, y_train)\n",
    "        y_predict = model.predict(X_test)\n",
    "        assert np.isnan(y_predict).max() == False\n",
    "    #         df_feat.loc[test_index,\"preds\"] =y_predict\n",
    "        df_lagged.iloc[test_index,-1] =y_predict\n",
    "\n",
    "    y_true_base = df_lagged.dropna(subset=[\"preds\"])[\"target_5\"]\n",
    "    y_pred_base = df_lagged.dropna(subset=[\"preds\"])[\"preds\"]\n",
    "    regression_results(y_true_base, y_pred_base)"
   ]
  },
  {
   "cell_type": "code",
   "execution_count": 20,
   "id": "1f02b3e4",
   "metadata": {},
   "outputs": [
    {
     "name": "stderr",
     "output_type": "stream",
     "text": [
      "2023-08-21 12:18:22.086623: I tensorflow/core/util/port.cc:110] oneDNN custom operations are on. You may see slightly different numerical results due to floating-point round-off errors from different computation orders. To turn them off, set the environment variable `TF_ENABLE_ONEDNN_OPTS=0`.\n",
      "2023-08-21 12:18:22.107019: I tensorflow/core/platform/cpu_feature_guard.cc:182] This TensorFlow binary is optimized to use available CPU instructions in performance-critical operations.\n",
      "To enable the following instructions: AVX2 AVX512F AVX512_VNNI AVX512_BF16 FMA, in other operations, rebuild TensorFlow with the appropriate compiler flags.\n",
      "2023-08-21 12:18:22.508407: W tensorflow/compiler/tf2tensorrt/utils/py_utils.cc:38] TF-TRT Warning: Could not find TensorRT\n"
     ]
    },
    {
     "name": "stdout",
     "output_type": "stream",
     "text": [
      "123\n"
     ]
    },
    {
     "data": {
      "application/vnd.jupyter.widget-view+json": {
       "model_id": "2c6a7bbee9274660bee9295939d2cfb8",
       "version_major": 2,
       "version_minor": 0
      },
      "text/plain": [
       "Batches:   0%|          | 0/1 [00:00<?, ?it/s]"
      ]
     },
     "metadata": {},
     "output_type": "display_data"
    },
    {
     "name": "stdout",
     "output_type": "stream",
     "text": [
      "(123, 384)\n",
      "[0.07219416 0.04845907]\n",
      "0.8861598717048764\n",
      "64\n",
      "(4175, 17)\n",
      "(4175, 81)\n"
     ]
    }
   ],
   "source": [
    "## frequently crashes when running on cpu, randomly. # but -  it improves model perf!! \n",
    "if GET_DL_EMBEDS:\n",
    "    import gc\n",
    "    import torch\n",
    "    gc.collect()\n",
    "    torch.cuda.empty_cache()\n",
    "    from sentence_transformers import SentenceTransformer\n",
    "    torch.cuda.empty_cache()\n",
    "    model = SentenceTransformer('all-MiniLM-L12-v2',device=\"cpu\") # same res with L6\n",
    "    #Our sentences we like to encode\n",
    "    sentences = list(df_lagged[\"variable\"].unique())\n",
    "    print(len(sentences))\n",
    "\n",
    "    #Sentences are encoded by calling model.encode()\n",
    "    embeddings = model.encode(sentences,batch_size=128,show_progress_bar=True,)#.to(\"cpu\")\n",
    "\n",
    "    df_embed_feats = pd.DataFrame(index=sentences, data=embeddings)\n",
    "    print(df_embed_feats.shape)\n",
    "    df_embed_feats.columns = [\"embed_\"+str(i) for i in df_embed_feats.columns]\n",
    "    df_embed_feats.to_parquet(\"var_text_embeddings.parquet\")\n",
    "    \n",
    "#     ### OPT - truncate size of dims\n",
    "#     ### Has SAME Results as using all embeds\n",
    "    from sklearn.decomposition import PCA\n",
    "    pca = PCA(64)#64)\n",
    "    pca.fit(df_embed_feats)\n",
    "    print(pca.explained_variance_ratio_[0:2])\n",
    "    print(sum(pca.explained_variance_ratio_))\n",
    "    print(len(pca.singular_values_))\n",
    "    df_embed_feats = pd.DataFrame(pca.transform(df_embed_feats),index=df_embed_feats.index)\n",
    "    df_embed_feats.columns = [\"embed_\"+str(i) for i in df_embed_feats.columns]\n",
    "\n",
    "    print(X.shape)\n",
    "    X = X.join(df_embed_feats,on=\"variable\",how=\"left\")\n",
    "    df_lagged = df_lagged.join(df_embed_feats,on=\"variable\",how=\"left\")\n",
    "    ### our prediction code assumes \"pred\" to be the last column - resort this - hack\n",
    "    temp = df_lagged[\"preds\"]\n",
    "    df_lagged.drop(columns=[\"preds\"],inplace=True)\n",
    "    df_lagged[\"preds\"] = temp\n",
    "    print(X.shape)"
   ]
  },
  {
   "cell_type": "code",
   "execution_count": 21,
   "id": "d03c21a4",
   "metadata": {},
   "outputs": [
    {
     "name": "stdout",
     "output_type": "stream",
     "text": [
      "Naive lag model\n",
      "Baseline Lag model\n",
      "r2: 0.196\n",
      "MAE (Mean absolute error): 180.445\n",
      "Median absolute error: 65.341\n",
      "RMSE: 350.34\n",
      "explained_variance:  0.198\n",
      "mape: 12.831\n"
     ]
    }
   ],
   "source": [
    "print(\"Naive lag model\")\n",
    "\n",
    "\n",
    "i = 0\n",
    "tscv = TimeSeriesSplit(NUM_CV_FOLDS)#10)\n",
    "df_lagged[\"preds\"] = np.NaN\n",
    "X2 = X[[\"y_raw\"]].copy()\n",
    "for train_index, test_index in tscv.split(X2): #df_feat):\n",
    "    i +=1\n",
    "    X_train, X_test = X2.iloc[train_index], X2.iloc[test_index]\n",
    "    y_train, y_test = y[train_index], y[test_index]\n",
    "    model = RidgeCV()#LinearRegression() ## better results\n",
    "    model.fit(X_train, y_train)\n",
    "    y_predict = model.predict(X_test)\n",
    "#         df_feat.loc[test_index,\"preds\"] =y_predict\n",
    "    df_lagged.iloc[test_index,-1] =y_predict\n",
    "    \n",
    "print(\"Baseline Lag model\")\n",
    "y_true_base = df_lagged.dropna(subset=[\"preds\"])[\"target_5\"]\n",
    "y_pred_base = df_lagged.dropna(subset=[\"preds\"])[\"preds\"]\n",
    "\n",
    "assert y_pred_base.shape[0]>4\n",
    "regression_results(y_true_base, y_pred_base)"
   ]
  },
  {
   "cell_type": "code",
   "execution_count": 22,
   "id": "93eb2353",
   "metadata": {},
   "outputs": [
    {
     "name": "stdout",
     "output_type": "stream",
     "text": [
      "Linear model\n",
      "r2: 0.554\n",
      "MAE (Mean absolute error): 149.916\n",
      "Median absolute error: 88.486\n",
      "RMSE: 261.09\n",
      "explained_variance:  0.554\n",
      "mape: 29.342\n",
      "CPU times: user 1.38 s, sys: 3.31 s, total: 4.69 s\n",
      "Wall time: 303 ms\n"
     ]
    }
   ],
   "source": [
    "%%time\n",
    "# ## TMP copy of df, since function expects to put results in df_feat, which doesn't exist yet\n",
    "# df_feat = df_lagged.copy()\n",
    "# # df_feat.drop(columns=[\"preds\"],errors=\"ignore\",inplace=True)\n",
    "# evaluate(model = CatBoostRegressor(verbose=False,has_time=True),X = X[[\"y_raw\"]])\n",
    "\n",
    "# print(\"Baseline Lag model\")\n",
    "# y_true_base = df_feat.dropna(subset=[\"preds\"],axis=0)[\"target_5\"]\n",
    "# y_pred_base = df_feat.dropna(subset=[\"preds\"])[\"preds\"]\n",
    "\n",
    "# regression_results(y_true_base, y_pred_base)\n",
    "\n",
    "i = 0\n",
    "tscv = TimeSeriesSplit(NUM_CV_FOLDS)#10)\n",
    "df_lagged[\"preds\"] = np.NaN\n",
    "X2 = X.select_dtypes([\"number\"]).fillna(X.select_dtypes([\"number\"]).mean()).copy()\n",
    "for train_index, test_index in tscv.split(X2): #df_feat):\n",
    "    i +=1\n",
    "    X_train, X_test = X2.iloc[train_index], X2.iloc[test_index]\n",
    "    y_train, y_test = y[train_index], y[test_index]\n",
    "    model = RidgeCV()#LinearRegression() ## better results\n",
    "    model.fit(X_train, y_train)\n",
    "    y_predict = model.predict(X_test)\n",
    "#         df_feat.loc[test_index,\"preds\"] =y_predict\n",
    "    df_lagged.iloc[test_index,-1] =y_predict\n",
    "    \n",
    "print(\"Linear model\")\n",
    "y_true_base = df_lagged.dropna(subset=[\"preds\"])[\"target_5\"]\n",
    "y_pred_base = df_lagged.dropna(subset=[\"preds\"])[\"preds\"]\n",
    "\n",
    "assert y_pred_base.shape[0]>4\n",
    "regression_results(y_true_base, y_pred_base)"
   ]
  },
  {
   "cell_type": "code",
   "execution_count": 23,
   "id": "2aa81821",
   "metadata": {},
   "outputs": [
    {
     "name": "stdout",
     "output_type": "stream",
     "text": [
      "linear model with all features\n",
      "r2: 0.539\n",
      "MAE (Mean absolute error): 152.423\n",
      "Median absolute error: 90.412\n",
      "RMSE: 265.419\n",
      "explained_variance:  0.539\n",
      "mape: 29.061\n",
      "CPU times: user 1.25 s, sys: 3.92 s, total: 5.17 s\n",
      "Wall time: 323 ms\n"
     ]
    }
   ],
   "source": [
    "%%time\n",
    "print(\"linear model with all features\")\n",
    "i = 0\n",
    "tscv = TimeSeriesSplit(NUM_CV_FOLDS)#10)\n",
    "df_lagged[\"preds\"] = np.NaN\n",
    "X2 = X.select_dtypes(\"number\").dropna(how=\"any\",axis=1)\n",
    "for train_index, test_index in tscv.split(X): \n",
    "    i +=1\n",
    "    X_train, X_test = X2.iloc[train_index], X2.iloc[test_index]\n",
    "    y_train, y_test = y[train_index], y[test_index]\n",
    "#     model = LinearRegression()\n",
    "    model = RidgeCV()\n",
    "    model.fit(X_train, y_train)\n",
    "    y_predict = model.predict(X_test)\n",
    "    assert np.isnan(y_predict).max() == False\n",
    "#         df_feat.loc[test_index,\"preds\"] =y_predict\n",
    "    df_lagged.iloc[test_index,-1] =y_predict\n",
    "\n",
    "y_true_base = df_lagged.dropna(subset=[\"preds\"])[\"target_5\"]\n",
    "y_pred_base = df_lagged.dropna(subset=[\"preds\"])[\"preds\"]\n",
    "regression_results(y_true_base, y_pred_base)"
   ]
  },
  {
   "cell_type": "code",
   "execution_count": 24,
   "id": "cdb0e0ac",
   "metadata": {},
   "outputs": [
    {
     "name": "stdout",
     "output_type": "stream",
     "text": [
      "CPU times: user 1.32 ms, sys: 463 µs, total: 1.79 ms\n",
      "Wall time: 140 µs\n"
     ]
    }
   ],
   "source": [
    "%%time\n",
    "if not GET_DL_EMBEDS:\n",
    "    print(\"non linear model (with all features)\")\n",
    "    i = 0\n",
    "    tscv = TimeSeriesSplit(NUM_CV_FOLDS)\n",
    "    df_lagged[\"preds\"] = np.NaN\n",
    "    X2 = X.copy()\n",
    "    # X2 = X.select_dtypes(\"number\").copy()\n",
    "    for train_index, test_index in tscv.split(X2): #df_feat):\n",
    "        i +=1\n",
    "        if (i%3)==0: print(i)\n",
    "        X_train, X_test = X2.iloc[train_index], X2.iloc[test_index]\n",
    "        y_train, y_test = y[train_index], y[test_index]\n",
    "        model = CatBoostRegressor(#iterations=300,\n",
    "                                  cat_features= [\"variable\"],\n",
    "                          verbose=False,has_time=True)\n",
    "        model.fit(X_train, y_train,\n",
    "                  )\n",
    "        y_predict = model.predict(X_test)\n",
    "        assert np.isnan(y_predict).max() == False\n",
    "    #         df_feat.loc[test_index,\"preds\"] =y_predict\n",
    "        df_lagged.iloc[test_index,-1] =y_predict\n",
    "\n",
    "    y_true_base = df_lagged.dropna(subset=[\"preds\"])[\"target_5\"]\n",
    "    y_pred_base = df_lagged.dropna(subset=[\"preds\"])[\"preds\"]\n",
    "    regression_results(y_true_base, y_pred_base)\n",
    "\n",
    "# ## pct change, with categorical, AND with DL, 30 folds: \n",
    "# r2: 0.438\n",
    "# MAE (Mean absolute error): 47.867\n",
    "# Median absolute error: 14.904\n",
    "# RMSE: 217.729\n",
    "# explained_variance:  0.438\n",
    "# mape: 1.796\n",
    "\n",
    "## this model does better when not using DL embeddings"
   ]
  },
  {
   "cell_type": "code",
   "execution_count": 25,
   "id": "259fbae4",
   "metadata": {},
   "outputs": [
    {
     "name": "stdout",
     "output_type": "stream",
     "text": [
      "non linear model (with numeric features)\n",
      "3\n",
      "6\n",
      "9\n",
      "12\n",
      "15\n",
      "18\n",
      "21\n",
      "24\n",
      "27\n",
      "30\n",
      "r2: 0.889\n",
      "MAE (Mean absolute error): 56.613\n",
      "Median absolute error: 20.913\n",
      "RMSE: 130.474\n",
      "explained_variance:  0.889\n",
      "mape: 4.399\n",
      "CPU times: user 5min 47s, sys: 28.8 s, total: 6min 16s\n",
      "Wall time: 48.5 s\n"
     ]
    }
   ],
   "source": [
    "%%time\n",
    "if GET_DL_EMBEDS:\n",
    "    print(\"non linear model (with numeric features)\")\n",
    "    i = 0\n",
    "    tscv = TimeSeriesSplit(NUM_CV_FOLDS)\n",
    "    df_lagged[\"preds\"] = np.NaN\n",
    "    X2 = X.select_dtypes(\"number\").copy()\n",
    "    for train_index, test_index in tscv.split(X2): #df_feat):\n",
    "        i +=1\n",
    "        if (i%3)==0: print(i)\n",
    "        X_train, X_test = X2.iloc[train_index], X2.iloc[test_index]\n",
    "        y_train, y_test = y[train_index], y[test_index]\n",
    "        model = CatBoostRegressor(verbose=False,has_time=True)\n",
    "        model.fit(X_train, y_train)\n",
    "        y_predict = model.predict(X_test)\n",
    "        assert np.isnan(y_predict).max() == False\n",
    "    #         df_feat.loc[test_index,\"preds\"] =y_predict\n",
    "        df_lagged.iloc[test_index,-1] =y_predict\n",
    "\n",
    "    y_true_base = df_lagged.dropna(subset=[\"preds\"])[\"target_5\"]\n",
    "    y_pred_base = df_lagged.dropna(subset=[\"preds\"])[\"preds\"]\n",
    "    regression_results(y_true_base, y_pred_base)\n",
    "\n",
    "\n",
    "# # pct change, without categorical, with DL, 30 folds: \n",
    "# r2: 0.447\n",
    "# MAE (Mean absolute error): 48.291\n",
    "# Median absolute error: 15.114\n",
    "# RMSE: 216.043\n",
    "# explained_variance:  0.447\n",
    "# mape: 1.721"
   ]
  },
  {
   "cell_type": "markdown",
   "id": "675a2080",
   "metadata": {},
   "source": [
    "## Binary classification results\n",
    "*  `>=` vs decreased"
   ]
  },
  {
   "cell_type": "code",
   "execution_count": 31,
   "id": "b5cb50da",
   "metadata": {},
   "outputs": [
    {
     "name": "stdout",
     "output_type": "stream",
     "text": [
      "0.31417910447761194\n",
      "0.31965174129353235\n",
      "              precision    recall  f1-score   support\n",
      "\n",
      "       False       0.92      0.91      0.91      2757\n",
      "        True       0.81      0.82      0.81      1263\n",
      "\n",
      "    accuracy                           0.88      4020\n",
      "   macro avg       0.86      0.87      0.86      4020\n",
      "weighted avg       0.88      0.88      0.88      4020\n",
      "\n"
     ]
    }
   ],
   "source": [
    "# y_true_base, y_pred_base\n",
    "y_binary_true = y_true_base<0\n",
    "print(y_binary_true.mean())\n",
    "\n",
    "y_binary_pred = y_pred_base<0\n",
    "print(y_binary_pred.mean())\n",
    "\n",
    "print(classification_report(y_true=y_binary_true,y_pred=y_binary_pred))"
   ]
  },
  {
   "cell_type": "code",
   "execution_count": 36,
   "id": "46cc00e9",
   "metadata": {},
   "outputs": [
    {
     "name": "stdout",
     "output_type": "stream",
     "text": [
      "              precision    recall  f1-score   support\n",
      "\n",
      "       False       0.82      0.93      0.87        54\n",
      "        True       0.94      0.84      0.89        69\n",
      "\n",
      "    accuracy                           0.88       123\n",
      "   macro avg       0.88      0.88      0.88       123\n",
      "weighted avg       0.88      0.88      0.88       123\n",
      "\n"
     ]
    }
   ],
   "source": [
    "max_date_mask = X[\"year_num\"]==X[\"year_num\"].max()\n",
    "\n",
    "print(classification_report(y_true=y_binary_true[max_date_mask],y_pred=y_binary_pred[max_date_mask]))"
   ]
  },
  {
   "cell_type": "code",
   "execution_count": 27,
   "id": "07a91d00",
   "metadata": {
    "scrolled": true
   },
   "outputs": [],
   "source": [
    "# list(X.select_dtypes(\"number\").columns[-64:])\n",
    "# [X.columns.get_loc(c) for c in X.columns if ((c in X) and \"embed\" in c)]"
   ]
  },
  {
   "cell_type": "code",
   "execution_count": null,
   "id": "4719d49f",
   "metadata": {
    "scrolled": true
   },
   "outputs": [],
   "source": [
    "# # list(df_embed_feats[[c for c in X.columns if \"embed\" in c]].values)\n",
    "# X[\"embed\"] = list(X[[c for c in X.columns if \"embed\" in c]].values) # has error wit hembed feat\n",
    "\n",
    "# X[\"embed\"]"
   ]
  },
  {
   "cell_type": "code",
   "execution_count": null,
   "id": "676128e2",
   "metadata": {},
   "outputs": [],
   "source": [
    "# !pip install -U tensorflow==2.10  ## needed to avoid compat error .. ? \n",
    "import shap\n",
    "\n",
    "# X2 = X.select_dtypes(\"number\").copy()\n",
    "X2 = X.copy()\n",
    "model = CatBoostRegressor(#iterations=500,\n",
    "                          cat_features= [\"variable\",\"embed\"],\n",
    "                      verbose=False,has_time=True,\n",
    "#      embedding_features=[\"embed\"],\n",
    "#                       embedding_features=[X2.columns.get_loc(c) for c in X2.columns if ((c in X2) and \"embed\" in c)]\n",
    "                            )\n",
    "model.fit(X2,y)\n",
    "# explain the model's predictions using SHAP\n",
    "# (same syntax works for LightGBM, CatBoost, scikit-learn, transformers, Spark, etc.)\n",
    "explainer = shap.Explainer(model)\n",
    "shap_values = explainer(X2)\n",
    "\n",
    "# summarize the effects of all the features\n",
    "shap.plots.beeswarm(shap_values,max_display=15,)\n",
    "# shap.plots.bar(shap_values)"
   ]
  },
  {
   "cell_type": "code",
   "execution_count": null,
   "id": "47be1d82",
   "metadata": {},
   "outputs": [],
   "source": [
    "print(\"fillna Baseline Lag model\")\n",
    "y_true_base = df_lagged[\"target_5\"].fillna(0)\n",
    "y_pred_base = df_lagged[\"y_raw\"].fillna(0)\n",
    "\n",
    "regression_results(y_true_base, y_pred_base)"
   ]
  },
  {
   "cell_type": "code",
   "execution_count": null,
   "id": "30d78ea1",
   "metadata": {},
   "outputs": [],
   "source": [
    "print(\"Baseline Single feature model (vs +5Y)\")\n",
    "### new\n",
    "y_true_base = df_lagged.dropna(subset=[\"preds\"])[\"target_5\"]\n",
    "y_pred_base = df_lagged.dropna(subset=[\"preds\"])[\"y_raw\"]\n",
    "\n",
    "regression_results(y_true_base, y_pred_base)"
   ]
  },
  {
   "cell_type": "markdown",
   "id": "b995be6b",
   "metadata": {},
   "source": [
    "* Baseline lag model with just raw variables (res, pat, reviews + year, variable):\n",
    "```\n",
    "Baseline Lag model\n",
    "r2:  0.787\n",
    "MAE (Mean absolute error): 302.0646\n",
    "Median absolute error): 171.7013\n",
    "RMSE:  546.6826\n",
    "explained_variance:  0.7893\n",
    "mean_squared_log_error:  2.3782\n",
    "```\n",
    "\n",
    "\n",
    "* Baseline lag model with ~all variables (including engineered) gets results closer to SB bt still inferior:\n",
    "```\n",
    "Baseline+ engineered Lag model\n",
    "r2:  0.913\n",
    "MAE (Mean absolute error): 162.549\n",
    "Median absolute error): 71.4473\n",
    "RMSE:  350.1588\n",
    "explained_variance:  0.9132\n",
    "```"
   ]
  },
  {
   "cell_type": "markdown",
   "id": "3f7bfc5e",
   "metadata": {},
   "source": [
    "SB model (copied from below):\n",
    "```\n",
    "r2:  0.965\n",
    "MAE (Mean absolute error): 102.1891\n",
    "Median absolute error): 32.6761\n",
    "RMSE:  254.8408\n",
    "explained_variance:  0.9652\n",
    "```"
   ]
  },
  {
   "cell_type": "markdown",
   "id": "ae68c179",
   "metadata": {},
   "source": [
    "### Get future predictions"
   ]
  },
  {
   "cell_type": "markdown",
   "id": "6d8c558a",
   "metadata": {},
   "source": [
    "###### ful data for future predictions\n",
    "* Note, there's some \"bad rows\" from early dates - likely due to wrong annotations. Could drop from full data, ignore for now"
   ]
  },
  {
   "cell_type": "code",
   "execution_count": null,
   "id": "fec186ec",
   "metadata": {},
   "outputs": [],
   "source": [
    "df_future_targets = df_targets_orig_full.filter(df_lagged.columns,axis=1)\n",
    "\n",
    "if GET_DL_EMBEDS:\n",
    "    df_future_targets = df_future_targets.join(df_embed_feats,on=\"variable\",how=\"left\")\n",
    "\n",
    "df_future_targets = df_future_targets.loc[df_future_targets[\"target_5\"].isna()]\n",
    "display(df_future_targets)\n",
    "df_future_targets = df_future_targets.loc[df_future_targets[\"year_num\"]>2012].drop(columns=[\"target_5\"],errors=\"ignore\").drop_duplicates()\n",
    "print(df_future_targets.shape[0])"
   ]
  },
  {
   "cell_type": "code",
   "execution_count": null,
   "id": "ea7bc1d9",
   "metadata": {},
   "outputs": [],
   "source": [
    "df_future_targets.columns"
   ]
  },
  {
   "cell_type": "code",
   "execution_count": null,
   "id": "6de3f013",
   "metadata": {},
   "outputs": [],
   "source": [
    "y.describe()"
   ]
  },
  {
   "cell_type": "code",
   "execution_count": null,
   "id": "209d5192",
   "metadata": {},
   "outputs": [],
   "source": [
    "# X[X[\"year_num\"]>2005]  # ~1200 rows\n",
    "y.tail(1000).describe().round(1)"
   ]
  },
  {
   "cell_type": "code",
   "execution_count": null,
   "id": "d2592366",
   "metadata": {},
   "outputs": [],
   "source": [
    "VIEW_COLS_LST =['variable', 'pred', 'y_raw',\"pred_year\", 'year_num',\n",
    "                'reviews', 'patent_count',\n",
    "       'pct_diff_lag5', 'y_diff', 'y_pct_diff']\n",
    "model = CatBoostRegressor(#iterations=700,\n",
    "                          cat_features= [\"variable\"],\n",
    "                      verbose=False,has_time=True)\n",
    "model.fit(X, y)#,baseline=X_train[\"y_raw\"]\n",
    "df_future_targets[\"pred_year\"] = df_future_targets[\"year_num\"]+5\n",
    "df_future_targets = df_future_targets.loc[df_future_targets[\"pred_year\"]>=2019].reset_index(drop=True)\n",
    "df_future_targets[\"pred\"] = model.predict(df_future_targets.drop(columns=[\"pred\",\"pred_year\"],errors=\"ignore\")).round(2)\n",
    "df_future_targets.sort_values([\"pred\",\"variable\"],inplace=True)\n",
    "\n",
    "df_res = df_future_targets.loc[df_future_targets[\"pred_year\"].between(2022,2022)][VIEW_COLS_LST].round(2)\n",
    "# display(df_future_targets[VIEW_COLS_LST].round(2).drop_duplicates(subset=[\"variable\"],keep=\"first\").head(10))\n",
    "# display(df_future_targets[VIEW_COLS_LST].round(2).tail(15))\n",
    "\n",
    "display(df_res.drop_duplicates(subset=[\"variable\"],keep=\"first\").head(15))\n",
    "display(df_res.tail(15))"
   ]
  },
  {
   "cell_type": "markdown",
   "id": "27b5bc74",
   "metadata": {},
   "source": [
    "* declining (predicted, and actual) pop terms:\n",
    "https://esperr.github.io/pubmed-by-year/?q1=pituitary%20gland&q2=serotonin&q3=eugenics&q4=Medulla%20oblongata&q5=influenza&q6=DNA%20array&q7=junk%20dna&q8=subthalamus&q9=neuropeptide&startyear=2000&endyear=2022\n",
    "\n",
    "\n",
    "* PRedicted to increase terms:\n",
    "\n",
    "`https://esperr.github.io/pubmed-by-year/?q1=Mononucleosis&q2=Drug%20repurposing&q3=machine%20learning&q4=Synthetic%20Biology&q5=NGS&q6=cumin&q7=nanopore&q8=cannabidiol&q9=graph%20neural%20network&q10=metabolome&q11=carbon%20nanotubes&q12=illumina&q13=miRNA&q14=biosimilar&q15=connectome&q16=lncRNA&q17=natural%20medicine&q18=CRISPR&q19=lithium&startyear=2000`"
   ]
  },
  {
   "cell_type": "code",
   "execution_count": null,
   "id": "728b6fbe",
   "metadata": {},
   "outputs": [],
   "source": [
    "df_res.drop_duplicates(subset=[\"variable\"],keep=\"first\").head(15)[\"variable\"].unique()"
   ]
  },
  {
   "cell_type": "code",
   "execution_count": null,
   "id": "b0d4c571",
   "metadata": {},
   "outputs": [],
   "source": [
    "print(\"Increasing (predicted) popularity:\")\n",
    "display(df_res.drop_duplicates(subset=[\"variable\"],keep=\"last\").tail(20))\n",
    "df_res.drop_duplicates(subset=[\"variable\"],keep=\"last\").tail(20)[\"variable\"].unique()"
   ]
  },
  {
   "cell_type": "markdown",
   "id": "4c5685d7",
   "metadata": {},
   "source": [
    "### (Predicted) Non trivial flips of direction\n",
    "* cases where prediction is in a different direction than 5Y, 1 Y momentum\n",
    "    * Many are ~ 0 change (i.e. nearly stable , but can shift a bit up or down)\n",
    "    \n",
    "https://esperr.github.io/pubmed-by-year/?q1=Norepinephrine&q2=HMM&q3=zebra%20fish&q4=savant&q5=genetic%20algorithm&q6=carbon%20dating&q7=ancient%20viruses&q8=viral%20therapy&q9=amygdala&q10=eugenics&q11=carbon%20nanotubes&q12=cerebellum&q13=hippocampus&q14=MRI&q15=Mononucleosis&q16=neocortex&q17=antibiotic&startyear=2005"
   ]
  },
  {
   "cell_type": "code",
   "execution_count": null,
   "id": "86e3f26d",
   "metadata": {},
   "outputs": [],
   "source": [
    "flip_trend_mask = (np.sign(df_res[\"pct_diff_lag5\"]) != np.sign(df_res[\"pred\"]))\\\n",
    "          & (np.sign(df_res[\"y_pct_diff\"]) != np.sign(df_res[\"pred\"]))\n",
    "print(df_res.loc[flip_trend_mask][\"variable\"].unique())\n",
    "df_res.loc[(flip_trend_mask) & (df_res['y_pct_diff'].abs().round(2)> 0)][['variable', 'pred', 'y_raw',\"pred_year\", 'y_diff', 'y_pct_diff']]#[\"variable\"].unique()\n"
   ]
  },
  {
   "cell_type": "code",
   "execution_count": null,
   "id": "c00ff67d",
   "metadata": {},
   "outputs": [],
   "source": [
    "df_res.drop_duplicates(subset=[\"variable\"],keep=\"first\").head(9)[\"variable\"].unique()\n",
    "\n",
    "## actual search res (terms all declined):\n",
    "## https://esperr.github.io/pubmed-by-year/?q1=eugenics&q2=somatosensory%20cortex&q3=junk%20dna&q4=influenza&q5=soy%20milk&q6=paleocortex&q7=ancient%20dna&startyear=1990"
   ]
  },
  {
   "cell_type": "code",
   "execution_count": null,
   "id": "446aa611",
   "metadata": {},
   "outputs": [],
   "source": [
    "df_future_targets.loc[df_future_targets.reset_index().groupby(['variable'])['pred'].idxmax()].sort_values(\"pred\")"
   ]
  },
  {
   "cell_type": "markdown",
   "id": "d716185d",
   "metadata": {},
   "source": [
    "### Features data"
   ]
  },
  {
   "cell_type": "markdown",
   "id": "ea780e8f",
   "metadata": {},
   "source": [
    "* change to after start"
   ]
  },
  {
   "cell_type": "code",
   "execution_count": null,
   "id": "02565020",
   "metadata": {
    "scrolled": true
   },
   "outputs": [],
   "source": [
    "df_feat = pd.read_csv(\"trends_demo_rev22_predicted.tsv.gz\",sep=\"\\t\",parse_dates=[\"Year\",\"first\",\"start\"])\n",
    "\n",
    "df_feat = df_feat.loc[df_feat[\"Year\"]> df_feat[\"start\"]]\n",
    "df_feat = df_feat.loc[(df_feat[\"Year\"]> df_feat[\"start\"]) & (df_feat[\"year_num\"]>= 1979) ].reset_index(drop=True)\n",
    "\n",
    "df_feat.sort_values(\"Year\",inplace=True,ascending=True) ## sort by year , not topic\n",
    "df_feat[\"variable\"] = df_feat[\"variable\"].str.strip('\"')\n",
    "\n",
    "df = df_feat.filter(['Year', 'variable', 'y_raw',\"preds\",'y_raw_predicted',  'first', 'start', 'year_num',\n",
    "               \"pct_diff_lag6\"],axis=1).set_index(\"Year\").copy()\n",
    "\n",
    "df.rename(columns={\"y_raw_predicted\":\"preds\"},inplace=True)\n",
    "df"
   ]
  },
  {
   "cell_type": "code",
   "execution_count": null,
   "id": "ae9cac67",
   "metadata": {},
   "outputs": [],
   "source": [
    "if GET_DL_EMBEDS:\n",
    "    df_embed_feats = pd.read_parquet(\"var_text_embeddings.parquet\")\n",
    "    print(df_embed_feats.shape)\n",
    "#     df_embed_feats.columns = [\"embed_\"+str(i) for i in df_embed_feats.columns]\n",
    "\n",
    "#     ### OPT - truncate size of dims\n",
    "#     ### Has SAME Results as using all embeds\n",
    "    from sklearn.decomposition import PCA\n",
    "    pca = PCA(64)\n",
    "    pca.fit(df_embed_feats)\n",
    "    print(pca.explained_variance_ratio_[0:2])\n",
    "    print(sum(pca.explained_variance_ratio_))\n",
    "    print(len(pca.singular_values_))\n",
    "    df_embed_feats = pd.DataFrame(pca.transform(df_embed_feats),index=df_embed_feats.index)\n",
    "    df_embed_feats.columns = [\"embed_\"+str(i) for i in df_embed_feats.columns]\n",
    "\n",
    "    print(df_feat.shape)\n",
    "#     X = X.join(df_embed_feats,on=\"variable\",how=\"left\")\n",
    "#     df_lagged = df_lagged.join(df_embed_feats,on=\"variable\",how=\"left\")\n",
    "    df_feat = df_feat.join(df_embed_feats,on=\"variable\",how=\"left\")\n",
    "    print(df_feat.shape)"
   ]
  },
  {
   "cell_type": "code",
   "execution_count": null,
   "id": "eaec7c8a",
   "metadata": {},
   "outputs": [],
   "source": [
    "df_feat = df_feat.filter(list(df_feat.select_dtypes([\"number\"]).columns)+[\"variable\"],axis=1)\n",
    "df_feat = df_feat.T.drop_duplicates().T.infer_objects() ## drop some duplicate cols\n",
    "\n",
    "# changed:\n",
    "df_feat[\"variable\"] = df_feat[\"variable\"].astype(\"category\")\n",
    "df_feat.reset_index(inplace=True,drop=True)\n",
    "\n",
    "\n",
    "### make prettier column names from SB features\n",
    "# truncate long numbers in the column names\n",
    "# df_feat.columns = df_feat.columns.str.replace(r'\\d+\\.\\d{3}\\d*', lambda x: '{:.3f}'.format(float(x.group(0))))\n",
    "df_feat.columns = df_feat.columns.str.replace(r'\\d+\\.\\d{3}\\d*', lambda x: '{:.2f}'.format(float(x.group(0))),regex=True) # changed top .2f res\n",
    "\n",
    "# df_feat.columns = df_feat.columns.str.replace(\"and 5 years before\",\"before\")\n",
    "df_feat.columns = df_feat.columns.str.replace(\"between 11 years and 5 years before\",\"between 11 and 5 years before\")\n",
    "df_feat.columns = df_feat.columns.str.replace(\"between 11 years and 5 years before\",\"between 20 and 5 years before\")\n",
    "df_feat.columns = df_feat.columns.str.replace(\"trends_context_v5.csv.gz_\",\"trends-\")\n",
    "df_feat.columns = df_feat.columns.str.replace(\"Year\",\"date\")\n",
    "df_feat.columns = df_feat.columns.str.replace(\"(?<!^)variable\",\"topic\",regex=True)\n",
    "\n",
    "df_feat.columns = df_feat.columns.str.replace(\"_from_date_\",\"\")\n",
    "df_feat.columns = df_feat.columns.str.replace(\"_with_5_years_offset\",\"\")\n",
    "## drop y_raw_predicted ? \n",
    "\n",
    "display(df_feat.head(7))"
   ]
  },
  {
   "cell_type": "code",
   "execution_count": null,
   "id": "295576b4",
   "metadata": {},
   "outputs": [],
   "source": [
    "# df.groupby([\"variable\"])[\"y_raw\"].transform(\"pct_change\").reset_index()#.describe()\n",
    "### highlky variable topics : \n",
    "# df.groupby([\"variable\"])[\"pct_diff_lag6\"].std().sort_values(ascending=False)"
   ]
  },
  {
   "cell_type": "code",
   "execution_count": null,
   "id": "838fcaf9",
   "metadata": {},
   "outputs": [],
   "source": [
    "df[\"variable\"].unique()"
   ]
  },
  {
   "cell_type": "code",
   "execution_count": null,
   "id": "d5bc7ea9",
   "metadata": {},
   "outputs": [],
   "source": [
    "df[\"variable\"].value_counts().sort_values()"
   ]
  },
  {
   "cell_type": "code",
   "execution_count": null,
   "id": "ab994ba2",
   "metadata": {},
   "outputs": [],
   "source": [
    "df[\"variable\"].value_counts().sort_values().hist()"
   ]
  },
  {
   "cell_type": "markdown",
   "id": "9025e6f9",
   "metadata": {},
   "source": [
    "##### Check variables with high/low errors\n",
    "* +- those with few cases?\n",
    "* I make a pseudo % error target."
   ]
  },
  {
   "cell_type": "code",
   "execution_count": null,
   "id": "dd19318b",
   "metadata": {},
   "outputs": [],
   "source": [
    "df[\"error_pct\"] = 100*(df[\"y_raw\"].sub(df[\"preds\"])).div(df[\"y_raw\"]).round(3).replace([np.inf, -np.inf], np.nan)\n",
    "display(df[\"error_pct\"].describe().round(1)) # .dropna(axis=0)"
   ]
  },
  {
   "cell_type": "markdown",
   "id": "10fe908d",
   "metadata": {},
   "source": [
    "### We see the highest errors in the cases with very short time-frames"
   ]
  },
  {
   "cell_type": "code",
   "execution_count": null,
   "id": "6d10be03",
   "metadata": {},
   "outputs": [],
   "source": [
    "df.groupby([\"variable\"])[\"error_pct\"].median().sort_values()"
   ]
  },
  {
   "cell_type": "markdown",
   "id": "f401bd55",
   "metadata": {},
   "source": [
    "### REMOVE variables with too few cases\n",
    "* this will improve modelling results! "
   ]
  },
  {
   "cell_type": "code",
   "execution_count": null,
   "id": "19c8ed3b",
   "metadata": {},
   "outputs": [],
   "source": [
    "if FILTER_GROUP_SIZES:\n",
    "    print(df_feat.shape[0])\n",
    "    element_group_sizes = df_feat['variable'].groupby(df_feat['variable']).transform('count')\n",
    "    df_feat = df_feat[element_group_sizes>6]\n",
    "    df_feat.reset_index(inplace=True,drop=True) # otherwise, error ?? \n",
    "    print(df_feat.shape[0])"
   ]
  },
  {
   "cell_type": "code",
   "execution_count": null,
   "id": "4627606e",
   "metadata": {},
   "outputs": [],
   "source": [
    "display(df_feat[\"y_raw\"].describe().round(2))"
   ]
  },
  {
   "cell_type": "markdown",
   "id": "d24c88c4",
   "metadata": {},
   "source": [
    "#### opt: make different, touger differenced target"
   ]
  },
  {
   "cell_type": "code",
   "execution_count": null,
   "id": "b09449c2",
   "metadata": {},
   "outputs": [],
   "source": [
    "# if DIFF_TARGET:\n",
    "#     df_feat[\"y_raw\"] = df_feat[\"y_raw\"].sub(df_feat[\"lag5\"])\n",
    "# #     df_feat[\"y_raw\"] = df_feat[\"y_raw\"].div(df_feat[\"lag5\"]) # alt, pct change target\n",
    "#     df_feat.dropna(subset=[\"y_raw\"],inplace=True,axis=0)\n",
    "#     df_feat.reset_index(inplace=True,drop=True)\n",
    "#     display(df_feat[\"y_raw\"].describe().round(2))\n",
    "\n",
    "if DIFF_TARGET_PCT:\n",
    "    df_feat[\"y_raw\"] = 100*df_feat[\"y_raw\"].sub(df_feat[\"lag5\"]).div(df_feat[\"lag5\"]).round(4) # alt, pct change target\n",
    "    ### note outliers.. \n",
    "elif DIFF_TARGET:\n",
    "    df_feat[\"y_raw\"] = df_feat[\"y_raw\"].sub(df_feat[\"lag5\"])\n",
    "#     df_feat[\"y_raw\"] = df_feat[\"y_raw\"].div(df_feat[\"lag5\"]) # alt, pct change target\n",
    "if DIFF_TARGET_PCT or DIFF_TARGET:\n",
    "    df_feat.dropna(subset=[\"y_raw\"],inplace=True)\n",
    "    df_feat.reset_index(inplace=True,drop=True)\n",
    "    display(df_feat[\"y_raw\"].describe().round(2))"
   ]
  },
  {
   "cell_type": "markdown",
   "id": "42d40f5a",
   "metadata": {},
   "source": [
    "### temporal CV\n",
    "\n",
    "* https://stackoverflow.com/questions/41753795/sklearn-timeseriessplit-cross-val-predict-only-works-for-partitions"
   ]
  },
  {
   "cell_type": "code",
   "execution_count": null,
   "id": "5f55642c",
   "metadata": {},
   "outputs": [],
   "source": [
    "num_cols = list(df_feat.select_dtypes(\"number\").drop(columns=[\"y_raw\",\"y_raw_predicted\",\"preds\"],errors=\"ignore\").columns)\n",
    "\n",
    "# X = df_feat.filter([\"variable\"]+num_cols,axis=1).copy()\n",
    "\n",
    "X = df_feat[[\"variable\"]+num_cols]#.copy() # try values ? \n",
    "# X = X.fillna(0)\n",
    "y = df_feat[\"y_raw\"]#.copy()#.values\n",
    "\n",
    "# ## https://stackoverflow.com/questions/41753795/sklearn-timeseriessplit-cross-val-predict-only-works-for-partitions\n",
    "# preds = cross_val_predict(clf,X.fillna(0),y,cv=cv.split(df_feat))"
   ]
  },
  {
   "cell_type": "code",
   "execution_count": null,
   "id": "e9026361",
   "metadata": {},
   "outputs": [],
   "source": [
    "print(len(X))\n",
    "X"
   ]
  },
  {
   "cell_type": "markdown",
   "id": "8d79f513",
   "metadata": {},
   "source": [
    "#### RFECV FS - check overfitting\n",
    "* We see that the best model uses just the features we had engineered in advance (lags and basic transformations).\n",
    "* since we made those in advance and had such a model, using them is not overly problematic. "
   ]
  },
  {
   "cell_type": "code",
   "execution_count": null,
   "id": "0b9771f5",
   "metadata": {
    "scrolled": true
   },
   "outputs": [],
   "source": [
    "%%time\n",
    "if DO_RFE_FS:\n",
    "    sfs = RFECV(ElasticNet(l1_ratio=0.35), min_features_to_select=7,step=0.05,\n",
    "                n_jobs=-1,cv=TimeSeriesSplit())\n",
    "    sfs.fit(X.select_dtypes(\"number\"), y)\n",
    "    print(len(sfs.get_feature_names_out()))\n",
    "    list(sfs.get_feature_names_out())\n",
    "\n",
    "if DO_RFE_FS:\n",
    "    print(len(sfs.get_feature_names_out()))\n",
    "    list(sfs.get_feature_names_out())\n",
    "\n",
    "    # X2 = sfs.transform(X.select_dtypes(\"number\"))\n",
    "    X2 = X.filter(list(set([\"variable\",\"year_num\",\"lag5\"]+list(sfs.get_feature_names_out()))),axis=1).copy()\n",
    "    X2\n",
    "else: \n",
    "    X2 = X.copy()"
   ]
  },
  {
   "cell_type": "code",
   "execution_count": null,
   "id": "188ab0f0",
   "metadata": {},
   "outputs": [],
   "source": [
    "### keep subset feats!\n",
    "print(\"Filter feats\")\n",
    "X = X2\n",
    "print(X.shape[1])"
   ]
  },
  {
   "cell_type": "code",
   "execution_count": null,
   "id": "7625d689",
   "metadata": {},
   "outputs": [],
   "source": [
    "# cv = TimeSeriesSplit(n_splits=NUM_CV_FOLDS)\n",
    "# clf = Ridge(alpha=0.5) # HistGradientBoostingRegressor\n",
    "# clf =HistGradientBoostingRegressor(categorical_features=categorical_mask)\n",
    "from sklearn.pipeline import make_pipeline\n",
    "from sklearn.compose import make_column_transformer\n",
    "from sklearn.compose import make_column_selector\n",
    "from sklearn.preprocessing import OrdinalEncoder\n",
    "import numpy as np"
   ]
  },
  {
   "cell_type": "code",
   "execution_count": null,
   "id": "78727251",
   "metadata": {
    "scrolled": true
   },
   "outputs": [],
   "source": [
    "%%time \n",
    "print(\"CB full model\")\n",
    "# tscv = TimeSeriesSplit(NUM_CV_FOLDS)\n",
    "df_feat[\"preds\"] = np.NaN\n",
    "\n",
    "evaluate(X=X)\n",
    "\n",
    "display(df_feat.filter([\"year_num\",\"y_raw\",\"preds\",\"y_raw_predicted\",\"variable\"],axis=1).dropna(axis=0))\n",
    "print(df_feat.filter([\"year_num\",\"y_raw\",\"preds\",\"y_raw_predicted\"],axis=1).corrwith(df_feat[\"y_raw\"]).round(3).sort_values())\n",
    "\n",
    "y_true = df_feat.dropna(subset=[\"preds\"])[\"y_raw\"]\n",
    "y_pred = df_feat.dropna(subset=[\"preds\"])[\"preds\"]\n",
    "\n",
    "regression_results(y_true, y_pred)"
   ]
  },
  {
   "cell_type": "code",
   "execution_count": null,
   "id": "4d3631df",
   "metadata": {
    "scrolled": true
   },
   "outputs": [],
   "source": [
    "print(\"Linear model\")\n",
    "evaluate(model=RidgeCV(),X=X.select_dtypes(\"number\"))\n",
    "y_true = df_feat.dropna(subset=[\"preds\"])[\"y_raw\"]\n",
    "y_pred = df_feat.dropna(subset=[\"preds\"])[\"preds\"]\n",
    "\n",
    "regression_results(y_true, y_pred)"
   ]
  },
  {
   "cell_type": "code",
   "execution_count": null,
   "id": "28c0fc08",
   "metadata": {},
   "outputs": [],
   "source": [
    "### single feature baseline\n",
    "regression_results(y_true, y_pred=df_feat.dropna(subset=[\"preds\"])[\"lag5\"])"
   ]
  },
  {
   "cell_type": "code",
   "execution_count": null,
   "id": "33119d06",
   "metadata": {},
   "outputs": [],
   "source": [
    "df_feat.set_index(\"year_num\",inplace=True)"
   ]
  },
  {
   "cell_type": "code",
   "execution_count": null,
   "id": "a36b73c5",
   "metadata": {},
   "outputs": [],
   "source": [
    "### NOTE: time series CV has nans in predictions, note this when comparing! (e.g. first row per var)\n",
    "df_feat[df_feat[\"preds\"].isna()]"
   ]
  },
  {
   "cell_type": "code",
   "execution_count": null,
   "id": "44acda38",
   "metadata": {},
   "outputs": [],
   "source": [
    "print('r2:', round(metrics.r2_score(y_true=y_true, y_pred=df_feat.dropna(subset=[\"preds\"])[\"preds\"]),4))"
   ]
  },
  {
   "cell_type": "code",
   "execution_count": null,
   "id": "1276d953",
   "metadata": {},
   "outputs": [],
   "source": [
    "print('r2:', round(metrics.r2_score(y_true=y_true, y_pred=df_feat.dropna(subset=[\"preds\"])[\"y_raw\"]),4))"
   ]
  },
  {
   "cell_type": "code",
   "execution_count": null,
   "id": "98517c94",
   "metadata": {},
   "outputs": [],
   "source": [
    "y_true = df_feat[\"y_raw\"]\n",
    "y_pred = df_feat[\"preds\"].fillna(method=\"bfill\")\n",
    "\n",
    "regression_results(y_true, y_pred)"
   ]
  },
  {
   "cell_type": "code",
   "execution_count": null,
   "id": "0a573b93",
   "metadata": {},
   "outputs": [],
   "source": [
    "y_true = df_feat.dropna(subset=[\"preds\"])[\"y_raw\"]\n",
    "# y_pred = df_feat.dropna(subset=[\"preds\"])[\"preds\"]\n",
    "\n",
    "regression_results(y_true, df_feat.dropna(subset=[\"preds\"])[\"lag5\"])"
   ]
  },
  {
   "cell_type": "code",
   "execution_count": null,
   "id": "3f0d6b1b",
   "metadata": {},
   "outputs": [],
   "source": [
    "# print(\"CB model + Feats\")\n",
    "# df_feat[\"preds\"] = np.NaN\n",
    "# evaluate(X=X,model=CatBoostRegressor(verbose=False,has_time=True,cat_features=[\"variable\"])) # iterations=500,\n",
    "# y_true = df_feat.dropna(subset=[\"preds\"])[\"y_raw\"]\n",
    "# y_pred = df_feat.dropna(subset=[\"preds\"])[\"preds\"]\n",
    "\n",
    "# regression_results(y_true, y_pred)"
   ]
  },
  {
   "cell_type": "code",
   "execution_count": null,
   "id": "3d3f2595",
   "metadata": {},
   "outputs": [],
   "source": [
    "print(\"CB model + Feats\")\n",
    "df_feat[\"preds\"] = np.NaN\n",
    "evaluate(X=X.select_dtypes(\"number\"),model=CatBoostRegressor(verbose=False,has_time=True)) # iterations=500,\n",
    "y_true = df_feat.dropna(subset=[\"preds\"])[\"y_raw\"]\n",
    "y_pred = df_feat.dropna(subset=[\"preds\"])[\"preds\"]\n",
    "\n",
    "regression_results(y_true, y_pred)\n",
    "\n",
    "# ## all feats, CAtboost model:\n",
    "# r2:  0.961\n",
    "# MAE (Mean absolute error): 108.7497\n",
    "# Median absolute error: 35.78\n",
    "# RMSE: 271.2456\n",
    "# explained_variance:  0.961\n",
    "# mape: 15849072058643.87\n",
    "### ~same results using with/without \"Variable\" categorical feat"
   ]
  },
  {
   "cell_type": "markdown",
   "id": "18493d88",
   "metadata": {},
   "source": [
    "* diff target:\n",
    "```\n",
    "CB model + Feats\n",
    "1\n",
    "...\n",
    "5\n",
    "\n",
    "r2: 0.272\n",
    "MAE (Mean absolute error): 87.658\n",
    "Median absolute error: 32.8463\n",
    "RMSE: 200.2333\n",
    "explained_variance:  0.2747\n",
    "mape: 9.3886\n",
    "```"
   ]
  },
  {
   "cell_type": "code",
   "execution_count": null,
   "id": "a19f65e9",
   "metadata": {},
   "outputs": [],
   "source": [
    "print(\"Linear model + Feats\")\n",
    "df_feat[\"preds\"] = np.NaN\n",
    "evaluate(X=X.select_dtypes(\"number\"),model=LinearRegression())\n",
    "y_true = df_feat.dropna(subset=[\"preds\"])[\"y_raw\"]\n",
    "y_pred = df_feat.dropna(subset=[\"preds\"])[\"preds\"]\n",
    "\n",
    "regression_results(y_true, y_pred)"
   ]
  },
  {
   "cell_type": "code",
   "execution_count": null,
   "id": "81071b38",
   "metadata": {},
   "outputs": [],
   "source": [
    "print(\"Single feature baseline model\")\n",
    "df_feat[\"preds\"] = np.NaN\n",
    "evaluate(X=X[[\"lag5\"]],model=LinearRegression())\n",
    "y_true = df_feat.dropna(subset=[\"preds\"])[\"y_raw\"]\n",
    "y_pred = df_feat.dropna(subset=[\"preds\"])[\"preds\"]\n",
    "\n",
    "regression_results(y_true, y_pred)"
   ]
  },
  {
   "cell_type": "code",
   "execution_count": null,
   "id": "655672b0",
   "metadata": {},
   "outputs": [],
   "source": [
    "df_feat.dropna(subset=[\"preds\"])[[\"preds\",\"y_raw\",\"lag5\"]].corr().round(3)"
   ]
  },
  {
   "cell_type": "markdown",
   "id": "a17043b5",
   "metadata": {},
   "source": [
    "#### forwarf FS - check why so overfitting"
   ]
  },
  {
   "cell_type": "code",
   "execution_count": null,
   "id": "b7c4321e",
   "metadata": {
    "scrolled": true
   },
   "outputs": [],
   "source": [
    "%%time\n",
    "\n",
    "if DO_RFE_FS:\n",
    "#     from sklearn.feature_selection import SequentialFeatureSelector\n",
    "#     sfs = SequentialFeatureSelector(ElasticNet(warm_start=True,normalize=True,\n",
    "#                                                max_iter=1500), n_features_to_select=15,n_jobs=-1)\n",
    "#     sfs.fit(X.select_dtypes(\"number\"), y)\n",
    "#     print(len(sfs.get_feature_names_out()))\n",
    "#     list(sfs.get_feature_names_out())\n",
    "#     X2 = X.filter([\"variable\"]+list(sfs.get_feature_names_out()),axis=1).copy()\n",
    "#     X2"
   ]
  },
  {
   "cell_type": "code",
   "execution_count": null,
   "id": "cf21997d",
   "metadata": {},
   "outputs": [],
   "source": [
    "# df_feat[\"preds\"] = np.NaN\n",
    "# evaluate(X=X2.select_dtypes(\"number\"),model=LinearRegression())\n",
    "# y_true = df_feat.dropna(subset=[\"preds\"])[\"y_raw\"]\n",
    "# y_pred = df_feat.dropna(subset=[\"preds\"])[\"preds\"]\n",
    "\n",
    "# regression_results(y_true, y_pred)"
   ]
  },
  {
   "cell_type": "code",
   "execution_count": null,
   "id": "be8a25cd",
   "metadata": {},
   "outputs": [],
   "source": [
    "df_feat[\"preds\"] = np.NaN\n",
    "evaluate(X=X2)\n",
    "y_true = df_feat.dropna(subset=[\"preds\"])[\"y_raw\"]\n",
    "y_pred = df_feat.dropna(subset=[\"preds\"])[\"preds\"]\n",
    "\n",
    "regression_results(y_true, y_pred)"
   ]
  },
  {
   "cell_type": "markdown",
   "id": "d4b1033f",
   "metadata": {},
   "source": [
    "### Baselines\n",
    "R2 score for naive lag"
   ]
  },
  {
   "cell_type": "code",
   "execution_count": null,
   "id": "65b6346e",
   "metadata": {},
   "outputs": [],
   "source": [
    "df_feat.reset_index().sort_values([\"variable\",\"year_num\"]).head(7)"
   ]
  },
  {
   "cell_type": "code",
   "execution_count": null,
   "id": "d15f8d2f",
   "metadata": {},
   "outputs": [],
   "source": [
    "print('r2: lag5', round(metrics.r2_score(y_true=y_true, y_pred=df_feat.dropna(subset=[\"preds\"])[\"lag5\"]),4))\n",
    "print('r2: lag6', round(metrics.r2_score(y_true=y_true, y_pred=df_feat.dropna(subset=[\"preds\"])[\"lag6\"]),3))"
   ]
  },
  {
   "cell_type": "markdown",
   "id": "7ff83328",
   "metadata": {},
   "source": [
    "### SHAP Feature importance"
   ]
  },
  {
   "cell_type": "code",
   "execution_count": null,
   "id": "280e5370",
   "metadata": {},
   "outputs": [],
   "source": [
    "lst = X.columns[3:6]\n",
    "lst"
   ]
  },
  {
   "cell_type": "code",
   "execution_count": null,
   "id": "3b89a7a1",
   "metadata": {},
   "outputs": [],
   "source": [
    "# sample_string = 'my name is nik, welc(ome to datagy)'\n",
    "# re.split('\\W+', sample_string)"
   ]
  },
  {
   "cell_type": "code",
   "execution_count": null,
   "id": "ad2a322d",
   "metadata": {},
   "outputs": [],
   "source": [
    "# [i.replace(\"between 11 years and \",\"\") for i in lst]\n",
    "import re\n",
    "\n",
    "# [truncate(i) for i in lst if i.isnumeric()]\n",
    "# [truncate(i) for i.split() in lst]\n",
    "lst2 = []\n",
    "for i in lst:\n",
    "    i_split = i.replace(\")\",\" )\").split() # makes years uglier\n",
    "#     i_split = re.split('\\W+', i) ## deletes/loses the parantheses, messing up feats\n",
    "    lst2.append(\" \".join([truncate(c) for c in i_split]))\n",
    "lst2"
   ]
  },
  {
   "cell_type": "code",
   "execution_count": null,
   "id": "c174217b",
   "metadata": {},
   "outputs": [],
   "source": [
    "X.shape"
   ]
  },
  {
   "cell_type": "code",
   "execution_count": null,
   "id": "99c6d53f",
   "metadata": {},
   "outputs": [],
   "source": [
    "# import xgboost\n",
    "import shap\n",
    "\n",
    "# train an XGBoost model\n",
    "# X, y = shap.datasets.boston()\n",
    "# model = xgboost.XGBRegressor().fit(X, y)\n",
    "model = CatBoostRegressor(iterations=500,cat_features= [\"variable\"],\n",
    "                      verbose=False,has_time=True)\n",
    "# model = LinearRegression() ## better results\n",
    "# X = df_feat[[\"variable\"]+num_cols]#.copy() # try values ? \n",
    "# # X = X.fillna(0)\n",
    "# y = df_feat[\"y_raw\"]\n",
    "model.fit(X,y)\n",
    "# explain the model's predictions using SHAP\n",
    "# (same syntax works for LightGBM, CatBoost, scikit-learn, transformers, Spark, etc.)\n",
    "explainer = shap.Explainer(model)\n",
    "shap_values = explainer(X)\n",
    "\n",
    "# summarize the effects of all the features\n",
    "shap.plots.beeswarm(shap_values,max_display=15,)\n",
    "# shap.plots.bar(shap_values)"
   ]
  },
  {
   "cell_type": "code",
   "execution_count": null,
   "id": "60f21db6",
   "metadata": {},
   "outputs": [],
   "source": [
    "X.columns"
   ]
  },
  {
   "cell_type": "code",
   "execution_count": null,
   "id": "882332f3",
   "metadata": {},
   "outputs": [],
   "source": [
    "X[\"year_num\"].describe()"
   ]
  },
  {
   "cell_type": "code",
   "execution_count": null,
   "id": "011f07dd",
   "metadata": {},
   "outputs": [],
   "source": [
    "mask = X[\"year_num\"]>=2018\n",
    "df_future_predictions = X.loc[mask].copy()\n",
    "# model.fit(X,y)\n",
    "df_future_predictions[\"predicted\"] = model.predict(df_future_predictions.drop(columns=[\"predicted\"],errors=\"ignore\"))\n",
    "## check lag of target construction..., \n",
    "df_future_predictions[\"actual_y\"] = y.loc[mask].copy()\n",
    "df_future_predictions = df_future_predictions.filter(['year_num','variable', \"predicted\",\"actual_y\",'lag5'],axis=1)\n",
    "df_future_predictions"
   ]
  },
  {
   "cell_type": "markdown",
   "id": "8fc328ae",
   "metadata": {},
   "source": [
    "### Plot Predictions\n"
   ]
  },
  {
   "cell_type": "code",
   "execution_count": null,
   "id": "e7cdffb5",
   "metadata": {},
   "outputs": [],
   "source": [
    "df_feat[\"y_raw\"].notna().sum()"
   ]
  },
  {
   "cell_type": "code",
   "execution_count": null,
   "id": "4c3ba55d",
   "metadata": {},
   "outputs": [],
   "source": [
    "df_feat[\"preds\"].notna().sum()"
   ]
  },
  {
   "cell_type": "code",
   "execution_count": null,
   "id": "24d50ac0",
   "metadata": {},
   "outputs": [],
   "source": [
    "# df_feat.loc[df_feat[\"variable\"].str.contains(\"subthalamus\",case=False)]#[[\"y_raw\",\"y_raw_predicted\"]]"
   ]
  },
  {
   "cell_type": "code",
   "execution_count": null,
   "id": "b69f3d53",
   "metadata": {},
   "outputs": [],
   "source": [
    "plot_var_preds(df_feat,\"eeg\")"
   ]
  },
  {
   "cell_type": "code",
   "execution_count": null,
   "id": "6c40b2f3",
   "metadata": {},
   "outputs": [],
   "source": [
    "# df.loc[df[\"variable\"].str.contains(\"neural networks\",case=False)][[\"y_raw\",\"y_raw_predicted\"]].plot(title=\"neural networks\")"
   ]
  },
  {
   "cell_type": "code",
   "execution_count": null,
   "id": "c263c5ce",
   "metadata": {},
   "outputs": [],
   "source": [
    "plot_var_preds(df_feat,\"neural networks\")"
   ]
  },
  {
   "cell_type": "code",
   "execution_count": null,
   "id": "b6b26c51",
   "metadata": {},
   "outputs": [],
   "source": [
    "plot_var_preds(df_feat,\"artificial neural networks\")"
   ]
  },
  {
   "cell_type": "code",
   "execution_count": null,
   "id": "1c55075b",
   "metadata": {},
   "outputs": [],
   "source": [
    "plot_var_preds(df_feat,\"vaccine\")"
   ]
  },
  {
   "cell_type": "code",
   "execution_count": null,
   "id": "1f55a5c8",
   "metadata": {},
   "outputs": [],
   "source": [
    "plot_var_preds(df_feat,\"cannabis\",logScale=True)"
   ]
  },
  {
   "cell_type": "code",
   "execution_count": null,
   "id": "06711704",
   "metadata": {},
   "outputs": [],
   "source": [
    "df.loc[df[\"start\"].dt.year>1994][\"variable\"].unique()"
   ]
  },
  {
   "cell_type": "code",
   "execution_count": null,
   "id": "fc4ccbc4",
   "metadata": {
    "scrolled": true
   },
   "outputs": [],
   "source": [
    "for i in ['BRCA2', 'BRCA1', 'carbon nanotubes', 'GWAS']:\n",
    "    plot_var_preds(df_feat,i)"
   ]
  },
  {
   "cell_type": "code",
   "execution_count": null,
   "id": "b2c6f925",
   "metadata": {
    "scrolled": false
   },
   "outputs": [],
   "source": [
    "for i in ['artificial neural networks', 'graph neural network', 'buckyballs',\n",
    "#        'carbon nanotubes', 'BRCA2', 'BRCA1', 'GWAS',\n",
    "       'nanopore', 'metabolome', 'metagenomics', 'miRNA', 'CRISPR',\n",
    "       'biosimilar', 'connectome', 'crispr cas-9',]:\n",
    "    plot_var_preds(df_feat,i)"
   ]
  },
  {
   "cell_type": "code",
   "execution_count": null,
   "id": "5e265e32",
   "metadata": {
    "scrolled": false
   },
   "outputs": [],
   "source": [
    "for i in ['antibiotic','substance P', 'dopamine', 'fMRI', 'MRI', 'epigenetics',\n",
    "       'carbon dating', 'soy milk', 'mass spectrometry', \n",
    "       'machine learning', 'savant', 'prion']:\n",
    "    plot_var_preds(df_feat,i)"
   ]
  }
 ],
 "metadata": {
  "kernelspec": {
   "display_name": "Python 3 (ipykernel)",
   "language": "python",
   "name": "python3"
  },
  "language_info": {
   "codemirror_mode": {
    "name": "ipython",
    "version": 3
   },
   "file_extension": ".py",
   "mimetype": "text/x-python",
   "name": "python",
   "nbconvert_exporter": "python",
   "pygments_lexer": "ipython3",
   "version": "3.10.12"
  }
 },
 "nbformat": 4,
 "nbformat_minor": 5
}
