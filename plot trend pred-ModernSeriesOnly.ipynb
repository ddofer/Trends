{
 "cells": [
  {
   "cell_type": "markdown",
   "id": "a63a5d2b",
   "metadata": {},
   "source": [
    "### model with only recent events , and simple autoregressive features\n",
    "##### Publication trends forecasting outputs\n",
    "\n",
    "* Train+val+test Data covers ~1960-2019.\n",
    "    * Model/features optimized over 1980-2010\n",
    "\n",
    "* Prediction 5 years (inclusive) in advance\n",
    "\n",
    "* Temporal split over data\n",
    "\n",
    "* `y_raw` = Actual amount of publications (normalized out of total pubs that year in pubmed)\n",
    "* `preds` = model predictions\n",
    "\n",
    "\n",
    "* SparkBeyond Validation set ~ 2010-2013 , Test set 2014-2019\n",
    "    * SB Train+val+test Data covers 1980-2019.\n",
    "    * Raw/context data covers more (and I output that here)\n",
    "* Prediction 5 years (inclusive) in advance\n",
    "\n",
    "\n",
    " * I try redoing time series CV/split here from scratch , to better show predicitons. \n",
    "     * https://scikit-learn.org/stable/modules/generated/sklearn.model_selection.TimeSeriesSplit.html"
   ]
  },
  {
   "cell_type": "code",
   "execution_count": 1,
   "id": "17021a74",
   "metadata": {},
   "outputs": [],
   "source": [
    "import pandas as pd\n",
    "import seaborn as sns\n",
    "%matplotlib inline \n",
    "\n",
    "from sklearn.model_selection import cross_val_predict,TimeSeriesSplit\n",
    "from sklearn.ensemble import HistGradientBoostingRegressor \n",
    "from sklearn import linear_model\n",
    "from sklearn.linear_model import LinearRegression,Ridge,RidgeCV, ElasticNet,ElasticNetCV, Lasso\n",
    "from sklearn.compose import TransformedTargetRegressor\n",
    "from sklearn.preprocessing import MinMaxScaler\n",
    "from sklearn.feature_selection import SequentialFeatureSelector\n",
    "# from sklearn.metrics import PredictionErrorDisplay\n",
    "from sklearn.pipeline import Pipeline\n",
    "import numpy as np\n",
    "from catboost import CatBoostRegressor\n",
    "from sklearn.feature_selection import RFECV\n",
    "import sklearn.metrics as metrics\n",
    "from sklearn.metrics import PredictionErrorDisplay\n",
    "import matplotlib.pyplot as plt\n",
    "import re\n",
    "pd.set_option('mode.use_inf_as_na', True)"
   ]
  },
  {
   "cell_type": "code",
   "execution_count": 2,
   "id": "51d7fce5",
   "metadata": {},
   "outputs": [],
   "source": [
    "FILTER_GROUP_SIZES = False#True\n",
    "\n",
    "DIFF_TARGET = False#True#False#True # set target to diff vs 5 years ago. i.e tougher baseline\n",
    "DIFF_TARGET_PCT = False#True#False#True\n",
    "NUM_CV_FOLDS =  5#30 #\n",
    "\n",
    "DO_RFE_FS = False#False#True\n",
    "\n",
    "GET_DL_EMBEDS =True#False\n",
    "\n",
    "CUTOFF_YEAR = 2014\n",
    "\n",
    "## columns to drop as part of simplifying pipeline:\n",
    "DROP_FEAT_COLS = ['patent_count', 'patent_frac','patent_yearly_total','pat_div_research',\n",
    "                  'review_research_ratio_2', 'review_research_diff_2', ]"
   ]
  },
  {
   "cell_type": "code",
   "execution_count": 3,
   "id": "30720785",
   "metadata": {},
   "outputs": [],
   "source": [
    "def plot_var_preds(df,val:str=\"subthalamus\",logScale=False):\n",
    "#     df.loc[df[\"variable\"].str.contains(val,case=False)][[\"y_raw\",\"preds\"]].plot(title=val)# \"y_raw_predicted\"\n",
    "    if logScale:\n",
    "        df.loc[df[\"variable\"].str.lower()==val.lower()][[\"y_raw\",\"preds\"]].apply(np.log1p).plot(title=val)\n",
    "    else:\n",
    "        df.loc[df[\"variable\"].str.lower()==val.lower()][[\"y_raw\",\"preds\"]].plot(title=val)\n",
    "    \n",
    "def regression_results(y_true, y_pred):\n",
    "    # Regression metrics\n",
    "    explained_variance=metrics.explained_variance_score(y_true, y_pred)\n",
    "    mean_absolute_error=metrics.mean_absolute_error(y_true, y_pred) \n",
    "    mse=metrics.mean_squared_error(y_true, y_pred) \n",
    "    \n",
    "    median_absolute_error=metrics.median_absolute_error(y_true, y_pred)\n",
    "    r2=metrics.r2_score(y_true, y_pred)\n",
    "\n",
    "    print('r2:', round(r2,3))\n",
    "    print('MAE (Mean absolute error):', round(mean_absolute_error,3))\n",
    "    print('Median absolute error:', round(median_absolute_error,3))\n",
    "#     print('MSE: ', round(mse,3))\n",
    "    print('RMSE:', round(np.sqrt(mse),3))\n",
    "    print('explained_variance: ', round(explained_variance,3))    \n",
    "    try:\n",
    "        mape = metrics.mean_absolute_percentage_error(y_true, y_pred)\n",
    "        print('mape:', round(mape,3))\n",
    "    except:()\n",
    "    try: \n",
    "        mean_squared_log_error=metrics.mean_squared_log_error(y_true, y_pred)\n",
    "        print('mean_squared_log_error:', round(mean_squared_log_error,3))\n",
    "    except:()\n",
    "\n",
    "        \n",
    "def evaluate(model = CatBoostRegressor(cat_features= [\"variable\"],verbose=False,has_time=True),X = None):\n",
    "    \"\"\"\n",
    "    Assigns results of preictions to df_feat (global var version)\n",
    "    https://stats.stackexchange.com/questions/495151/cross-validation-for-time-series-what-am-i-doing-wrong\n",
    "    https://stackoverflow.com/questions/51597507/sklearn-timeseriessplit-error-keyerror-0-1-2-not-in-index\n",
    "    \"\"\"\n",
    "    # train model on training dataset\n",
    "    i = 0\n",
    "    tscv = TimeSeriesSplit(NUM_CV_FOLDS) #10) # ORIG - 10\n",
    "#     df_feat[\"preds\"] = np.NaN # un commented - DAN - new\n",
    "    for train_index, test_index in tscv.split(X): #df_feat):\n",
    "        i +=1\n",
    "#         print(i)\n",
    "        if i%3==0: print(i)\n",
    "        X_train, X_test = X.iloc[train_index], X.iloc[test_index]\n",
    "#         X_train, X_test = X.index[train_index], X.index[test_index]#X.iloc[train_index], X.iloc[test_index]\n",
    "        y_train, y_test = y[train_index], y[test_index]\n",
    "#         model = CatBoostRegressor(iterations=500,\n",
    "#                                   cat_features= [\"variable\"],#[0], #[\"variable\"],\n",
    "#                           verbose=False,has_time=True)\n",
    "#         print(\"fit\")\n",
    "#         model.fit(X_train, y_train)\n",
    "        model.fit(X_train, y_train,\n",
    "#                   early_stopping_rounds=10,\n",
    "#                   eval_set=(X_test, y_test),\n",
    "                  #plot=(i%3==0),\n",
    "#                  baseline=X_train[\"lag5\"].values)#pd.concat([X_train[\"lag5\"],X_test[\"lag5\"]]).values)\n",
    "                  )\n",
    "#         print(\"doing pred\")\n",
    "        y_predict = model.predict(X_test)\n",
    "        assert np.isnan(y_predict).max() == False\n",
    "#         print(\"assigning pred\")\n",
    "#         df_feat.loc[test_index,\"preds\"] =y_predict\n",
    "        df_feat.iloc[test_index,-1] =y_predict  ##\n",
    "    print(\"\\n Done\")\n",
    "\n",
    "def truncate(f2, n=1):\n",
    "    '''Truncates/pads a float f to n decimal places without rounding'''\n",
    "#     if f.isnumeric():\n",
    "    try: \n",
    "        f = float(f2)\n",
    "#         s = '{}'.format(f)\n",
    "#         if 'e' in s or 'E' in s:\n",
    "#             return '{0:.{1}f}'.format(f, n)\n",
    "#         i, p, d = s.partition('.')\n",
    "#         return '.'.join([i, (d+'0'*n)[:n]])\n",
    "        return(str(round(float(f),2)))\n",
    "#     else:\n",
    "    except:\n",
    "        return f2"
   ]
  },
  {
   "cell_type": "markdown",
   "id": "9b8d4a10",
   "metadata": {},
   "source": [
    "#### plot (lagged?) correlation of inputs and target in raw data"
   ]
  },
  {
   "cell_type": "code",
   "execution_count": 4,
   "id": "d2c6dfdd",
   "metadata": {},
   "outputs": [
    {
     "name": "stdout",
     "output_type": "stream",
     "text": [
      "4798\n",
      "863\n",
      "(863, 25)\n"
     ]
    },
    {
     "data": {
      "text/html": [
       "<div>\n",
       "<style scoped>\n",
       "    .dataframe tbody tr th:only-of-type {\n",
       "        vertical-align: middle;\n",
       "    }\n",
       "\n",
       "    .dataframe tbody tr th {\n",
       "        vertical-align: top;\n",
       "    }\n",
       "\n",
       "    .dataframe thead th {\n",
       "        text-align: right;\n",
       "    }\n",
       "</style>\n",
       "<table border=\"1\" class=\"dataframe\">\n",
       "  <thead>\n",
       "    <tr style=\"text-align: right;\">\n",
       "      <th></th>\n",
       "      <th>Year</th>\n",
       "      <th>variable</th>\n",
       "      <th>y_raw</th>\n",
       "      <th>reviews</th>\n",
       "      <th>research_review_diff</th>\n",
       "      <th>research_review_ratio</th>\n",
       "      <th>pct_diff</th>\n",
       "      <th>patent_count</th>\n",
       "      <th>patent_frac</th>\n",
       "      <th>patent_yearly_total</th>\n",
       "      <th>...</th>\n",
       "      <th>pat_div_research</th>\n",
       "      <th>year_num</th>\n",
       "      <th>y_diff</th>\n",
       "      <th>y_pct_diff</th>\n",
       "      <th>diff_lag5</th>\n",
       "      <th>diff_lag6</th>\n",
       "      <th>pct_diff_lag5</th>\n",
       "      <th>pct_diff_lag6</th>\n",
       "      <th>target_5</th>\n",
       "      <th>lag5_pct_new</th>\n",
       "    </tr>\n",
       "  </thead>\n",
       "  <tbody>\n",
       "    <tr>\n",
       "      <th>0</th>\n",
       "      <td>2014-01-01</td>\n",
       "      <td>BLAST</td>\n",
       "      <td>176.5445</td>\n",
       "      <td>10.7851</td>\n",
       "      <td>169.4097</td>\n",
       "      <td>0.9596</td>\n",
       "      <td>-0.0156</td>\n",
       "      <td>123.0</td>\n",
       "      <td>0.6256</td>\n",
       "      <td>19662.0</td>\n",
       "      <td>...</td>\n",
       "      <td>0.6967</td>\n",
       "      <td>2014</td>\n",
       "      <td>-2.8015</td>\n",
       "      <td>-0.015621</td>\n",
       "      <td>3.7904</td>\n",
       "      <td>1.8885</td>\n",
       "      <td>-0.010889</td>\n",
       "      <td>0.021517</td>\n",
       "      <td>140.1918</td>\n",
       "      <td>2.146994</td>\n",
       "    </tr>\n",
       "    <tr>\n",
       "      <th>1</th>\n",
       "      <td>2014-01-01</td>\n",
       "      <td>BRCA1</td>\n",
       "      <td>87.6085</td>\n",
       "      <td>12.0296</td>\n",
       "      <td>-15.5140</td>\n",
       "      <td>-0.1771</td>\n",
       "      <td>0.0083</td>\n",
       "      <td>1.0</td>\n",
       "      <td>0.0051</td>\n",
       "      <td>19662.0</td>\n",
       "      <td>...</td>\n",
       "      <td>0.0114</td>\n",
       "      <td>2014</td>\n",
       "      <td>0.7188</td>\n",
       "      <td>0.008273</td>\n",
       "      <td>-4.4662</td>\n",
       "      <td>1.2362</td>\n",
       "      <td>0.066021</td>\n",
       "      <td>-0.010987</td>\n",
       "      <td>96.4662</td>\n",
       "      <td>-5.097907</td>\n",
       "    </tr>\n",
       "    <tr>\n",
       "      <th>2</th>\n",
       "      <td>2014-01-01</td>\n",
       "      <td>BRCA2</td>\n",
       "      <td>55.9998</td>\n",
       "      <td>9.0429</td>\n",
       "      <td>-5.7244</td>\n",
       "      <td>-0.1022</td>\n",
       "      <td>0.0452</td>\n",
       "      <td>0.0</td>\n",
       "      <td>0.0000</td>\n",
       "      <td>19662.0</td>\n",
       "      <td>...</td>\n",
       "      <td>0.0000</td>\n",
       "      <td>2014</td>\n",
       "      <td>2.4221</td>\n",
       "      <td>0.045207</td>\n",
       "      <td>-4.5097</td>\n",
       "      <td>-2.6569</td>\n",
       "      <td>0.031587</td>\n",
       "      <td>0.018600</td>\n",
       "      <td>68.3568</td>\n",
       "      <td>-8.053064</td>\n",
       "    </tr>\n",
       "    <tr>\n",
       "      <th>3</th>\n",
       "      <td>2014-01-01</td>\n",
       "      <td>Brodmann area</td>\n",
       "      <td>12.5274</td>\n",
       "      <td>0.5807</td>\n",
       "      <td>7.7985</td>\n",
       "      <td>0.6225</td>\n",
       "      <td>0.1341</td>\n",
       "      <td>0.0</td>\n",
       "      <td>0.0000</td>\n",
       "      <td>19662.0</td>\n",
       "      <td>...</td>\n",
       "      <td>0.0000</td>\n",
       "      <td>2014</td>\n",
       "      <td>1.4814</td>\n",
       "      <td>0.134112</td>\n",
       "      <td>-1.8308</td>\n",
       "      <td>-1.3304</td>\n",
       "      <td>0.036110</td>\n",
       "      <td>0.090127</td>\n",
       "      <td>7.1693</td>\n",
       "      <td>-14.614365</td>\n",
       "    </tr>\n",
       "    <tr>\n",
       "      <th>4</th>\n",
       "      <td>2014-01-01</td>\n",
       "      <td>CRISPR</td>\n",
       "      <td>57.8250</td>\n",
       "      <td>9.1259</td>\n",
       "      <td>-1214.8218</td>\n",
       "      <td>-21.0086</td>\n",
       "      <td>1.0146</td>\n",
       "      <td>11.0</td>\n",
       "      <td>0.0559</td>\n",
       "      <td>19662.0</td>\n",
       "      <td>...</td>\n",
       "      <td>0.1902</td>\n",
       "      <td>2014</td>\n",
       "      <td>29.1227</td>\n",
       "      <td>1.014647</td>\n",
       "      <td>53.3808</td>\n",
       "      <td>54.4800</td>\n",
       "      <td>0.328610</td>\n",
       "      <td>0.547894</td>\n",
       "      <td>379.4762</td>\n",
       "      <td>92.314397</td>\n",
       "    </tr>\n",
       "    <tr>\n",
       "      <th>5</th>\n",
       "      <td>2014-01-01</td>\n",
       "      <td>Cingulate cortex</td>\n",
       "      <td>158.8734</td>\n",
       "      <td>10.7851</td>\n",
       "      <td>146.8439</td>\n",
       "      <td>0.9243</td>\n",
       "      <td>-0.0222</td>\n",
       "      <td>0.0</td>\n",
       "      <td>0.0000</td>\n",
       "      <td>19662.0</td>\n",
       "      <td>...</td>\n",
       "      <td>0.0000</td>\n",
       "      <td>2014</td>\n",
       "      <td>-3.5991</td>\n",
       "      <td>-0.022152</td>\n",
       "      <td>20.8753</td>\n",
       "      <td>26.7465</td>\n",
       "      <td>0.044436</td>\n",
       "      <td>0.037308</td>\n",
       "      <td>137.4235</td>\n",
       "      <td>13.139582</td>\n",
       "    </tr>\n",
       "    <tr>\n",
       "      <th>6</th>\n",
       "      <td>2014-01-01</td>\n",
       "      <td>DNA array</td>\n",
       "      <td>626.2019</td>\n",
       "      <td>51.3539</td>\n",
       "      <td>625.6212</td>\n",
       "      <td>0.9991</td>\n",
       "      <td>-0.1188</td>\n",
       "      <td>21.0</td>\n",
       "      <td>0.1068</td>\n",
       "      <td>19662.0</td>\n",
       "      <td>...</td>\n",
       "      <td>0.0335</td>\n",
       "      <td>2014</td>\n",
       "      <td>-84.3979</td>\n",
       "      <td>-0.118770</td>\n",
       "      <td>-364.6271</td>\n",
       "      <td>-237.0432</td>\n",
       "      <td>0.147796</td>\n",
       "      <td>-0.001652</td>\n",
       "      <td>414.2580</td>\n",
       "      <td>-58.228361</td>\n",
       "    </tr>\n",
       "  </tbody>\n",
       "</table>\n",
       "<p>7 rows × 26 columns</p>\n",
       "</div>"
      ],
      "text/plain": [
       "        Year          variable     y_raw  reviews  research_review_diff  \\\n",
       "0 2014-01-01             BLAST  176.5445  10.7851              169.4097   \n",
       "1 2014-01-01             BRCA1   87.6085  12.0296              -15.5140   \n",
       "2 2014-01-01             BRCA2   55.9998   9.0429               -5.7244   \n",
       "3 2014-01-01     Brodmann area   12.5274   0.5807                7.7985   \n",
       "4 2014-01-01            CRISPR   57.8250   9.1259            -1214.8218   \n",
       "5 2014-01-01  Cingulate cortex  158.8734  10.7851              146.8439   \n",
       "6 2014-01-01         DNA array  626.2019  51.3539              625.6212   \n",
       "\n",
       "   research_review_ratio  pct_diff  patent_count  patent_frac  \\\n",
       "0                 0.9596   -0.0156         123.0       0.6256   \n",
       "1                -0.1771    0.0083           1.0       0.0051   \n",
       "2                -0.1022    0.0452           0.0       0.0000   \n",
       "3                 0.6225    0.1341           0.0       0.0000   \n",
       "4               -21.0086    1.0146          11.0       0.0559   \n",
       "5                 0.9243   -0.0222           0.0       0.0000   \n",
       "6                 0.9991   -0.1188          21.0       0.1068   \n",
       "\n",
       "   patent_yearly_total  ...  pat_div_research  year_num   y_diff y_pct_diff  \\\n",
       "0              19662.0  ...            0.6967      2014  -2.8015  -0.015621   \n",
       "1              19662.0  ...            0.0114      2014   0.7188   0.008273   \n",
       "2              19662.0  ...            0.0000      2014   2.4221   0.045207   \n",
       "3              19662.0  ...            0.0000      2014   1.4814   0.134112   \n",
       "4              19662.0  ...            0.1902      2014  29.1227   1.014647   \n",
       "5              19662.0  ...            0.0000      2014  -3.5991  -0.022152   \n",
       "6              19662.0  ...            0.0335      2014 -84.3979  -0.118770   \n",
       "\n",
       "   diff_lag5  diff_lag6  pct_diff_lag5  pct_diff_lag6  target_5  lag5_pct_new  \n",
       "0     3.7904     1.8885      -0.010889       0.021517  140.1918      2.146994  \n",
       "1    -4.4662     1.2362       0.066021      -0.010987   96.4662     -5.097907  \n",
       "2    -4.5097    -2.6569       0.031587       0.018600   68.3568     -8.053064  \n",
       "3    -1.8308    -1.3304       0.036110       0.090127    7.1693    -14.614365  \n",
       "4    53.3808    54.4800       0.328610       0.547894  379.4762     92.314397  \n",
       "5    20.8753    26.7465       0.044436       0.037308  137.4235     13.139582  \n",
       "6  -364.6271  -237.0432       0.147796      -0.001652  414.2580    -58.228361  \n",
       "\n",
       "[7 rows x 26 columns]"
      ]
     },
     "execution_count": 4,
     "metadata": {},
     "output_type": "execute_result"
    }
   ],
   "source": [
    "df_targets = pd.read_csv(\"trends_v6.csv.gz\",parse_dates=[\"Year\",\"first\",\"start\"],infer_datetime_format=True)\n",
    "\n",
    "#### NEW! Sort by date!\n",
    "df_targets = df_targets.sort_values([\"Year\",\"variable\"])\n",
    "df_targets[\"target_5\"] = df_targets.groupby(\"variable\")[\"y_raw\"].shift(-5) ## target in 5 years\n",
    "\n",
    "# df_targets[[\"Year\",\"variable\",\"y_raw\",\"target_5\"]]\n",
    "df_targets = df_targets.loc[(df_targets[\"Year\"]> df_targets[\"start\"]) & (df_targets[\"year_num\"]>= 1979)]\n",
    "print(df_targets.shape[0])\n",
    "df_targets = df_targets.loc[df_targets[\"year_num\"]>= CUTOFF_YEAR ]\n",
    "print(df_targets.shape[0])\n",
    "\n",
    "df_targets.drop(columns=[\n",
    "#                          \"pct_diff_lag6\",\n",
    "    \"y_pct_bins\",\n",
    "#                          \"y_pct_diff\",\"year_num\",\n",
    "                         \"lag1\",\"lag2\",\"lag3\",\"lag4\",\n",
    "##ORIG: was commented out! be careful! #                          \"diff_lag6\",\"lag6\",\n",
    "#                          \"pct_diff_lag5\",\n",
    "#                          \"first\",\"start\"\n",
    "            ],errors=\"ignore\",inplace=True)\n",
    "print(df_targets.shape)\n",
    "df_targets[\"lag5_pct_new\"] = 100*df_targets[\"diff_lag5\"].div(df_targets[\"y_raw\"])# pct diff vs 5 years ago\n",
    "\n",
    "df_targets = df_targets.reset_index(drop=True)\n",
    "\n",
    "df_targets.head(7)"
   ]
  },
  {
   "cell_type": "code",
   "execution_count": 5,
   "id": "791efa33",
   "metadata": {},
   "outputs": [
    {
     "data": {
      "text/plain": [
       "Index(['Year', 'variable', 'y_raw', 'reviews', 'research_review_diff',\n",
       "       'research_review_ratio', 'pct_diff', 'patent_count', 'patent_frac',\n",
       "       'patent_yearly_total', 'lag5', 'lag6', 'first', 'start',\n",
       "       'review_research_ratio_2', 'review_research_diff_2', 'pat_div_research',\n",
       "       'year_num', 'y_diff', 'y_pct_diff', 'diff_lag5', 'diff_lag6',\n",
       "       'pct_diff_lag5', 'pct_diff_lag6', 'target_5', 'lag5_pct_new'],\n",
       "      dtype='object')"
      ]
     },
     "execution_count": 5,
     "metadata": {},
     "output_type": "execute_result"
    }
   ],
   "source": [
    "df_targets.columns"
   ]
  },
  {
   "cell_type": "code",
   "execution_count": 6,
   "id": "dea3713d",
   "metadata": {},
   "outputs": [
    {
     "data": {
      "text/html": [
       "<div>\n",
       "<style scoped>\n",
       "    .dataframe tbody tr th:only-of-type {\n",
       "        vertical-align: middle;\n",
       "    }\n",
       "\n",
       "    .dataframe tbody tr th {\n",
       "        vertical-align: top;\n",
       "    }\n",
       "\n",
       "    .dataframe thead th {\n",
       "        text-align: right;\n",
       "    }\n",
       "</style>\n",
       "<table border=\"1\" class=\"dataframe\">\n",
       "  <thead>\n",
       "    <tr style=\"text-align: right;\">\n",
       "      <th></th>\n",
       "      <th>target_5</th>\n",
       "      <th>y_raw</th>\n",
       "      <th>reviews</th>\n",
       "      <th>first</th>\n",
       "      <th>start</th>\n",
       "      <th>start_sub_first</th>\n",
       "      <th>year_sub_start</th>\n",
       "    </tr>\n",
       "  </thead>\n",
       "  <tbody>\n",
       "    <tr>\n",
       "      <th>target_5</th>\n",
       "      <td>1.000</td>\n",
       "      <td>0.983</td>\n",
       "      <td>0.924</td>\n",
       "      <td>-0.186</td>\n",
       "      <td>-0.202</td>\n",
       "      <td>-0.098</td>\n",
       "      <td>0.202</td>\n",
       "    </tr>\n",
       "    <tr>\n",
       "      <th>y_raw</th>\n",
       "      <td>0.983</td>\n",
       "      <td>1.000</td>\n",
       "      <td>0.917</td>\n",
       "      <td>-0.198</td>\n",
       "      <td>-0.214</td>\n",
       "      <td>-0.100</td>\n",
       "      <td>0.214</td>\n",
       "    </tr>\n",
       "    <tr>\n",
       "      <th>reviews</th>\n",
       "      <td>0.924</td>\n",
       "      <td>0.917</td>\n",
       "      <td>1.000</td>\n",
       "      <td>-0.204</td>\n",
       "      <td>-0.224</td>\n",
       "      <td>-0.111</td>\n",
       "      <td>0.223</td>\n",
       "    </tr>\n",
       "    <tr>\n",
       "      <th>first</th>\n",
       "      <td>-0.186</td>\n",
       "      <td>-0.198</td>\n",
       "      <td>-0.204</td>\n",
       "      <td>1.000</td>\n",
       "      <td>0.906</td>\n",
       "      <td>0.094</td>\n",
       "      <td>-0.900</td>\n",
       "    </tr>\n",
       "    <tr>\n",
       "      <th>start</th>\n",
       "      <td>-0.202</td>\n",
       "      <td>-0.214</td>\n",
       "      <td>-0.224</td>\n",
       "      <td>0.906</td>\n",
       "      <td>1.000</td>\n",
       "      <td>0.506</td>\n",
       "      <td>-0.994</td>\n",
       "    </tr>\n",
       "    <tr>\n",
       "      <th>start_sub_first</th>\n",
       "      <td>-0.098</td>\n",
       "      <td>-0.100</td>\n",
       "      <td>-0.111</td>\n",
       "      <td>0.094</td>\n",
       "      <td>0.506</td>\n",
       "      <td>1.000</td>\n",
       "      <td>-0.504</td>\n",
       "    </tr>\n",
       "    <tr>\n",
       "      <th>year_sub_start</th>\n",
       "      <td>0.202</td>\n",
       "      <td>0.214</td>\n",
       "      <td>0.223</td>\n",
       "      <td>-0.900</td>\n",
       "      <td>-0.994</td>\n",
       "      <td>-0.504</td>\n",
       "      <td>1.000</td>\n",
       "    </tr>\n",
       "  </tbody>\n",
       "</table>\n",
       "</div>"
      ],
      "text/plain": [
       "                 target_5  y_raw  reviews  first  start  start_sub_first  \\\n",
       "target_5            1.000  0.983    0.924 -0.186 -0.202           -0.098   \n",
       "y_raw               0.983  1.000    0.917 -0.198 -0.214           -0.100   \n",
       "reviews             0.924  0.917    1.000 -0.204 -0.224           -0.111   \n",
       "first              -0.186 -0.198   -0.204  1.000  0.906            0.094   \n",
       "start              -0.202 -0.214   -0.224  0.906  1.000            0.506   \n",
       "start_sub_first    -0.098 -0.100   -0.111  0.094  0.506            1.000   \n",
       "year_sub_start      0.202  0.214    0.223 -0.900 -0.994           -0.504   \n",
       "\n",
       "                 year_sub_start  \n",
       "target_5                  0.202  \n",
       "y_raw                     0.214  \n",
       "reviews                   0.223  \n",
       "first                    -0.900  \n",
       "start                    -0.994  \n",
       "start_sub_first          -0.504  \n",
       "year_sub_start            1.000  "
      ]
     },
     "execution_count": 6,
     "metadata": {},
     "output_type": "execute_result"
    }
   ],
   "source": [
    "df_targets[\"first\"] = df_targets[\"first\"].str.split(\"-\",expand=True)[0].astype(int)\n",
    "df_targets[\"start\"] = pd.to_datetime(df_targets[\"start\"]).dt.year.astype(int)\n",
    "df_targets[\"start_sub_first\"] = df_targets[\"start\"].sub(df_targets[\"first\"])\n",
    "df_targets[\"year_sub_start\"] = df_targets[\"year_num\"].sub(df_targets[\"start\"])\n",
    "df_targets[[\"target_5\",\"y_raw\",\"reviews\",\"first\",\"start\",\"start_sub_first\",\"year_sub_start\"]].corr().round(3)"
   ]
  },
  {
   "cell_type": "code",
   "execution_count": 7,
   "id": "2303841e",
   "metadata": {},
   "outputs": [
    {
     "data": {
      "text/html": [
       "<div>\n",
       "<style scoped>\n",
       "    .dataframe tbody tr th:only-of-type {\n",
       "        vertical-align: middle;\n",
       "    }\n",
       "\n",
       "    .dataframe tbody tr th {\n",
       "        vertical-align: top;\n",
       "    }\n",
       "\n",
       "    .dataframe thead th {\n",
       "        text-align: right;\n",
       "    }\n",
       "</style>\n",
       "<table border=\"1\" class=\"dataframe\">\n",
       "  <thead>\n",
       "    <tr style=\"text-align: right;\">\n",
       "      <th></th>\n",
       "      <th>Year</th>\n",
       "      <th>variable</th>\n",
       "      <th>y_raw</th>\n",
       "      <th>reviews</th>\n",
       "      <th>research_review_diff</th>\n",
       "      <th>research_review_ratio</th>\n",
       "      <th>pct_diff</th>\n",
       "      <th>patent_count</th>\n",
       "      <th>patent_frac</th>\n",
       "      <th>patent_yearly_total</th>\n",
       "      <th>...</th>\n",
       "      <th>y_diff</th>\n",
       "      <th>y_pct_diff</th>\n",
       "      <th>diff_lag5</th>\n",
       "      <th>diff_lag6</th>\n",
       "      <th>pct_diff_lag5</th>\n",
       "      <th>pct_diff_lag6</th>\n",
       "      <th>target_5</th>\n",
       "      <th>lag5_pct_new</th>\n",
       "      <th>start_sub_first</th>\n",
       "      <th>year_sub_start</th>\n",
       "    </tr>\n",
       "  </thead>\n",
       "  <tbody>\n",
       "    <tr>\n",
       "      <th>0</th>\n",
       "      <td>2014-01-01</td>\n",
       "      <td>BLAST</td>\n",
       "      <td>176.5445</td>\n",
       "      <td>10.7851</td>\n",
       "      <td>169.4097</td>\n",
       "      <td>0.9596</td>\n",
       "      <td>-0.0156</td>\n",
       "      <td>123.0</td>\n",
       "      <td>0.6256</td>\n",
       "      <td>19662.0</td>\n",
       "      <td>...</td>\n",
       "      <td>-2.8015</td>\n",
       "      <td>-0.015621</td>\n",
       "      <td>3.7904</td>\n",
       "      <td>1.8885</td>\n",
       "      <td>-0.010889</td>\n",
       "      <td>0.021517</td>\n",
       "      <td>140.1918</td>\n",
       "      <td>2.146994</td>\n",
       "      <td>5</td>\n",
       "      <td>64</td>\n",
       "    </tr>\n",
       "    <tr>\n",
       "      <th>123</th>\n",
       "      <td>2015-01-01</td>\n",
       "      <td>BLAST</td>\n",
       "      <td>157.8589</td>\n",
       "      <td>11.7698</td>\n",
       "      <td>147.9182</td>\n",
       "      <td>0.9370</td>\n",
       "      <td>-0.1058</td>\n",
       "      <td>122.0</td>\n",
       "      <td>0.6212</td>\n",
       "      <td>19640.0</td>\n",
       "      <td>...</td>\n",
       "      <td>-18.6856</td>\n",
       "      <td>-0.105841</td>\n",
       "      <td>-9.7580</td>\n",
       "      <td>-14.8952</td>\n",
       "      <td>-0.029737</td>\n",
       "      <td>-0.010889</td>\n",
       "      <td>138.0799</td>\n",
       "      <td>-6.181470</td>\n",
       "      <td>5</td>\n",
       "      <td>65</td>\n",
       "    </tr>\n",
       "    <tr>\n",
       "      <th>246</th>\n",
       "      <td>2016-01-01</td>\n",
       "      <td>BLAST</td>\n",
       "      <td>155.4674</td>\n",
       "      <td>10.5098</td>\n",
       "      <td>143.6341</td>\n",
       "      <td>0.9239</td>\n",
       "      <td>-0.0151</td>\n",
       "      <td>92.0</td>\n",
       "      <td>0.4699</td>\n",
       "      <td>19578.0</td>\n",
       "      <td>...</td>\n",
       "      <td>-2.3915</td>\n",
       "      <td>-0.015150</td>\n",
       "      <td>-21.3248</td>\n",
       "      <td>-12.1495</td>\n",
       "      <td>0.054740</td>\n",
       "      <td>-0.029737</td>\n",
       "      <td>NaN</td>\n",
       "      <td>-13.716573</td>\n",
       "      <td>5</td>\n",
       "      <td>66</td>\n",
       "    </tr>\n",
       "    <tr>\n",
       "      <th>369</th>\n",
       "      <td>2017-01-01</td>\n",
       "      <td>BLAST</td>\n",
       "      <td>147.8053</td>\n",
       "      <td>11.5881</td>\n",
       "      <td>134.9893</td>\n",
       "      <td>0.9133</td>\n",
       "      <td>-0.0493</td>\n",
       "      <td>96.0</td>\n",
       "      <td>0.4536</td>\n",
       "      <td>21165.0</td>\n",
       "      <td>...</td>\n",
       "      <td>-7.6621</td>\n",
       "      <td>-0.049284</td>\n",
       "      <td>-34.0966</td>\n",
       "      <td>-28.9869</td>\n",
       "      <td>0.028902</td>\n",
       "      <td>0.054740</td>\n",
       "      <td>NaN</td>\n",
       "      <td>-23.068591</td>\n",
       "      <td>5</td>\n",
       "      <td>67</td>\n",
       "    </tr>\n",
       "    <tr>\n",
       "      <th>492</th>\n",
       "      <td>2018-01-01</td>\n",
       "      <td>BLAST</td>\n",
       "      <td>146.7644</td>\n",
       "      <td>9.8834</td>\n",
       "      <td>134.3545</td>\n",
       "      <td>0.9154</td>\n",
       "      <td>-0.0070</td>\n",
       "      <td>113.0</td>\n",
       "      <td>0.5475</td>\n",
       "      <td>20638.0</td>\n",
       "      <td>...</td>\n",
       "      <td>-1.0409</td>\n",
       "      <td>-0.007042</td>\n",
       "      <td>-32.5816</td>\n",
       "      <td>-35.1375</td>\n",
       "      <td>-0.014051</td>\n",
       "      <td>0.028902</td>\n",
       "      <td>NaN</td>\n",
       "      <td>-22.199934</td>\n",
       "      <td>5</td>\n",
       "      <td>68</td>\n",
       "    </tr>\n",
       "    <tr>\n",
       "      <th>615</th>\n",
       "      <td>2019-01-01</td>\n",
       "      <td>BLAST</td>\n",
       "      <td>140.1918</td>\n",
       "      <td>10.2216</td>\n",
       "      <td>128.5506</td>\n",
       "      <td>0.9170</td>\n",
       "      <td>-0.0448</td>\n",
       "      <td>113.0</td>\n",
       "      <td>0.4710</td>\n",
       "      <td>23994.0</td>\n",
       "      <td>...</td>\n",
       "      <td>-6.5726</td>\n",
       "      <td>-0.044783</td>\n",
       "      <td>-36.3527</td>\n",
       "      <td>-39.1542</td>\n",
       "      <td>-0.015621</td>\n",
       "      <td>-0.014051</td>\n",
       "      <td>NaN</td>\n",
       "      <td>-25.930689</td>\n",
       "      <td>5</td>\n",
       "      <td>69</td>\n",
       "    </tr>\n",
       "    <tr>\n",
       "      <th>739</th>\n",
       "      <td>2020-01-01</td>\n",
       "      <td>BLAST</td>\n",
       "      <td>138.0799</td>\n",
       "      <td>7.9993</td>\n",
       "      <td>128.8500</td>\n",
       "      <td>0.9332</td>\n",
       "      <td>-0.0151</td>\n",
       "      <td>97.0</td>\n",
       "      <td>0.3748</td>\n",
       "      <td>25883.0</td>\n",
       "      <td>...</td>\n",
       "      <td>-2.1119</td>\n",
       "      <td>-0.015064</td>\n",
       "      <td>-19.7790</td>\n",
       "      <td>-38.4646</td>\n",
       "      <td>-0.105841</td>\n",
       "      <td>-0.015621</td>\n",
       "      <td>NaN</td>\n",
       "      <td>-14.324315</td>\n",
       "      <td>5</td>\n",
       "      <td>70</td>\n",
       "    </tr>\n",
       "  </tbody>\n",
       "</table>\n",
       "<p>7 rows × 28 columns</p>\n",
       "</div>"
      ],
      "text/plain": [
       "          Year variable     y_raw  reviews  research_review_diff  \\\n",
       "0   2014-01-01    BLAST  176.5445  10.7851              169.4097   \n",
       "123 2015-01-01    BLAST  157.8589  11.7698              147.9182   \n",
       "246 2016-01-01    BLAST  155.4674  10.5098              143.6341   \n",
       "369 2017-01-01    BLAST  147.8053  11.5881              134.9893   \n",
       "492 2018-01-01    BLAST  146.7644   9.8834              134.3545   \n",
       "615 2019-01-01    BLAST  140.1918  10.2216              128.5506   \n",
       "739 2020-01-01    BLAST  138.0799   7.9993              128.8500   \n",
       "\n",
       "     research_review_ratio  pct_diff  patent_count  patent_frac  \\\n",
       "0                   0.9596   -0.0156         123.0       0.6256   \n",
       "123                 0.9370   -0.1058         122.0       0.6212   \n",
       "246                 0.9239   -0.0151          92.0       0.4699   \n",
       "369                 0.9133   -0.0493          96.0       0.4536   \n",
       "492                 0.9154   -0.0070         113.0       0.5475   \n",
       "615                 0.9170   -0.0448         113.0       0.4710   \n",
       "739                 0.9332   -0.0151          97.0       0.3748   \n",
       "\n",
       "     patent_yearly_total  ...   y_diff  y_pct_diff  diff_lag5  diff_lag6  \\\n",
       "0                19662.0  ...  -2.8015   -0.015621     3.7904     1.8885   \n",
       "123              19640.0  ... -18.6856   -0.105841    -9.7580   -14.8952   \n",
       "246              19578.0  ...  -2.3915   -0.015150   -21.3248   -12.1495   \n",
       "369              21165.0  ...  -7.6621   -0.049284   -34.0966   -28.9869   \n",
       "492              20638.0  ...  -1.0409   -0.007042   -32.5816   -35.1375   \n",
       "615              23994.0  ...  -6.5726   -0.044783   -36.3527   -39.1542   \n",
       "739              25883.0  ...  -2.1119   -0.015064   -19.7790   -38.4646   \n",
       "\n",
       "     pct_diff_lag5  pct_diff_lag6  target_5  lag5_pct_new  start_sub_first  \\\n",
       "0        -0.010889       0.021517  140.1918      2.146994                5   \n",
       "123      -0.029737      -0.010889  138.0799     -6.181470                5   \n",
       "246       0.054740      -0.029737       NaN    -13.716573                5   \n",
       "369       0.028902       0.054740       NaN    -23.068591                5   \n",
       "492      -0.014051       0.028902       NaN    -22.199934                5   \n",
       "615      -0.015621      -0.014051       NaN    -25.930689                5   \n",
       "739      -0.105841      -0.015621       NaN    -14.324315                5   \n",
       "\n",
       "     year_sub_start  \n",
       "0                64  \n",
       "123              65  \n",
       "246              66  \n",
       "369              67  \n",
       "492              68  \n",
       "615              69  \n",
       "739              70  \n",
       "\n",
       "[7 rows x 28 columns]"
      ]
     },
     "metadata": {},
     "output_type": "display_data"
    },
    {
     "data": {
      "text/html": [
       "<div>\n",
       "<style scoped>\n",
       "    .dataframe tbody tr th:only-of-type {\n",
       "        vertical-align: middle;\n",
       "    }\n",
       "\n",
       "    .dataframe tbody tr th {\n",
       "        vertical-align: top;\n",
       "    }\n",
       "\n",
       "    .dataframe thead th {\n",
       "        text-align: right;\n",
       "    }\n",
       "</style>\n",
       "<table border=\"1\" class=\"dataframe\">\n",
       "  <thead>\n",
       "    <tr style=\"text-align: right;\">\n",
       "      <th></th>\n",
       "      <th>Year</th>\n",
       "      <th>variable</th>\n",
       "      <th>y_raw</th>\n",
       "      <th>reviews</th>\n",
       "      <th>research_review_diff</th>\n",
       "      <th>research_review_ratio</th>\n",
       "      <th>pct_diff</th>\n",
       "      <th>patent_count</th>\n",
       "      <th>patent_frac</th>\n",
       "      <th>patent_yearly_total</th>\n",
       "      <th>...</th>\n",
       "      <th>y_diff</th>\n",
       "      <th>y_pct_diff</th>\n",
       "      <th>diff_lag5</th>\n",
       "      <th>diff_lag6</th>\n",
       "      <th>pct_diff_lag5</th>\n",
       "      <th>pct_diff_lag6</th>\n",
       "      <th>target_5</th>\n",
       "      <th>lag5_pct_new</th>\n",
       "      <th>start_sub_first</th>\n",
       "      <th>year_sub_start</th>\n",
       "    </tr>\n",
       "  </thead>\n",
       "  <tbody>\n",
       "    <tr>\n",
       "      <th>122</th>\n",
       "      <td>2014-01-01</td>\n",
       "      <td>zebra fish</td>\n",
       "      <td>235.4479</td>\n",
       "      <td>22.0681</td>\n",
       "      <td>88.0233</td>\n",
       "      <td>0.3739</td>\n",
       "      <td>-0.0153</td>\n",
       "      <td>0.0</td>\n",
       "      <td>0.0000</td>\n",
       "      <td>19662.0</td>\n",
       "      <td>...</td>\n",
       "      <td>-3.6511</td>\n",
       "      <td>-0.015270</td>\n",
       "      <td>38.4216</td>\n",
       "      <td>46.4562</td>\n",
       "      <td>0.042513</td>\n",
       "      <td>0.074991</td>\n",
       "      <td>287.7659</td>\n",
       "      <td>16.318515</td>\n",
       "      <td>5</td>\n",
       "      <td>61</td>\n",
       "    </tr>\n",
       "    <tr>\n",
       "      <th>245</th>\n",
       "      <td>2015-01-01</td>\n",
       "      <td>zebra fish</td>\n",
       "      <td>238.4186</td>\n",
       "      <td>20.7563</td>\n",
       "      <td>79.4464</td>\n",
       "      <td>0.3332</td>\n",
       "      <td>0.0126</td>\n",
       "      <td>0.0</td>\n",
       "      <td>0.0000</td>\n",
       "      <td>19640.0</td>\n",
       "      <td>...</td>\n",
       "      <td>2.9707</td>\n",
       "      <td>0.012617</td>\n",
       "      <td>35.5586</td>\n",
       "      <td>41.3923</td>\n",
       "      <td>0.029609</td>\n",
       "      <td>0.042513</td>\n",
       "      <td>273.3293</td>\n",
       "      <td>14.914357</td>\n",
       "      <td>5</td>\n",
       "      <td>62</td>\n",
       "    </tr>\n",
       "    <tr>\n",
       "      <th>368</th>\n",
       "      <td>2016-01-01</td>\n",
       "      <td>zebra fish</td>\n",
       "      <td>264.3801</td>\n",
       "      <td>24.0558</td>\n",
       "      <td>96.9238</td>\n",
       "      <td>0.3666</td>\n",
       "      <td>0.1089</td>\n",
       "      <td>0.0</td>\n",
       "      <td>0.0000</td>\n",
       "      <td>19578.0</td>\n",
       "      <td>...</td>\n",
       "      <td>25.9615</td>\n",
       "      <td>0.108890</td>\n",
       "      <td>36.3338</td>\n",
       "      <td>61.5201</td>\n",
       "      <td>0.124156</td>\n",
       "      <td>0.029609</td>\n",
       "      <td>NaN</td>\n",
       "      <td>13.743016</td>\n",
       "      <td>5</td>\n",
       "      <td>63</td>\n",
       "    </tr>\n",
       "    <tr>\n",
       "      <th>491</th>\n",
       "      <td>2017-01-01</td>\n",
       "      <td>zebra fish</td>\n",
       "      <td>260.2324</td>\n",
       "      <td>23.8668</td>\n",
       "      <td>79.5815</td>\n",
       "      <td>0.3058</td>\n",
       "      <td>-0.0157</td>\n",
       "      <td>1.0</td>\n",
       "      <td>0.0047</td>\n",
       "      <td>21165.0</td>\n",
       "      <td>...</td>\n",
       "      <td>-4.1477</td>\n",
       "      <td>-0.015688</td>\n",
       "      <td>35.9295</td>\n",
       "      <td>32.1861</td>\n",
       "      <td>-0.016415</td>\n",
       "      <td>0.124156</td>\n",
       "      <td>NaN</td>\n",
       "      <td>13.806697</td>\n",
       "      <td>5</td>\n",
       "      <td>64</td>\n",
       "    </tr>\n",
       "    <tr>\n",
       "      <th>614</th>\n",
       "      <td>2018-01-01</td>\n",
       "      <td>zebra fish</td>\n",
       "      <td>273.0933</td>\n",
       "      <td>21.4016</td>\n",
       "      <td>112.5070</td>\n",
       "      <td>0.4120</td>\n",
       "      <td>0.0494</td>\n",
       "      <td>1.0</td>\n",
       "      <td>0.0048</td>\n",
       "      <td>20638.0</td>\n",
       "      <td>...</td>\n",
       "      <td>12.8609</td>\n",
       "      <td>0.049421</td>\n",
       "      <td>33.9943</td>\n",
       "      <td>48.7904</td>\n",
       "      <td>0.065965</td>\n",
       "      <td>-0.016415</td>\n",
       "      <td>NaN</td>\n",
       "      <td>12.447870</td>\n",
       "      <td>5</td>\n",
       "      <td>65</td>\n",
       "    </tr>\n",
       "    <tr>\n",
       "      <th>738</th>\n",
       "      <td>2019-01-01</td>\n",
       "      <td>zebra fish</td>\n",
       "      <td>287.7659</td>\n",
       "      <td>23.2825</td>\n",
       "      <td>138.4172</td>\n",
       "      <td>0.4810</td>\n",
       "      <td>0.0537</td>\n",
       "      <td>0.0</td>\n",
       "      <td>0.0000</td>\n",
       "      <td>23994.0</td>\n",
       "      <td>...</td>\n",
       "      <td>14.6726</td>\n",
       "      <td>0.053727</td>\n",
       "      <td>52.3180</td>\n",
       "      <td>48.6669</td>\n",
       "      <td>-0.015270</td>\n",
       "      <td>0.065965</td>\n",
       "      <td>NaN</td>\n",
       "      <td>18.180750</td>\n",
       "      <td>5</td>\n",
       "      <td>66</td>\n",
       "    </tr>\n",
       "    <tr>\n",
       "      <th>862</th>\n",
       "      <td>2020-01-01</td>\n",
       "      <td>zebra fish</td>\n",
       "      <td>273.3293</td>\n",
       "      <td>22.3980</td>\n",
       "      <td>125.3426</td>\n",
       "      <td>0.4586</td>\n",
       "      <td>-0.0502</td>\n",
       "      <td>1.0</td>\n",
       "      <td>0.0039</td>\n",
       "      <td>25883.0</td>\n",
       "      <td>...</td>\n",
       "      <td>-14.4366</td>\n",
       "      <td>-0.050168</td>\n",
       "      <td>34.9107</td>\n",
       "      <td>37.8814</td>\n",
       "      <td>0.012617</td>\n",
       "      <td>-0.015270</td>\n",
       "      <td>NaN</td>\n",
       "      <td>12.772396</td>\n",
       "      <td>5</td>\n",
       "      <td>67</td>\n",
       "    </tr>\n",
       "  </tbody>\n",
       "</table>\n",
       "<p>7 rows × 28 columns</p>\n",
       "</div>"
      ],
      "text/plain": [
       "          Year    variable     y_raw  reviews  research_review_diff  \\\n",
       "122 2014-01-01  zebra fish  235.4479  22.0681               88.0233   \n",
       "245 2015-01-01  zebra fish  238.4186  20.7563               79.4464   \n",
       "368 2016-01-01  zebra fish  264.3801  24.0558               96.9238   \n",
       "491 2017-01-01  zebra fish  260.2324  23.8668               79.5815   \n",
       "614 2018-01-01  zebra fish  273.0933  21.4016              112.5070   \n",
       "738 2019-01-01  zebra fish  287.7659  23.2825              138.4172   \n",
       "862 2020-01-01  zebra fish  273.3293  22.3980              125.3426   \n",
       "\n",
       "     research_review_ratio  pct_diff  patent_count  patent_frac  \\\n",
       "122                 0.3739   -0.0153           0.0       0.0000   \n",
       "245                 0.3332    0.0126           0.0       0.0000   \n",
       "368                 0.3666    0.1089           0.0       0.0000   \n",
       "491                 0.3058   -0.0157           1.0       0.0047   \n",
       "614                 0.4120    0.0494           1.0       0.0048   \n",
       "738                 0.4810    0.0537           0.0       0.0000   \n",
       "862                 0.4586   -0.0502           1.0       0.0039   \n",
       "\n",
       "     patent_yearly_total  ...   y_diff  y_pct_diff  diff_lag5  diff_lag6  \\\n",
       "122              19662.0  ...  -3.6511   -0.015270    38.4216    46.4562   \n",
       "245              19640.0  ...   2.9707    0.012617    35.5586    41.3923   \n",
       "368              19578.0  ...  25.9615    0.108890    36.3338    61.5201   \n",
       "491              21165.0  ...  -4.1477   -0.015688    35.9295    32.1861   \n",
       "614              20638.0  ...  12.8609    0.049421    33.9943    48.7904   \n",
       "738              23994.0  ...  14.6726    0.053727    52.3180    48.6669   \n",
       "862              25883.0  ... -14.4366   -0.050168    34.9107    37.8814   \n",
       "\n",
       "     pct_diff_lag5  pct_diff_lag6  target_5  lag5_pct_new  start_sub_first  \\\n",
       "122       0.042513       0.074991  287.7659     16.318515                5   \n",
       "245       0.029609       0.042513  273.3293     14.914357                5   \n",
       "368       0.124156       0.029609       NaN     13.743016                5   \n",
       "491      -0.016415       0.124156       NaN     13.806697                5   \n",
       "614       0.065965      -0.016415       NaN     12.447870                5   \n",
       "738      -0.015270       0.065965       NaN     18.180750                5   \n",
       "862       0.012617      -0.015270       NaN     12.772396                5   \n",
       "\n",
       "     year_sub_start  \n",
       "122              61  \n",
       "245              62  \n",
       "368              63  \n",
       "491              64  \n",
       "614              65  \n",
       "738              66  \n",
       "862              67  \n",
       "\n",
       "[7 rows x 28 columns]"
      ]
     },
     "metadata": {},
     "output_type": "display_data"
    }
   ],
   "source": [
    "display(df_targets.sort_values([\"variable\",\"Year\"]).head(7))\n",
    "display(df_targets.sort_values([\"variable\",\"Year\"]).tail(7))"
   ]
  },
  {
   "cell_type": "code",
   "execution_count": 8,
   "id": "47adf239",
   "metadata": {},
   "outputs": [],
   "source": [
    "if FILTER_GROUP_SIZES:\n",
    "    print(df_targets.shape[0])\n",
    "    element_group_sizes = df_targets['variable'].groupby(df_targets['variable']).transform('count')\n",
    "    df_targets = df_targets[element_group_sizes>1] # was 5, changed for CV results\n",
    "    df_targets.reset_index(inplace=True,drop=True) # otherwise, error ?? \n",
    "    print(df_targets.shape[0])\n",
    "\n",
    "if DIFF_TARGET_PCT:\n",
    "    print(\"DIFF_TARGET_PCT\")\n",
    "    df_targets[\"target_5\"] = 100*df_targets[\"target_5\"].sub(df_targets[\"lag5\"]).div(df_targets[\"y_raw\"]).round(4) # alt, pct change target\n",
    "#     df_targets[\"y_raw\"] = 100*df_targets[\"y_raw\"].div(df_targets[\"lag5\"]).round(4) # alt, pct change target\n",
    "elif DIFF_TARGET:\n",
    "    print(\"DIFF_TARGET\")\n",
    "    df_targets[\"target_5\"] = df_targets[\"target_5\"].sub(df_targets[\"lag5\"])\n",
    "#     df_targets[\"y_raw\"] = df_targets[\"y_raw\"].sub(df_targets[\"lag5\"]) # not needed? \n",
    "#     df_targets[\"y_raw\"] = df_targets[\"y_raw\"].div(df_targets[\"lag5\"]) # alt, pct change target\n",
    "if DIFF_TARGET_PCT or DIFF_TARGET:\n",
    "    print(\"differencing of target applied\")\n",
    "#     df_targets.dropna(subset=[\"y_raw\"],inplace=True)\n",
    "    df_targets_orig_full = df_targets.copy() # new, keep copy of full data for getting future preds\n",
    "    df_targets.dropna(subset=[\"target_5\"],inplace=True) ## originally we dropped - keep these for predictions! \n",
    "    df_targets.reset_index(inplace=True,drop=True)\n",
    "    display(df_targets[[\"target_5\",\"y_raw\"]].describe().round(3))\n",
    "else:\n",
    "    df_targets_orig_full = df_targets.copy()"
   ]
  },
  {
   "cell_type": "code",
   "execution_count": 9,
   "id": "89436916",
   "metadata": {},
   "outputs": [],
   "source": [
    "if DIFF_TARGET_PCT:\n",
    "    print(\"percent differenced target has some outliers (especially around start of a topic) and some extreme values (11,644)\")\n",
    "    ### extreme growth topics - subthalamus, rnai, MRI, fMRI, carbon nanotubes, perceptron - makes sense\n",
    "    display(df_targets[df_targets[\"target_5\"]>3000].sort_values([\"target_5\"],ascending=False).filter([\"Year\",\"variable\",\"y_raw\",\"target_5\"],axis=1))\n"
   ]
  },
  {
   "cell_type": "code",
   "execution_count": 10,
   "id": "d9374c18",
   "metadata": {},
   "outputs": [
    {
     "data": {
      "text/plain": [
       "0      140.1918\n",
       "1       96.4662\n",
       "2       68.3568\n",
       "3        7.1693\n",
       "4      379.4762\n",
       "         ...   \n",
       "858         NaN\n",
       "859         NaN\n",
       "860         NaN\n",
       "861         NaN\n",
       "862         NaN\n",
       "Name: target_5, Length: 863, dtype: float64"
      ]
     },
     "execution_count": 10,
     "metadata": {},
     "output_type": "execute_result"
    }
   ],
   "source": [
    "df_targets[\"target_5\"]"
   ]
  },
  {
   "cell_type": "code",
   "execution_count": 11,
   "id": "0a3e5f4b",
   "metadata": {},
   "outputs": [
    {
     "data": {
      "text/plain": [
       "0.9831738597609103"
      ]
     },
     "execution_count": 11,
     "metadata": {},
     "output_type": "execute_result"
    }
   ],
   "source": [
    "df_targets[\"target_5\"].corr(df_targets['y_raw'])"
   ]
  },
  {
   "cell_type": "markdown",
   "id": "b3d5b5f4",
   "metadata": {},
   "source": [
    "## Fig S2- Increasing popularity over time"
   ]
  },
  {
   "cell_type": "code",
   "execution_count": 12,
   "id": "9f05830e",
   "metadata": {},
   "outputs": [
    {
     "data": {
      "text/plain": [
       "<Axes: title={'center': 'Increasing popularity over time'}, xlabel='Year', ylabel='Average popularity of all topics'>"
      ]
     },
     "execution_count": 12,
     "metadata": {},
     "output_type": "execute_result"
    },
    {
     "data": {
      "image/png": "[encoded data removed]",
      "text/plain": [
       "<Figure size 640x480 with 1 Axes>"
      ]
     },
     "metadata": {},
     "output_type": "display_data"
    }
   ],
   "source": [
    "df_targets.groupby(\"Year\")['y_raw'].mean().plot(ylabel=\"Average popularity of all topics\",title=\"Increasing popularity over time\")"
   ]
  },
  {
   "cell_type": "code",
   "execution_count": 13,
   "id": "c6aa3ab6",
   "metadata": {},
   "outputs": [
    {
     "name": "stdout",
     "output_type": "stream",
     "text": [
      "-3 0.698\n",
      "-2 0.803\n",
      "-1 0.903\n",
      "0 1.0\n",
      "1 0.914\n",
      "2 0.824\n",
      "3 0.728\n",
      "4 0.621\n",
      "5 0.499\n",
      "6 0.349\n",
      "7 nan\n",
      "8 nan\n"
     ]
    }
   ],
   "source": [
    "# # df_targets.groupby('variable')['y_raw'].apply(lambda x: x.autocorr(lag=1)).mean().round(3)\n",
    "# df_g = df_targets.groupby([\"variable\"])\n",
    "# for i in range(-2,7):#[-1,0,1,2]:\n",
    "#     print(i,df_g.apply(lambda df2: df2['y_raw'].corr(df2['y_raw'].shift(i))).mean().round(3))\n",
    "\n",
    "# df_targets.groupby(\"variable\")[\"y_raw\"].shift(-5)\n",
    "for i in range(-3,9):\n",
    "    ## assumes data sorted! \n",
    "    df_targets[\"lagged\"] = df_targets.groupby(\"variable\")[\"y_raw\"].shift(i).fillna(0) ## fillna 0 greatly changes results!!\n",
    "    print(i,df_targets['y_raw'].corr(df_targets[\"lagged\"]).round(3))\n",
    "    df_targets.drop(columns=[\"lagged\"],inplace=True)"
   ]
  },
  {
   "cell_type": "code",
   "execution_count": 14,
   "id": "9eb812b7",
   "metadata": {},
   "outputs": [],
   "source": [
    "# pd.plotting.autocorrelation_plot(df_targets.groupby('variable')['y_raw'])"
   ]
  },
  {
   "cell_type": "code",
   "execution_count": 15,
   "id": "98e5b4fb",
   "metadata": {
    "scrolled": true
   },
   "outputs": [
    {
     "name": "stdout",
     "output_type": "stream",
     "text": [
      "Correlation with target (y_raw) at same time (not lagged):\n"
     ]
    },
    {
     "name": "stderr",
     "output_type": "stream",
     "text": [
      "C:\\Users\\ddofe\\AppData\\Local\\Temp\\ipykernel_1820\\2343291149.py:2: FutureWarning: The default value of numeric_only in DataFrame.corrwith is deprecated. In a future version, it will default to False. Select only valid columns or specify the value of numeric_only to silence this warning.\n",
      "  df_targets.corrwith(df_targets[\"y_raw\"],method=\"spearman\").round(2).sort_values()\n"
     ]
    },
    {
     "data": {
      "text/plain": [
       "review_research_diff_2    -1.00\n",
       "start                     -0.32\n",
       "first                     -0.28\n",
       "start_sub_first           -0.23\n",
       "y_diff                    -0.04\n",
       "review_research_ratio_2   -0.00\n",
       "diff_lag5                  0.01\n",
       "patent_yearly_total        0.01\n",
       "year_num                   0.01\n",
       "diff_lag6                  0.05\n",
       "pct_diff                   0.08\n",
       "y_pct_diff                 0.08\n",
       "pct_diff_lag5              0.10\n",
       "pct_diff_lag6              0.11\n",
       "lag5_pct_new               0.14\n",
       "pat_div_research           0.18\n",
       "year_sub_start             0.27\n",
       "patent_frac                0.54\n",
       "patent_count               0.54\n",
       "research_review_ratio      0.60\n",
       "research_review_diff       0.91\n",
       "lag6                       0.94\n",
       "reviews                    0.95\n",
       "lag5                       0.96\n",
       "target_5                   0.96\n",
       "y_raw                      1.00\n",
       "dtype: float64"
      ]
     },
     "execution_count": 15,
     "metadata": {},
     "output_type": "execute_result"
    }
   ],
   "source": [
    "print(\"Correlation with target (y_raw) at same time (not lagged):\")\n",
    "df_targets.corrwith(df_targets[\"y_raw\"],method=\"spearman\").round(2).sort_values()"
   ]
  },
  {
   "cell_type": "code",
   "execution_count": 16,
   "id": "c1a36f51",
   "metadata": {},
   "outputs": [],
   "source": [
    "# print(\"Lagged with target as it will be in 3 years:\")\n",
    "# df_targets.corrwith(df_targets.groupby(\"variable\")[\"y_raw\"].shift(-3),method=\"spearman\").round(2).sort_values()"
   ]
  },
  {
   "cell_type": "code",
   "execution_count": 17,
   "id": "ef398f17",
   "metadata": {},
   "outputs": [
    {
     "name": "stdout",
     "output_type": "stream",
     "text": [
      "Lagged with target as it will be in 5 years:\n"
     ]
    },
    {
     "name": "stderr",
     "output_type": "stream",
     "text": [
      "C:\\Users\\ddofe\\AppData\\Local\\Temp\\ipykernel_1820\\306039777.py:2: FutureWarning: The default value of numeric_only in DataFrame.corrwith is deprecated. In a future version, it will default to False. Select only valid columns or specify the value of numeric_only to silence this warning.\n",
      "  df_targets.corrwith(df_targets.groupby(\"variable\")[\"y_raw\"].shift(-5),method=\"spearman\").round(2).sort_values()\n"
     ]
    },
    {
     "data": {
      "text/plain": [
       "review_research_diff_2    -0.95\n",
       "start                     -0.26\n",
       "first                     -0.22\n",
       "start_sub_first           -0.21\n",
       "year_num                  -0.01\n",
       "patent_yearly_total        0.01\n",
       "review_research_ratio_2    0.07\n",
       "y_diff                     0.07\n",
       "pct_diff                   0.11\n",
       "y_pct_diff                 0.11\n",
       "diff_lag5                  0.14\n",
       "pct_diff_lag5              0.17\n",
       "lag5_pct_new               0.18\n",
       "pct_diff_lag6              0.19\n",
       "diff_lag6                  0.20\n",
       "year_sub_start             0.24\n",
       "pat_div_research           0.26\n",
       "patent_frac                0.55\n",
       "patent_count               0.55\n",
       "research_review_ratio      0.56\n",
       "lag6                       0.85\n",
       "research_review_diff       0.85\n",
       "lag5                       0.87\n",
       "reviews                    0.92\n",
       "y_raw                      0.96\n",
       "target_5                   1.00\n",
       "dtype: float64"
      ]
     },
     "execution_count": 17,
     "metadata": {},
     "output_type": "execute_result"
    }
   ],
   "source": [
    "print(\"Lagged with target as it will be in 5 years:\")\n",
    "df_targets.corrwith(df_targets.groupby(\"variable\")[\"y_raw\"].shift(-5),method=\"spearman\").round(2).sort_values()"
   ]
  },
  {
   "cell_type": "code",
   "execution_count": 18,
   "id": "12d197f8",
   "metadata": {},
   "outputs": [
    {
     "name": "stdout",
     "output_type": "stream",
     "text": [
      "(reverse) Lagged with target as it was 5 years ago\n"
     ]
    },
    {
     "name": "stderr",
     "output_type": "stream",
     "text": [
      "C:\\Users\\ddofe\\AppData\\Local\\Temp\\ipykernel_1820\\4003187604.py:2: FutureWarning: The default value of numeric_only in DataFrame.corrwith is deprecated. In a future version, it will default to False. Select only valid columns or specify the value of numeric_only to silence this warning.\n",
      "  df_targets.corrwith(df_targets.groupby(\"variable\")[\"y_raw\"].shift(5),method=\"spearman\").round(2).sort_values()\n"
     ]
    },
    {
     "data": {
      "text/plain": [
       "review_research_diff_2    -0.96\n",
       "start                     -0.37\n",
       "first                     -0.33\n",
       "y_diff                    -0.29\n",
       "start_sub_first           -0.26\n",
       "diff_lag5                 -0.21\n",
       "diff_lag6                 -0.18\n",
       "review_research_ratio_2   -0.05\n",
       "pct_diff_lag5             -0.05\n",
       "pct_diff                  -0.03\n",
       "y_pct_diff                -0.03\n",
       "pct_diff_lag6              0.00\n",
       "patent_yearly_total        0.00\n",
       "year_num                   0.00\n",
       "lag5_pct_new               0.06\n",
       "pat_div_research           0.09\n",
       "year_sub_start             0.35\n",
       "patent_frac                0.50\n",
       "patent_count               0.50\n",
       "research_review_ratio      0.62\n",
       "research_review_diff       0.90\n",
       "reviews                    0.90\n",
       "y_raw                      0.96\n",
       "lag5                       1.00\n",
       "lag6                       1.00\n",
       "target_5                    NaN\n",
       "dtype: float64"
      ]
     },
     "execution_count": 18,
     "metadata": {},
     "output_type": "execute_result"
    }
   ],
   "source": [
    "print(\"(reverse) Lagged with target as it was 5 years ago\")\n",
    "df_targets.corrwith(df_targets.groupby(\"variable\")[\"y_raw\"].shift(5),method=\"spearman\").round(2).sort_values()"
   ]
  },
  {
   "cell_type": "markdown",
   "id": "a1dfd8c0",
   "metadata": {},
   "source": [
    "##### Corr with lagged, diffed target:"
   ]
  },
  {
   "cell_type": "code",
   "execution_count": 19,
   "id": "500b9464",
   "metadata": {},
   "outputs": [
    {
     "name": "stdout",
     "output_type": "stream",
     "text": [
      "Correlation with target diff_lag5 at same time (not lagged):\n"
     ]
    },
    {
     "name": "stderr",
     "output_type": "stream",
     "text": [
      "C:\\Users\\ddofe\\AppData\\Local\\Temp\\ipykernel_1820\\1185706083.py:2: FutureWarning: The default value of numeric_only in DataFrame.corrwith is deprecated. In a future version, it will default to False. Select only valid columns or specify the value of numeric_only to silence this warning.\n",
      "  df_targets.corrwith(df_targets[\"diff_lag5\"],method=\"spearman\").round(2).sort_values()\n"
     ]
    },
    {
     "data": {
      "text/plain": [
       "year_sub_start            -0.26\n",
       "lag6                      -0.22\n",
       "lag5                      -0.18\n",
       "patent_count              -0.08\n",
       "patent_frac               -0.08\n",
       "year_num                  -0.05\n",
       "pat_div_research          -0.05\n",
       "research_review_diff      -0.03\n",
       "patent_yearly_total       -0.03\n",
       "research_review_ratio     -0.01\n",
       "review_research_diff_2     0.00\n",
       "y_raw                      0.01\n",
       "reviews                    0.07\n",
       "target_5                   0.14\n",
       "start_sub_first            0.17\n",
       "review_research_ratio_2    0.23\n",
       "first                      0.25\n",
       "start                      0.26\n",
       "pct_diff_lag6              0.47\n",
       "pct_diff_lag5              0.50\n",
       "pct_diff                   0.62\n",
       "y_pct_diff                 0.62\n",
       "y_diff                     0.71\n",
       "lag5_pct_new               0.81\n",
       "diff_lag6                  0.97\n",
       "diff_lag5                  1.00\n",
       "dtype: float64"
      ]
     },
     "execution_count": 19,
     "metadata": {},
     "output_type": "execute_result"
    }
   ],
   "source": [
    "print(\"Correlation with target diff_lag5 at same time (not lagged):\")\n",
    "df_targets.corrwith(df_targets[\"diff_lag5\"],method=\"spearman\").round(2).sort_values()"
   ]
  },
  {
   "cell_type": "code",
   "execution_count": 20,
   "id": "ad03d071",
   "metadata": {},
   "outputs": [
    {
     "name": "stdout",
     "output_type": "stream",
     "text": [
      "Lagged with target diff_lag5 as it will be in 5 years:\n"
     ]
    },
    {
     "name": "stderr",
     "output_type": "stream",
     "text": [
      "C:\\Users\\ddofe\\AppData\\Local\\Temp\\ipykernel_1820\\2257841306.py:2: FutureWarning: The default value of numeric_only in DataFrame.corrwith is deprecated. In a future version, it will default to False. Select only valid columns or specify the value of numeric_only to silence this warning.\n",
      "  df_targets.corrwith(df_targets.groupby(\"variable\")[\"diff_lag5\"].shift(-5),method=\"spearman\").round(2).sort_values()\n"
     ]
    },
    {
     "data": {
      "text/plain": [
       "lag6                      -0.36\n",
       "lag5                      -0.35\n",
       "year_sub_start            -0.26\n",
       "research_review_diff      -0.23\n",
       "y_raw                     -0.21\n",
       "reviews                   -0.12\n",
       "patent_count              -0.11\n",
       "patent_frac               -0.11\n",
       "research_review_ratio     -0.11\n",
       "year_num                  -0.04\n",
       "pat_div_research          -0.02\n",
       "target_5                  -0.01\n",
       "patent_yearly_total        0.04\n",
       "start_sub_first            0.16\n",
       "review_research_diff_2     0.22\n",
       "pct_diff_lag5              0.23\n",
       "first                      0.27\n",
       "start                      0.27\n",
       "pct_diff_lag6              0.28\n",
       "review_research_ratio_2    0.28\n",
       "diff_lag6                  0.47\n",
       "pct_diff                   0.54\n",
       "y_pct_diff                 0.54\n",
       "lag5_pct_new               0.54\n",
       "diff_lag5                  0.55\n",
       "y_diff                     0.63\n",
       "dtype: float64"
      ]
     },
     "execution_count": 20,
     "metadata": {},
     "output_type": "execute_result"
    }
   ],
   "source": [
    "print(\"Lagged with target diff_lag5 as it will be in 5 years:\")\n",
    "df_targets.corrwith(df_targets.groupby(\"variable\")[\"diff_lag5\"].shift(-5),method=\"spearman\").round(2).sort_values()"
   ]
  },
  {
   "cell_type": "markdown",
   "id": "ba024ee4",
   "metadata": {},
   "source": [
    "`pct_diff`"
   ]
  },
  {
   "cell_type": "code",
   "execution_count": 21,
   "id": "705bfe49",
   "metadata": {},
   "outputs": [
    {
     "name": "stdout",
     "output_type": "stream",
     "text": [
      "Lagged with target lag5_pct_new, unlagged\n"
     ]
    },
    {
     "name": "stderr",
     "output_type": "stream",
     "text": [
      "C:\\Users\\ddofe\\AppData\\Local\\Temp\\ipykernel_1820\\4072984877.py:2: FutureWarning: The default value of numeric_only in DataFrame.corrwith is deprecated. In a future version, it will default to False. Select only valid columns or specify the value of numeric_only to silence this warning.\n",
      "  df_targets.corrwith(df_targets[\"lag5_pct_new\"],method=\"spearman\").round(3).sort_values()\n"
     ]
    },
    {
     "data": {
      "text/plain": [
       "year_sub_start            -0.335\n",
       "review_research_diff_2    -0.132\n",
       "lag6                      -0.125\n",
       "lag5                      -0.090\n",
       "year_num                  -0.088\n",
       "patent_yearly_total       -0.065\n",
       "pat_div_research           0.037\n",
       "patent_count               0.052\n",
       "patent_frac                0.054\n",
       "research_review_ratio      0.091\n",
       "research_review_diff       0.100\n",
       "y_raw                      0.138\n",
       "review_research_ratio_2    0.146\n",
       "reviews                    0.176\n",
       "target_5                   0.176\n",
       "start_sub_first            0.203\n",
       "first                      0.311\n",
       "start                      0.315\n",
       "pct_diff_lag6              0.513\n",
       "pct_diff_lag5              0.540\n",
       "y_diff                     0.618\n",
       "pct_diff                   0.725\n",
       "y_pct_diff                 0.725\n",
       "diff_lag6                  0.794\n",
       "diff_lag5                  0.809\n",
       "lag5_pct_new               1.000\n",
       "dtype: float64"
      ]
     },
     "execution_count": 21,
     "metadata": {},
     "output_type": "execute_result"
    }
   ],
   "source": [
    "print(\"Lagged with target lag5_pct_new, unlagged\")\n",
    "df_targets.corrwith(df_targets[\"lag5_pct_new\"],method=\"spearman\").round(3).sort_values()"
   ]
  },
  {
   "cell_type": "code",
   "execution_count": 22,
   "id": "0e8aff5a",
   "metadata": {},
   "outputs": [
    {
     "name": "stdout",
     "output_type": "stream",
     "text": [
      "Lagged with target pct_diff (vs 5 y ago) as it will be in 5 years:\n"
     ]
    },
    {
     "name": "stderr",
     "output_type": "stream",
     "text": [
      "C:\\Users\\ddofe\\AppData\\Local\\Temp\\ipykernel_1820\\4240780205.py:2: FutureWarning: The default value of numeric_only in DataFrame.corrwith is deprecated. In a future version, it will default to False. Select only valid columns or specify the value of numeric_only to silence this warning.\n",
      "  df_targets.corrwith(df_targets.groupby(\"variable\")[\"lag5_pct_new\"].shift(-5),method=\"spearman\").round(2).sort_values()\n"
     ]
    },
    {
     "data": {
      "text/plain": [
       "year_sub_start            -0.29\n",
       "lag6                      -0.14\n",
       "lag5                      -0.12\n",
       "year_num                  -0.08\n",
       "review_research_diff_2    -0.05\n",
       "research_review_diff       0.01\n",
       "y_raw                      0.06\n",
       "research_review_ratio      0.07\n",
       "patent_yearly_total        0.08\n",
       "patent_count               0.10\n",
       "patent_frac                0.10\n",
       "reviews                    0.11\n",
       "pat_div_research           0.13\n",
       "start_sub_first            0.17\n",
       "review_research_ratio_2    0.22\n",
       "first                      0.28\n",
       "start                      0.28\n",
       "target_5                   0.29\n",
       "pct_diff_lag5              0.35\n",
       "pct_diff_lag6              0.35\n",
       "diff_lag6                  0.52\n",
       "y_diff                     0.54\n",
       "diff_lag5                  0.55\n",
       "pct_diff                   0.57\n",
       "y_pct_diff                 0.57\n",
       "lag5_pct_new               0.70\n",
       "dtype: float64"
      ]
     },
     "execution_count": 22,
     "metadata": {},
     "output_type": "execute_result"
    }
   ],
   "source": [
    "print(\"Lagged with target pct_diff (vs 5 y ago) as it will be in 5 years:\")\n",
    "df_targets.corrwith(df_targets.groupby(\"variable\")[\"lag5_pct_new\"].shift(-5),method=\"spearman\").round(2).sort_values()"
   ]
  },
  {
   "cell_type": "code",
   "execution_count": 23,
   "id": "d9385863",
   "metadata": {},
   "outputs": [
    {
     "name": "stderr",
     "output_type": "stream",
     "text": [
      "C:\\Users\\ddofe\\AppData\\Local\\Temp\\ipykernel_1820\\1339698907.py:1: FutureWarning: The default value of numeric_only in DataFrame.corrwith is deprecated. In a future version, it will default to False. Select only valid columns or specify the value of numeric_only to silence this warning.\n",
      "  df_targets.corrwith(df_targets[\"diff_lag5\"].shift(-5),method=\"spearman\").round(2).sort_values()\n"
     ]
    },
    {
     "data": {
      "text/plain": [
       "review_research_diff_2    -0.08\n",
       "year_num                  -0.05\n",
       "start_sub_first           -0.04\n",
       "y_diff                    -0.03\n",
       "patent_yearly_total       -0.03\n",
       "first                     -0.01\n",
       "start                     -0.01\n",
       "pat_div_research           0.00\n",
       "y_pct_diff                 0.01\n",
       "pct_diff                   0.01\n",
       "diff_lag5                  0.02\n",
       "year_sub_start             0.02\n",
       "diff_lag6                  0.02\n",
       "research_review_ratio      0.04\n",
       "target_5                   0.04\n",
       "lag5_pct_new               0.05\n",
       "lag6                       0.06\n",
       "patent_count               0.06\n",
       "pct_diff_lag5              0.06\n",
       "lag5                       0.07\n",
       "patent_frac                0.07\n",
       "y_raw                      0.08\n",
       "research_review_diff       0.08\n",
       "review_research_ratio_2    0.09\n",
       "pct_diff_lag6              0.10\n",
       "reviews                    0.11\n",
       "dtype: float64"
      ]
     },
     "execution_count": 23,
     "metadata": {},
     "output_type": "execute_result"
    }
   ],
   "source": [
    "df_targets.corrwith(df_targets[\"diff_lag5\"].shift(-5),method=\"spearman\").round(2).sort_values()"
   ]
  },
  {
   "cell_type": "code",
   "execution_count": 24,
   "id": "e3ed076a",
   "metadata": {
    "scrolled": true
   },
   "outputs": [
    {
     "name": "stderr",
     "output_type": "stream",
     "text": [
      "C:\\Users\\ddofe\\AppData\\Local\\Temp\\ipykernel_1820\\2159289963.py:1: FutureWarning: The default value of numeric_only in DataFrame.corrwith is deprecated. In a future version, it will default to False. Select only valid columns or specify the value of numeric_only to silence this warning.\n",
      "  df_targets.corrwith(df_targets.groupby(\"variable\")[\"diff_lag5\"].shift(-5),method=\"spearman\").round(2).sort_values()\n"
     ]
    },
    {
     "data": {
      "text/plain": [
       "lag6                      -0.36\n",
       "lag5                      -0.35\n",
       "year_sub_start            -0.26\n",
       "research_review_diff      -0.23\n",
       "y_raw                     -0.21\n",
       "reviews                   -0.12\n",
       "patent_count              -0.11\n",
       "patent_frac               -0.11\n",
       "research_review_ratio     -0.11\n",
       "year_num                  -0.04\n",
       "pat_div_research          -0.02\n",
       "target_5                  -0.01\n",
       "patent_yearly_total        0.04\n",
       "start_sub_first            0.16\n",
       "review_research_diff_2     0.22\n",
       "pct_diff_lag5              0.23\n",
       "first                      0.27\n",
       "start                      0.27\n",
       "pct_diff_lag6              0.28\n",
       "review_research_ratio_2    0.28\n",
       "diff_lag6                  0.47\n",
       "pct_diff                   0.54\n",
       "y_pct_diff                 0.54\n",
       "lag5_pct_new               0.54\n",
       "diff_lag5                  0.55\n",
       "y_diff                     0.63\n",
       "dtype: float64"
      ]
     },
     "execution_count": 24,
     "metadata": {},
     "output_type": "execute_result"
    }
   ],
   "source": [
    "df_targets.corrwith(df_targets.groupby(\"variable\")[\"diff_lag5\"].shift(-5),method=\"spearman\").round(2).sort_values()"
   ]
  },
  {
   "cell_type": "markdown",
   "id": "d2ba1936",
   "metadata": {},
   "source": [
    "### Baseline model - lag raw\n",
    "* baseline model of input features, lag 5"
   ]
  },
  {
   "cell_type": "code",
   "execution_count": 25,
   "id": "89eb08f5",
   "metadata": {},
   "outputs": [
    {
     "data": {
      "text/html": [
       "<div>\n",
       "<style scoped>\n",
       "    .dataframe tbody tr th:only-of-type {\n",
       "        vertical-align: middle;\n",
       "    }\n",
       "\n",
       "    .dataframe tbody tr th {\n",
       "        vertical-align: top;\n",
       "    }\n",
       "\n",
       "    .dataframe thead th {\n",
       "        text-align: right;\n",
       "    }\n",
       "</style>\n",
       "<table border=\"1\" class=\"dataframe\">\n",
       "  <thead>\n",
       "    <tr style=\"text-align: right;\">\n",
       "      <th></th>\n",
       "      <th>Year</th>\n",
       "      <th>variable</th>\n",
       "      <th>y_raw</th>\n",
       "      <th>target_5</th>\n",
       "    </tr>\n",
       "  </thead>\n",
       "  <tbody>\n",
       "    <tr>\n",
       "      <th>0</th>\n",
       "      <td>2014-01-01</td>\n",
       "      <td>BLAST</td>\n",
       "      <td>176.5445</td>\n",
       "      <td>140.1918</td>\n",
       "    </tr>\n",
       "    <tr>\n",
       "      <th>1</th>\n",
       "      <td>2014-01-01</td>\n",
       "      <td>BRCA1</td>\n",
       "      <td>87.6085</td>\n",
       "      <td>96.4662</td>\n",
       "    </tr>\n",
       "    <tr>\n",
       "      <th>2</th>\n",
       "      <td>2014-01-01</td>\n",
       "      <td>BRCA2</td>\n",
       "      <td>55.9998</td>\n",
       "      <td>68.3568</td>\n",
       "    </tr>\n",
       "    <tr>\n",
       "      <th>3</th>\n",
       "      <td>2014-01-01</td>\n",
       "      <td>Brodmann area</td>\n",
       "      <td>12.5274</td>\n",
       "      <td>7.1693</td>\n",
       "    </tr>\n",
       "    <tr>\n",
       "      <th>4</th>\n",
       "      <td>2014-01-01</td>\n",
       "      <td>CRISPR</td>\n",
       "      <td>57.8250</td>\n",
       "      <td>379.4762</td>\n",
       "    </tr>\n",
       "    <tr>\n",
       "      <th>...</th>\n",
       "      <td>...</td>\n",
       "      <td>...</td>\n",
       "      <td>...</td>\n",
       "      <td>...</td>\n",
       "    </tr>\n",
       "    <tr>\n",
       "      <th>858</th>\n",
       "      <td>2020-01-01</td>\n",
       "      <td>vaccine</td>\n",
       "      <td>1641.1449</td>\n",
       "      <td>NaN</td>\n",
       "    </tr>\n",
       "    <tr>\n",
       "      <th>859</th>\n",
       "      <td>2020-01-01</td>\n",
       "      <td>viral therapy</td>\n",
       "      <td>1272.5626</td>\n",
       "      <td>NaN</td>\n",
       "    </tr>\n",
       "    <tr>\n",
       "      <th>860</th>\n",
       "      <td>2020-01-01</td>\n",
       "      <td>vitamin C</td>\n",
       "      <td>186.8140</td>\n",
       "      <td>NaN</td>\n",
       "    </tr>\n",
       "    <tr>\n",
       "      <th>861</th>\n",
       "      <td>2020-01-01</td>\n",
       "      <td>vitamin D</td>\n",
       "      <td>351.0454</td>\n",
       "      <td>NaN</td>\n",
       "    </tr>\n",
       "    <tr>\n",
       "      <th>862</th>\n",
       "      <td>2020-01-01</td>\n",
       "      <td>zebra fish</td>\n",
       "      <td>273.3293</td>\n",
       "      <td>NaN</td>\n",
       "    </tr>\n",
       "  </tbody>\n",
       "</table>\n",
       "<p>863 rows × 4 columns</p>\n",
       "</div>"
      ],
      "text/plain": [
       "          Year       variable      y_raw  target_5\n",
       "0   2014-01-01          BLAST   176.5445  140.1918\n",
       "1   2014-01-01          BRCA1    87.6085   96.4662\n",
       "2   2014-01-01          BRCA2    55.9998   68.3568\n",
       "3   2014-01-01  Brodmann area    12.5274    7.1693\n",
       "4   2014-01-01         CRISPR    57.8250  379.4762\n",
       "..         ...            ...        ...       ...\n",
       "858 2020-01-01        vaccine  1641.1449       NaN\n",
       "859 2020-01-01  viral therapy  1272.5626       NaN\n",
       "860 2020-01-01      vitamin C   186.8140       NaN\n",
       "861 2020-01-01      vitamin D   351.0454       NaN\n",
       "862 2020-01-01     zebra fish   273.3293       NaN\n",
       "\n",
       "[863 rows x 4 columns]"
      ]
     },
     "execution_count": 25,
     "metadata": {},
     "output_type": "execute_result"
    }
   ],
   "source": [
    "# df_targets[\"target_5\"] = df_targets.groupby(\"variable\")[\"y_raw\"].shift(-2)\n",
    "df_targets[[\"Year\",\"variable\",\"y_raw\",\"target_5\"]]"
   ]
  },
  {
   "cell_type": "code",
   "execution_count": 26,
   "id": "16c6aaa1",
   "metadata": {},
   "outputs": [],
   "source": [
    "# df_lagged = df_targets.dropna(subset=[\"target_5\"],axis=0).copy()\n",
    "\n",
    "df_lagged = df_targets.filter(['variable', 'reviews',\n",
    "                              'patent_count', 'patent_frac','patent_yearly_total',\n",
    "                               'year_num', \n",
    "\"y_raw\",                              ## ADdded: Here it is 5 befre?  NEW\n",
    "                              \"lag5_pct_new\",\"pct_diff_lag5\", ## also new - check not leak? \n",
    "                              'research_review_diff',\n",
    "       'research_review_ratio', 'pct_diff', \n",
    "                              'review_research_ratio_2',\n",
    "       'review_research_diff_2', 'pat_div_research',\n",
    "        'y_diff','y_pct_diff', \n",
    "        'target_5']).reset_index(drop=True)\n",
    "\n",
    "num_cols = list(df_lagged.select_dtypes(\"number\").drop(columns=['target_5',\n",
    "#                                                                 \"y_raw\", ### Keeep? NEW\n",
    "                                                                \"y_raw_predicted\",\"preds\"],errors=\"ignore\").columns)\n",
    "df_lagged = df_lagged.filter([\"variable\",\"target_5\"]+num_cols,axis=1)\n",
    "mask = ~df_lagged[\"target_5\"].isna()\n",
    "# X = df_lagged[[\"variable\"]+num_cols]#.copy() \n",
    "# y = df_lagged[\"target_5\"] ## target in 5Y\n",
    "\n",
    "X = df_lagged[mask][[\"variable\"]+num_cols]#.copy() \n",
    "y = df_lagged[mask][\"target_5\"] ## target in 5Y\n",
    "assert (X.shape[0]>100)\n",
    "assert (y.isna().sum()==0)"
   ]
  },
  {
   "cell_type": "code",
   "execution_count": 27,
   "id": "082fba13",
   "metadata": {
    "scrolled": true
   },
   "outputs": [
    {
     "name": "stdout",
     "output_type": "stream",
     "text": [
      "Pre embed non linear model (with all numeric features)\n",
      "4\n",
      "r2: 0.921\n",
      "MAE (Mean absolute error): 160.95\n",
      "Median absolute error: 68.981\n",
      "RMSE: 420.377\n",
      "explained_variance:  0.922\n",
      "mape: 1.9\n",
      "CPU times: total: 516 ms\n",
      "Wall time: 963 ms\n"
     ]
    }
   ],
   "source": [
    "%%time\n",
    "if GET_DL_EMBEDS:\n",
    "    print(\"Pre embed non linear model (with all numeric features)\")\n",
    "    i = 0\n",
    "    tscv = TimeSeriesSplit(NUM_CV_FOLDS)\n",
    "    df_lagged[\"preds\"] = np.NaN\n",
    "    X2 = X.select_dtypes(\"number\")\n",
    "    for train_index, test_index in tscv.split(X): #df_feat):\n",
    "        i +=1\n",
    "        if (i%4)==0: print(i)\n",
    "        X_train, X_test = X2.iloc[train_index], X2.iloc[test_index]\n",
    "        y_train, y_test = y[train_index], y[test_index]\n",
    "        model = CatBoostRegressor(iterations=100,\n",
    "    #                               cat_features= [\"variable\"],\n",
    "                          verbose=False,has_time=True)\n",
    "        model.fit(X_train, y_train)\n",
    "        y_predict = model.predict(X_test)\n",
    "        assert np.isnan(y_predict).max() == False\n",
    "    #         df_feat.loc[test_index,\"preds\"] =y_predict\n",
    "        df_lagged.iloc[test_index,-1] =y_predict\n",
    "\n",
    "    y_true_base = df_lagged.dropna(subset=[\"preds\"])[\"target_5\"]\n",
    "    y_pred_base = df_lagged.dropna(subset=[\"preds\"])[\"preds\"]\n",
    "    regression_results(y_true_base, y_pred_base)"
   ]
  },
  {
   "cell_type": "code",
   "execution_count": 28,
   "id": "1f02b3e4",
   "metadata": {},
   "outputs": [
    {
     "name": "stdout",
     "output_type": "stream",
     "text": [
      "124\n"
     ]
    },
    {
     "data": {
      "application/vnd.jupyter.widget-view+json": {
       "model_id": "d629a56acab343adb4abe02b0ede5004",
       "version_major": 2,
       "version_minor": 0
      },
      "text/plain": [
       "Batches:   0%|          | 0/1 [00:00<?, ?it/s]"
      ]
     },
     "metadata": {},
     "output_type": "display_data"
    },
    {
     "name": "stdout",
     "output_type": "stream",
     "text": [
      "(124, 384)\n",
      "[0.07240041 0.04808656]\n",
      "0.8850201023742557\n",
      "64\n",
      "(246, 17)\n",
      "(246, 81)\n"
     ]
    }
   ],
   "source": [
    "## frequently crashes when running on cpu, randomly. # but -  it improves model perf!! \n",
    "if GET_DL_EMBEDS:\n",
    "    import gc\n",
    "    import torch\n",
    "    gc.collect()\n",
    "    torch.cuda.empty_cache()\n",
    "    from sentence_transformers import SentenceTransformer\n",
    "    torch.cuda.empty_cache()\n",
    "    model = SentenceTransformer('all-MiniLM-L12-v2',device=\"cpu\") # same res with L6\n",
    "    #Our sentences we like to encode\n",
    "    sentences = list(df_lagged[\"variable\"].unique())\n",
    "    print(len(sentences))\n",
    "\n",
    "    #Sentences are encoded by calling model.encode()\n",
    "    embeddings = model.encode(sentences,batch_size=128,show_progress_bar=True,)#.to(\"cpu\")\n",
    "\n",
    "    df_embed_feats = pd.DataFrame(index=sentences, data=embeddings)\n",
    "    print(df_embed_feats.shape)\n",
    "    df_embed_feats.columns = [\"embed_\"+str(i) for i in df_embed_feats.columns]\n",
    "    df_embed_feats.to_parquet(\"var_text_embeddings.parquet\")\n",
    "    \n",
    "#     ### OPT - truncate size of dims\n",
    "#     ### Has SAME Results as using all embeds\n",
    "    from sklearn.decomposition import PCA\n",
    "    pca = PCA(64)#64)\n",
    "    pca.fit(df_embed_feats)\n",
    "    print(pca.explained_variance_ratio_[0:2])\n",
    "    print(sum(pca.explained_variance_ratio_))\n",
    "    print(len(pca.singular_values_))\n",
    "    df_embed_feats = pd.DataFrame(pca.transform(df_embed_feats),index=df_embed_feats.index)\n",
    "    df_embed_feats.columns = [\"embed_\"+str(i) for i in df_embed_feats.columns]\n",
    "\n",
    "    print(X.shape)\n",
    "    X = X.join(df_embed_feats,on=\"variable\",how=\"left\")\n",
    "    df_lagged = df_lagged.join(df_embed_feats,on=\"variable\",how=\"left\")\n",
    "    ### our prediction code assumes \"pred\" to be the last column - resort this - hack\n",
    "    temp = df_lagged[\"preds\"]\n",
    "    df_lagged.drop(columns=[\"preds\"],inplace=True)\n",
    "    df_lagged[\"preds\"] = temp\n",
    "    print(X.shape)"
   ]
  },
  {
   "cell_type": "code",
   "execution_count": 42,
   "id": "d03c21a4",
   "metadata": {},
   "outputs": [
    {
     "name": "stdout",
     "output_type": "stream",
     "text": [
      "Naive lag model\n",
      "Baseline Lag model\n",
      "r2: 0.961\n",
      "MAE (Mean absolute error): 154.44\n",
      "Median absolute error: 62.772\n",
      "RMSE: 296.767\n",
      "explained_variance:  0.961\n",
      "mape: 0.899\n",
      "mean_squared_log_error: 0.432\n"
     ]
    }
   ],
   "source": [
    "print(\"Naive lag model\")\n",
    "i = 0\n",
    "tscv = TimeSeriesSplit(NUM_CV_FOLDS)#10)\n",
    "df_lagged[\"preds\"] = np.NaN\n",
    "X2 = X[[\"y_raw\"]].copy()\n",
    "for train_index, test_index in tscv.split(X2): #df_feat):\n",
    "    i +=1\n",
    "    X_train, X_test = X2.iloc[train_index], X2.iloc[test_index]\n",
    "    y_train, y_test = y[train_index], y[test_index]\n",
    "    model = RidgeCV()#LinearRegression() ## better results\n",
    "    model.fit(X_train, y_train)\n",
    "    y_predict = model.predict(X_test)\n",
    "#         df_feat.loc[test_index,\"preds\"] =y_predict\n",
    "    df_lagged.iloc[test_index,-1] =y_predict\n",
    "    \n",
    "print(\"Baseline Lag model\")\n",
    "y_true_base = df_lagged.dropna(subset=[\"preds\"])[\"target_5\"]\n",
    "y_pred_base = df_lagged.dropna(subset=[\"preds\"])[\"preds\"]\n",
    "\n",
    "assert y_pred_base.shape[0]>4\n",
    "regression_results(y_true_base, y_pred_base)"
   ]
  },
  {
   "cell_type": "code",
   "execution_count": 44,
   "id": "02d632b3",
   "metadata": {},
   "outputs": [
    {
     "data": {
      "text/plain": [
       "<sklearn.metrics._plot.regression.PredictionErrorDisplay at 0x1f3a8f4beb0>"
      ]
     },
     "execution_count": 44,
     "metadata": {},
     "output_type": "execute_result"
    },
    {
     "data": {
      "image/png": "[encoded data removed]",
      "text/plain": [
       "<Figure size 640x480 with 1 Axes>"
      ]
     },
     "metadata": {},
     "output_type": "display_data"
    }
   ],
   "source": [
    "display = PredictionErrorDisplay(y_true=y_true_base, y_pred=y_pred_base)\n",
    "display.plot()"
   ]
  },
  {
   "cell_type": "code",
   "execution_count": 46,
   "id": "8a41b508",
   "metadata": {},
   "outputs": [
    {
     "data": {
      "image/png": "[encoded data removed]",
      "text/plain": [
       "<Figure size 700x300 with 1 Axes>"
      ]
     },
     "metadata": {},
     "output_type": "display_data"
    }
   ],
   "source": [
    "# Plot\n",
    "### https://www.cienciadedatos.net/documentos/py27-time-series-forecasting-python-scikitlearn.html\n",
    "# ==============================================================================\n",
    "import matplotlib.pyplot as plt\n",
    "fig, ax = plt.subplots(figsize=(7, 3))\n",
    "# data_train['y'].plot(ax=ax, label='train')\n",
    "# data_test['y'].plot(ax=ax, label='test')\n",
    "# predictions.plot(ax=ax, label='predictions')\n",
    "df_lagged.dropna(subset=[\"preds\"])[\"target_5\"].plot(ax=ax, label='train')\n",
    "y_pred_base.plot(ax=ax, label='predictions')\n",
    "ax.legend();"
   ]
  },
  {
   "cell_type": "code",
   "execution_count": 30,
   "id": "93eb2353",
   "metadata": {},
   "outputs": [
    {
     "name": "stdout",
     "output_type": "stream",
     "text": [
      "Linear model\n",
      "r2: 0.974\n",
      "MAE (Mean absolute error): 120.086\n",
      "Median absolute error: 48.727\n",
      "RMSE: 242.202\n",
      "explained_variance:  0.974\n",
      "mape: 1.883\n",
      "CPU times: total: 0 ns\n",
      "Wall time: 54.8 ms\n"
     ]
    }
   ],
   "source": [
    "%%time\n",
    "# ## TMP copy of df, since function expects to put results in df_feat, which doesn't exist yet\n",
    "# df_feat = df_lagged.copy()\n",
    "# # df_feat.drop(columns=[\"preds\"],errors=\"ignore\",inplace=True)\n",
    "# evaluate(model = CatBoostRegressor(verbose=False,has_time=True),X = X[[\"y_raw\"]])\n",
    "\n",
    "# print(\"Baseline Lag model\")\n",
    "# y_true_base = df_feat.dropna(subset=[\"preds\"],axis=0)[\"target_5\"]\n",
    "# y_pred_base = df_feat.dropna(subset=[\"preds\"])[\"preds\"]\n",
    "\n",
    "# regression_results(y_true_base, y_pred_base)\n",
    "\n",
    "i = 0\n",
    "tscv = TimeSeriesSplit(NUM_CV_FOLDS)#10)\n",
    "df_lagged[\"preds\"] = np.NaN\n",
    "X2 = X.select_dtypes([\"number\"]).fillna(X.select_dtypes([\"number\"]).mean()).copy()\n",
    "for train_index, test_index in tscv.split(X2): #df_feat):\n",
    "    i +=1\n",
    "    X_train, X_test = X2.iloc[train_index], X2.iloc[test_index]\n",
    "    y_train, y_test = y[train_index], y[test_index]\n",
    "    model = RidgeCV()#LinearRegression() ## better results\n",
    "    model.fit(X_train, y_train)\n",
    "    y_predict = model.predict(X_test)\n",
    "#         df_feat.loc[test_index,\"preds\"] =y_predict\n",
    "    df_lagged.iloc[test_index,-1] =y_predict\n",
    "    \n",
    "print(\"Linear model\")\n",
    "y_true_base = df_lagged.dropna(subset=[\"preds\"])[\"target_5\"]\n",
    "y_pred_base = df_lagged.dropna(subset=[\"preds\"])[\"preds\"]\n",
    "\n",
    "assert y_pred_base.shape[0]>4\n",
    "regression_results(y_true_base, y_pred_base)"
   ]
  },
  {
   "cell_type": "code",
   "execution_count": 31,
   "id": "2aa81821",
   "metadata": {},
   "outputs": [
    {
     "name": "stdout",
     "output_type": "stream",
     "text": [
      "linear model with all features\n",
      "r2: 0.974\n",
      "MAE (Mean absolute error): 120.042\n",
      "Median absolute error: 48.626\n",
      "RMSE: 242.001\n",
      "explained_variance:  0.974\n",
      "mape: 1.888\n",
      "CPU times: total: 0 ns\n",
      "Wall time: 37 ms\n"
     ]
    }
   ],
   "source": [
    "%%time\n",
    "print(\"linear model with all features\")\n",
    "i = 0\n",
    "tscv = TimeSeriesSplit(NUM_CV_FOLDS)#10)\n",
    "df_lagged[\"preds\"] = np.NaN\n",
    "X2 = X.select_dtypes(\"number\").dropna(how=\"any\",axis=1)\n",
    "for train_index, test_index in tscv.split(X): \n",
    "    i +=1\n",
    "    X_train, X_test = X2.iloc[train_index], X2.iloc[test_index]\n",
    "    y_train, y_test = y[train_index], y[test_index]\n",
    "#     model = LinearRegression()\n",
    "    model = RidgeCV()\n",
    "    model.fit(X_train, y_train)\n",
    "    y_predict = model.predict(X_test)\n",
    "    assert np.isnan(y_predict).max() == False\n",
    "#         df_feat.loc[test_index,\"preds\"] =y_predict\n",
    "    df_lagged.iloc[test_index,-1] =y_predict\n",
    "\n",
    "y_true_base = df_lagged.dropna(subset=[\"preds\"])[\"target_5\"]\n",
    "y_pred_base = df_lagged.dropna(subset=[\"preds\"])[\"preds\"]\n",
    "regression_results(y_true_base, y_pred_base)"
   ]
  },
  {
   "cell_type": "code",
   "execution_count": 32,
   "id": "cdb0e0ac",
   "metadata": {},
   "outputs": [
    {
     "name": "stdout",
     "output_type": "stream",
     "text": [
      "CPU times: total: 0 ns\n",
      "Wall time: 0 ns\n"
     ]
    }
   ],
   "source": [
    "%%time\n",
    "if not GET_DL_EMBEDS:\n",
    "    print(\"non linear model (with all features)\")\n",
    "    i = 0\n",
    "    tscv = TimeSeriesSplit(NUM_CV_FOLDS)\n",
    "    df_lagged[\"preds\"] = np.NaN\n",
    "    X2 = X.copy()\n",
    "    # X2 = X.select_dtypes(\"number\").copy()\n",
    "    for train_index, test_index in tscv.split(X2): #df_feat):\n",
    "        i +=1\n",
    "        if (i%3)==0: print(i)\n",
    "        X_train, X_test = X2.iloc[train_index], X2.iloc[test_index]\n",
    "        y_train, y_test = y[train_index], y[test_index]\n",
    "        model = CatBoostRegressor(#iterations=300,\n",
    "                                  cat_features= [\"variable\"],\n",
    "                          verbose=False,has_time=True)\n",
    "        model.fit(X_train, y_train,\n",
    "                  )\n",
    "        y_predict = model.predict(X_test)\n",
    "        assert np.isnan(y_predict).max() == False\n",
    "    #         df_feat.loc[test_index,\"preds\"] =y_predict\n",
    "        df_lagged.iloc[test_index,-1] =y_predict\n",
    "\n",
    "    y_true_base = df_lagged.dropna(subset=[\"preds\"])[\"target_5\"]\n",
    "    y_pred_base = df_lagged.dropna(subset=[\"preds\"])[\"preds\"]\n",
    "    regression_results(y_true_base, y_pred_base)\n",
    "\n",
    "# ## pct change, with categorical, AND with DL, 30 folds: \n",
    "# r2: 0.438\n",
    "# MAE (Mean absolute error): 47.867\n",
    "# Median absolute error: 14.904\n",
    "# RMSE: 217.729\n",
    "# explained_variance:  0.438\n",
    "# mape: 1.796\n",
    "\n",
    "## this model does better when not using DL embeddings"
   ]
  },
  {
   "cell_type": "code",
   "execution_count": 33,
   "id": "259fbae4",
   "metadata": {},
   "outputs": [
    {
     "name": "stdout",
     "output_type": "stream",
     "text": [
      "non linear model (with numeric features)\n",
      "3\n",
      "r2: 0.874\n",
      "MAE (Mean absolute error): 199.351\n",
      "Median absolute error: 64.008\n",
      "RMSE: 531.041\n",
      "explained_variance:  0.876\n",
      "mape: 3.793\n",
      "CPU times: total: 4.94 s\n",
      "Wall time: 5.48 s\n"
     ]
    }
   ],
   "source": [
    "%%time\n",
    "if GET_DL_EMBEDS:\n",
    "    print(\"non linear model (with numeric features)\")\n",
    "    i = 0\n",
    "    tscv = TimeSeriesSplit(NUM_CV_FOLDS)\n",
    "    df_lagged[\"preds\"] = np.NaN\n",
    "    X2 = X.select_dtypes(\"number\").copy()\n",
    "    for train_index, test_index in tscv.split(X2): #df_feat):\n",
    "        i +=1\n",
    "        if (i%3)==0: print(i)\n",
    "        X_train, X_test = X2.iloc[train_index], X2.iloc[test_index]\n",
    "        y_train, y_test = y[train_index], y[test_index]\n",
    "        model = CatBoostRegressor(verbose=False,has_time=True)\n",
    "        model.fit(X_train, y_train)\n",
    "        y_predict = model.predict(X_test)\n",
    "        assert np.isnan(y_predict).max() == False\n",
    "    #         df_feat.loc[test_index,\"preds\"] =y_predict\n",
    "        df_lagged.iloc[test_index,-1] =y_predict\n",
    "\n",
    "    y_true_base = df_lagged.dropna(subset=[\"preds\"])[\"target_5\"]\n",
    "    y_pred_base = df_lagged.dropna(subset=[\"preds\"])[\"preds\"]\n",
    "    regression_results(y_true_base, y_pred_base)\n",
    "\n",
    "\n",
    "# # pct change, without categorical, with DL, 30 folds: \n",
    "# r2: 0.447\n",
    "# MAE (Mean absolute error): 48.291\n",
    "# Median absolute error: 15.114\n",
    "# RMSE: 216.043\n",
    "# explained_variance:  0.447\n",
    "# mape: 1.721"
   ]
  },
  {
   "cell_type": "code",
   "execution_count": 34,
   "id": "07a91d00",
   "metadata": {
    "scrolled": true
   },
   "outputs": [],
   "source": [
    "# list(X.select_dtypes(\"number\").columns[-64:])\n",
    "# [X.columns.get_loc(c) for c in X.columns if ((c in X) and \"embed\" in c)]"
   ]
  },
  {
   "cell_type": "code",
   "execution_count": 35,
   "id": "4719d49f",
   "metadata": {
    "scrolled": true
   },
   "outputs": [],
   "source": [
    "# # list(df_embed_feats[[c for c in X.columns if \"embed\" in c]].values)\n",
    "# X[\"embed\"] = list(X[[c for c in X.columns if \"embed\" in c]].values) # has error wit hembed feat\n",
    "\n",
    "# X[\"embed\"]"
   ]
  },
  {
   "cell_type": "code",
   "execution_count": 38,
   "id": "676128e2",
   "metadata": {},
   "outputs": [
    {
     "name": "stderr",
     "output_type": "stream",
     "text": [
      "No data for colormapping provided via 'c'. Parameters 'vmin', 'vmax' will be ignored\n"
     ]
    },
    {
     "data": {
      "image/png": "[encoded data removed]",
      "text/plain": [
       "<Figure size 800x750 with 2 Axes>"
      ]
     },
     "metadata": {},
     "output_type": "display_data"
    }
   ],
   "source": [
    "# !pip install -U tensorflow==2.10  ## needed to avoid compat error .. ? \n",
    "import shap\n",
    "\n",
    "# X2 = X.select_dtypes(\"number\").copy()\n",
    "X2 = X.copy()\n",
    "model = CatBoostRegressor(#iterations=500,\n",
    "                          cat_features= [\"variable\"#,\"embed\"\n",
    "                                        ],\n",
    "                      verbose=False,has_time=True,\n",
    "#      embedding_features=[\"embed\"],\n",
    "#                       embedding_features=[X2.columns.get_loc(c) for c in X2.columns if ((c in X2) and \"embed\" in c)]\n",
    "                            )\n",
    "model.fit(X2,y)\n",
    "# explain the model's predictions using SHAP\n",
    "# (same syntax works for LightGBM, CatBoost, scikit-learn, transformers, Spark, etc.)\n",
    "explainer = shap.Explainer(model)\n",
    "shap_values = explainer(X2)\n",
    "\n",
    "# summarize the effects of all the features\n",
    "shap.plots.beeswarm(shap_values,max_display=15,)\n",
    "# shap.plots.bar(shap_values)"
   ]
  },
  {
   "cell_type": "code",
   "execution_count": 39,
   "id": "47be1d82",
   "metadata": {},
   "outputs": [
    {
     "name": "stdout",
     "output_type": "stream",
     "text": [
      "fillna Baseline Lag model\n",
      "r2: -1.622\n",
      "MAE (Mean absolute error): 599.475\n",
      "Median absolute error: 142.74\n",
      "RMSE: 1503.797\n",
      "explained_variance:  -1.274\n",
      "mape: 2.5250297985026166e+18\n",
      "mean_squared_log_error: 22.751\n"
     ]
    }
   ],
   "source": [
    "print(\"fillna Baseline Lag model\")\n",
    "y_true_base = df_lagged[\"target_5\"].fillna(0)\n",
    "y_pred_base = df_lagged[\"y_raw\"].fillna(0)\n",
    "\n",
    "regression_results(y_true_base, y_pred_base)"
   ]
  },
  {
   "cell_type": "code",
   "execution_count": 40,
   "id": "30d78ea1",
   "metadata": {},
   "outputs": [
    {
     "name": "stdout",
     "output_type": "stream",
     "text": [
      "Baseline Single feature model (vs +5Y)\n",
      "r2: 0.959\n",
      "MAE (Mean absolute error): 142.688\n",
      "Median absolute error: 51.718\n",
      "RMSE: 301.421\n",
      "explained_variance:  0.96\n",
      "mape: 0.268\n",
      "mean_squared_log_error: 0.18\n"
     ]
    }
   ],
   "source": [
    "print(\"Baseline Single feature model (vs +5Y)\")\n",
    "### new\n",
    "y_true_base = df_lagged.dropna(subset=[\"preds\"])[\"target_5\"]\n",
    "y_pred_base = df_lagged.dropna(subset=[\"preds\"])[\"y_raw\"]\n",
    "\n",
    "regression_results(y_true_base, y_pred_base)"
   ]
  },
  {
   "cell_type": "markdown",
   "id": "b995be6b",
   "metadata": {},
   "source": [
    "* Baseline lag model with just raw variables (res, pat, reviews + year, variable):\n",
    "```\n",
    "Baseline Lag model\n",
    "r2:  0.787\n",
    "MAE (Mean absolute error): 302.0646\n",
    "Median absolute error): 171.7013\n",
    "RMSE:  546.6826\n",
    "explained_variance:  0.7893\n",
    "mean_squared_log_error:  2.3782\n",
    "```\n",
    "\n",
    "\n",
    "* Baseline lag model with ~all variables (including engineered) gets results closer to SB bt still inferior:\n",
    "```\n",
    "Baseline+ engineered Lag model\n",
    "r2:  0.913\n",
    "MAE (Mean absolute error): 162.549\n",
    "Median absolute error): 71.4473\n",
    "RMSE:  350.1588\n",
    "explained_variance:  0.9132\n",
    "```"
   ]
  },
  {
   "cell_type": "markdown",
   "id": "3f7bfc5e",
   "metadata": {},
   "source": [
    "SB model (copied from below):\n",
    "```\n",
    "r2:  0.965\n",
    "MAE (Mean absolute error): 102.1891\n",
    "Median absolute error): 32.6761\n",
    "RMSE:  254.8408\n",
    "explained_variance:  0.9652\n",
    "```"
   ]
  },
  {
   "cell_type": "markdown",
   "id": "ae68c179",
   "metadata": {},
   "source": [
    "### Get future predictions"
   ]
  },
  {
   "cell_type": "markdown",
   "id": "6d8c558a",
   "metadata": {},
   "source": [
    "###### ful data for future predictions\n",
    "* Note, there's some \"bad rows\" from early dates - likely due to wrong annotations. Could drop from full data, ignore for now"
   ]
  },
  {
   "cell_type": "code",
   "execution_count": null,
   "id": "fec186ec",
   "metadata": {},
   "outputs": [],
   "source": [
    "df_future_targets = df_targets_orig_full.filter(df_lagged.columns,axis=1)\n",
    "\n",
    "if GET_DL_EMBEDS:\n",
    "    df_future_targets = df_future_targets.join(df_embed_feats,on=\"variable\",how=\"left\")\n",
    "\n",
    "df_future_targets = df_future_targets.loc[df_future_targets[\"target_5\"].isna()]\n",
    "display(df_future_targets)\n",
    "df_future_targets = df_future_targets.loc[df_future_targets[\"year_num\"]>2012].drop(columns=[\"target_5\"],errors=\"ignore\").drop_duplicates()\n",
    "print(df_future_targets.shape[0])"
   ]
  },
  {
   "cell_type": "code",
   "execution_count": null,
   "id": "ea7bc1d9",
   "metadata": {},
   "outputs": [],
   "source": [
    "df_future_targets.columns"
   ]
  },
  {
   "cell_type": "code",
   "execution_count": null,
   "id": "6de3f013",
   "metadata": {},
   "outputs": [],
   "source": [
    "y.describe()"
   ]
  },
  {
   "cell_type": "code",
   "execution_count": null,
   "id": "209d5192",
   "metadata": {},
   "outputs": [],
   "source": [
    "# X[X[\"year_num\"]>2005]  # ~1200 rows\n",
    "y.tail(1000).describe().round(1)"
   ]
  },
  {
   "cell_type": "code",
   "execution_count": null,
   "id": "d2592366",
   "metadata": {},
   "outputs": [],
   "source": [
    "VIEW_COLS_LST =['variable', 'pred', 'y_raw',\"pred_year\", 'year_num',\n",
    "                'reviews', 'patent_count',\n",
    "       'pct_diff_lag5', 'y_diff', 'y_pct_diff']\n",
    "model = CatBoostRegressor(#iterations=700,\n",
    "                          cat_features= [\"variable\"],\n",
    "                      verbose=False,has_time=True)\n",
    "model.fit(X, y)#,baseline=X_train[\"y_raw\"]\n",
    "df_future_targets[\"pred_year\"] = df_future_targets[\"year_num\"]+5\n",
    "df_future_targets = df_future_targets.loc[df_future_targets[\"pred_year\"]>=2019].reset_index(drop=True)\n",
    "df_future_targets[\"pred\"] = model.predict(df_future_targets.drop(columns=[\"pred\",\"pred_year\"],errors=\"ignore\")).round(2)\n",
    "df_future_targets.sort_values([\"pred\",\"variable\"],inplace=True)\n",
    "\n",
    "df_res = df_future_targets.loc[df_future_targets[\"pred_year\"].between(2022,2022)][VIEW_COLS_LST].round(2)\n",
    "# display(df_future_targets[VIEW_COLS_LST].round(2).drop_duplicates(subset=[\"variable\"],keep=\"first\").head(10))\n",
    "# display(df_future_targets[VIEW_COLS_LST].round(2).tail(15))\n",
    "\n",
    "display(df_res.drop_duplicates(subset=[\"variable\"],keep=\"first\").head(15))\n",
    "display(df_res.tail(15))"
   ]
  },
  {
   "cell_type": "markdown",
   "id": "27b5bc74",
   "metadata": {},
   "source": [
    "* declining (predicted, and actual) pop terms:\n",
    "https://esperr.github.io/pubmed-by-year/?q1=pituitary%20gland&q2=serotonin&q3=eugenics&q4=Medulla%20oblongata&q5=influenza&q6=DNA%20array&q7=junk%20dna&q8=subthalamus&q9=neuropeptide&startyear=2000&endyear=2022\n",
    "\n",
    "\n",
    "* PRedicted to increase terms:\n",
    "\n",
    "`https://esperr.github.io/pubmed-by-year/?q1=Mononucleosis&q2=Drug%20repurposing&q3=machine%20learning&q4=Synthetic%20Biology&q5=NGS&q6=cumin&q7=nanopore&q8=cannabidiol&q9=graph%20neural%20network&q10=metabolome&q11=carbon%20nanotubes&q12=illumina&q13=miRNA&q14=biosimilar&q15=connectome&q16=lncRNA&q17=natural%20medicine&q18=CRISPR&q19=lithium&startyear=2000`"
   ]
  },
  {
   "cell_type": "code",
   "execution_count": null,
   "id": "728b6fbe",
   "metadata": {},
   "outputs": [],
   "source": [
    "df_res.drop_duplicates(subset=[\"variable\"],keep=\"first\").head(15)[\"variable\"].unique()"
   ]
  },
  {
   "cell_type": "code",
   "execution_count": null,
   "id": "b0d4c571",
   "metadata": {},
   "outputs": [],
   "source": [
    "print(\"Increasing (predicted) popularity:\")\n",
    "display(df_res.drop_duplicates(subset=[\"variable\"],keep=\"last\").tail(20))\n",
    "df_res.drop_duplicates(subset=[\"variable\"],keep=\"last\").tail(20)[\"variable\"].unique()"
   ]
  },
  {
   "cell_type": "markdown",
   "id": "4c5685d7",
   "metadata": {},
   "source": [
    "### (Predicted) Non trivial flips of direction\n",
    "* cases where prediction is in a different direction than 5Y, 1 Y momentum\n",
    "    * Many are ~ 0 change (i.e. nearly stable , but can shift a bit up or down)\n",
    "    \n",
    "https://esperr.github.io/pubmed-by-year/?q1=Norepinephrine&q2=HMM&q3=zebra%20fish&q4=savant&q5=genetic%20algorithm&q6=carbon%20dating&q7=ancient%20viruses&q8=viral%20therapy&q9=amygdala&q10=eugenics&q11=carbon%20nanotubes&q12=cerebellum&q13=hippocampus&q14=MRI&q15=Mononucleosis&q16=neocortex&q17=antibiotic&startyear=2005"
   ]
  },
  {
   "cell_type": "code",
   "execution_count": null,
   "id": "86e3f26d",
   "metadata": {},
   "outputs": [],
   "source": [
    "flip_trend_mask = (np.sign(df_res[\"pct_diff_lag5\"]) != np.sign(df_res[\"pred\"]))\\\n",
    "          & (np.sign(df_res[\"y_pct_diff\"]) != np.sign(df_res[\"pred\"]))\n",
    "print(df_res.loc[flip_trend_mask][\"variable\"].unique())\n",
    "df_res.loc[(flip_trend_mask) & (df_res['y_pct_diff'].abs().round(2)> 0)][['variable', 'pred', 'y_raw',\"pred_year\", 'y_diff', 'y_pct_diff']]#[\"variable\"].unique()\n"
   ]
  },
  {
   "cell_type": "code",
   "execution_count": null,
   "id": "c00ff67d",
   "metadata": {},
   "outputs": [],
   "source": [
    "df_res.drop_duplicates(subset=[\"variable\"],keep=\"first\").head(9)[\"variable\"].unique()\n",
    "\n",
    "## actual search res (terms all declined):\n",
    "## https://esperr.github.io/pubmed-by-year/?q1=eugenics&q2=somatosensory%20cortex&q3=junk%20dna&q4=influenza&q5=soy%20milk&q6=paleocortex&q7=ancient%20dna&startyear=1990"
   ]
  },
  {
   "cell_type": "code",
   "execution_count": null,
   "id": "446aa611",
   "metadata": {},
   "outputs": [],
   "source": [
    "df_future_targets.loc[df_future_targets.reset_index().groupby(['variable'])['pred'].idxmax()].sort_values(\"pred\")"
   ]
  },
  {
   "cell_type": "markdown",
   "id": "d716185d",
   "metadata": {},
   "source": [
    "### Features data"
   ]
  },
  {
   "cell_type": "markdown",
   "id": "ea780e8f",
   "metadata": {},
   "source": [
    "* change to after start"
   ]
  },
  {
   "cell_type": "code",
   "execution_count": null,
   "id": "02565020",
   "metadata": {
    "scrolled": true
   },
   "outputs": [],
   "source": [
    "df_feat = pd.read_csv(\"trends_demo_rev22_predicted.tsv.gz\",sep=\"\\t\",parse_dates=[\"Year\",\"first\",\"start\"])\n",
    "\n",
    "df_feat = df_feat.loc[df_feat[\"Year\"]> df_feat[\"start\"]]\n",
    "df_feat = df_feat.loc[(df_feat[\"Year\"]> df_feat[\"start\"]) & (df_feat[\"year_num\"]>= 1979) ].reset_index(drop=True)\n",
    "\n",
    "df_feat.sort_values(\"Year\",inplace=True,ascending=True) ## sort by year , not topic\n",
    "df_feat[\"variable\"] = df_feat[\"variable\"].str.strip('\"')\n",
    "\n",
    "df = df_feat.filter(['Year', 'variable', 'y_raw',\"preds\",'y_raw_predicted',  'first', 'start', 'year_num',\n",
    "               \"pct_diff_lag6\"],axis=1).set_index(\"Year\").copy()\n",
    "\n",
    "df.rename(columns={\"y_raw_predicted\":\"preds\"},inplace=True)\n",
    "df"
   ]
  },
  {
   "cell_type": "code",
   "execution_count": null,
   "id": "ae9cac67",
   "metadata": {},
   "outputs": [],
   "source": [
    "if GET_DL_EMBEDS:\n",
    "    df_embed_feats = pd.read_parquet(\"var_text_embeddings.parquet\")\n",
    "    print(df_embed_feats.shape)\n",
    "#     df_embed_feats.columns = [\"embed_\"+str(i) for i in df_embed_feats.columns]\n",
    "\n",
    "#     ### OPT - truncate size of dims\n",
    "#     ### Has SAME Results as using all embeds\n",
    "    from sklearn.decomposition import PCA\n",
    "    pca = PCA(64)\n",
    "    pca.fit(df_embed_feats)\n",
    "    print(pca.explained_variance_ratio_[0:2])\n",
    "    print(sum(pca.explained_variance_ratio_))\n",
    "    print(len(pca.singular_values_))\n",
    "    df_embed_feats = pd.DataFrame(pca.transform(df_embed_feats),index=df_embed_feats.index)\n",
    "    df_embed_feats.columns = [\"embed_\"+str(i) for i in df_embed_feats.columns]\n",
    "\n",
    "    print(df_feat.shape)\n",
    "#     X = X.join(df_embed_feats,on=\"variable\",how=\"left\")\n",
    "#     df_lagged = df_lagged.join(df_embed_feats,on=\"variable\",how=\"left\")\n",
    "    df_feat = df_feat.join(df_embed_feats,on=\"variable\",how=\"left\")\n",
    "    print(df_feat.shape)"
   ]
  },
  {
   "cell_type": "code",
   "execution_count": null,
   "id": "eaec7c8a",
   "metadata": {},
   "outputs": [],
   "source": [
    "df_feat = df_feat.filter(list(df_feat.select_dtypes([\"number\"]).columns)+[\"variable\"],axis=1)\n",
    "df_feat = df_feat.T.drop_duplicates().T.infer_objects() ## drop some duplicate cols\n",
    "\n",
    "# changed:\n",
    "df_feat[\"variable\"] = df_feat[\"variable\"].astype(\"category\")\n",
    "df_feat.reset_index(inplace=True,drop=True)\n",
    "\n",
    "\n",
    "### make prettier column names from SB features\n",
    "# truncate long numbers in the column names\n",
    "# df_feat.columns = df_feat.columns.str.replace(r'\\d+\\.\\d{3}\\d*', lambda x: '{:.3f}'.format(float(x.group(0))))\n",
    "df_feat.columns = df_feat.columns.str.replace(r'\\d+\\.\\d{3}\\d*', lambda x: '{:.2f}'.format(float(x.group(0))),regex=True) # changed top .2f res\n",
    "\n",
    "# df_feat.columns = df_feat.columns.str.replace(\"and 5 years before\",\"before\")\n",
    "df_feat.columns = df_feat.columns.str.replace(\"between 11 years and 5 years before\",\"between 11 and 5 years before\")\n",
    "df_feat.columns = df_feat.columns.str.replace(\"between 11 years and 5 years before\",\"between 20 and 5 years before\")\n",
    "df_feat.columns = df_feat.columns.str.replace(\"trends_context_v5.csv.gz_\",\"trends-\")\n",
    "df_feat.columns = df_feat.columns.str.replace(\"Year\",\"date\")\n",
    "df_feat.columns = df_feat.columns.str.replace(\"(?<!^)variable\",\"topic\",regex=True)\n",
    "\n",
    "df_feat.columns = df_feat.columns.str.replace(\"_from_date_\",\"\")\n",
    "df_feat.columns = df_feat.columns.str.replace(\"_with_5_years_offset\",\"\")\n",
    "## drop y_raw_predicted ? \n",
    "\n",
    "display(df_feat.head(7))"
   ]
  },
  {
   "cell_type": "code",
   "execution_count": null,
   "id": "295576b4",
   "metadata": {},
   "outputs": [],
   "source": [
    "# df.groupby([\"variable\"])[\"y_raw\"].transform(\"pct_change\").reset_index()#.describe()\n",
    "### highlky variable topics : \n",
    "# df.groupby([\"variable\"])[\"pct_diff_lag6\"].std().sort_values(ascending=False)"
   ]
  },
  {
   "cell_type": "code",
   "execution_count": null,
   "id": "838fcaf9",
   "metadata": {},
   "outputs": [],
   "source": [
    "df[\"variable\"].unique()"
   ]
  },
  {
   "cell_type": "code",
   "execution_count": null,
   "id": "d5bc7ea9",
   "metadata": {},
   "outputs": [],
   "source": [
    "df[\"variable\"].value_counts().sort_values()"
   ]
  },
  {
   "cell_type": "code",
   "execution_count": null,
   "id": "ab994ba2",
   "metadata": {},
   "outputs": [],
   "source": [
    "df[\"variable\"].value_counts().sort_values().hist()"
   ]
  },
  {
   "cell_type": "markdown",
   "id": "9025e6f9",
   "metadata": {},
   "source": [
    "##### Check variables with high/low errors\n",
    "* +- those with few cases?\n",
    "* I make a pseudo % error target."
   ]
  },
  {
   "cell_type": "code",
   "execution_count": null,
   "id": "dd19318b",
   "metadata": {},
   "outputs": [],
   "source": [
    "df[\"error_pct\"] = 100*(df[\"y_raw\"].sub(df[\"preds\"])).div(df[\"y_raw\"]).round(3).replace([np.inf, -np.inf], np.nan)\n",
    "display(df[\"error_pct\"].describe().round(1)) # .dropna(axis=0)"
   ]
  },
  {
   "cell_type": "markdown",
   "id": "10fe908d",
   "metadata": {},
   "source": [
    "### We see the highest errors in the cases with very short time-frames"
   ]
  },
  {
   "cell_type": "code",
   "execution_count": null,
   "id": "6d10be03",
   "metadata": {},
   "outputs": [],
   "source": [
    "df.groupby([\"variable\"])[\"error_pct\"].median().sort_values()"
   ]
  },
  {
   "cell_type": "markdown",
   "id": "f401bd55",
   "metadata": {},
   "source": [
    "### REMOVE variables with too few cases\n",
    "* this will improve modelling results! "
   ]
  },
  {
   "cell_type": "code",
   "execution_count": null,
   "id": "19c8ed3b",
   "metadata": {},
   "outputs": [],
   "source": [
    "if FILTER_GROUP_SIZES:\n",
    "    print(df_feat.shape[0])\n",
    "    element_group_sizes = df_feat['variable'].groupby(df_feat['variable']).transform('count')\n",
    "    df_feat = df_feat[element_group_sizes>6]\n",
    "    df_feat.reset_index(inplace=True,drop=True) # otherwise, error ?? \n",
    "    print(df_feat.shape[0])"
   ]
  },
  {
   "cell_type": "code",
   "execution_count": null,
   "id": "4627606e",
   "metadata": {},
   "outputs": [],
   "source": [
    "display(df_feat[\"y_raw\"].describe().round(2))"
   ]
  },
  {
   "cell_type": "markdown",
   "id": "d24c88c4",
   "metadata": {},
   "source": [
    "#### opt: make different, touger differenced target"
   ]
  },
  {
   "cell_type": "code",
   "execution_count": null,
   "id": "b09449c2",
   "metadata": {},
   "outputs": [],
   "source": [
    "# if DIFF_TARGET:\n",
    "#     df_feat[\"y_raw\"] = df_feat[\"y_raw\"].sub(df_feat[\"lag5\"])\n",
    "# #     df_feat[\"y_raw\"] = df_feat[\"y_raw\"].div(df_feat[\"lag5\"]) # alt, pct change target\n",
    "#     df_feat.dropna(subset=[\"y_raw\"],inplace=True,axis=0)\n",
    "#     df_feat.reset_index(inplace=True,drop=True)\n",
    "#     display(df_feat[\"y_raw\"].describe().round(2))\n",
    "\n",
    "if DIFF_TARGET_PCT:\n",
    "    df_feat[\"y_raw\"] = 100*df_feat[\"y_raw\"].sub(df_feat[\"lag5\"]).div(df_feat[\"lag5\"]).round(4) # alt, pct change target\n",
    "    ### note outliers.. \n",
    "elif DIFF_TARGET:\n",
    "    df_feat[\"y_raw\"] = df_feat[\"y_raw\"].sub(df_feat[\"lag5\"])\n",
    "#     df_feat[\"y_raw\"] = df_feat[\"y_raw\"].div(df_feat[\"lag5\"]) # alt, pct change target\n",
    "if DIFF_TARGET_PCT or DIFF_TARGET:\n",
    "    df_feat.dropna(subset=[\"y_raw\"],inplace=True)\n",
    "    df_feat.reset_index(inplace=True,drop=True)\n",
    "    display(df_feat[\"y_raw\"].describe().round(2))"
   ]
  },
  {
   "cell_type": "markdown",
   "id": "42d40f5a",
   "metadata": {},
   "source": [
    "### temporal CV\n",
    "\n",
    "* https://stackoverflow.com/questions/41753795/sklearn-timeseriessplit-cross-val-predict-only-works-for-partitions"
   ]
  },
  {
   "cell_type": "code",
   "execution_count": null,
   "id": "5f55642c",
   "metadata": {},
   "outputs": [],
   "source": [
    "num_cols = list(df_feat.select_dtypes(\"number\").drop(columns=[\"y_raw\",\"y_raw_predicted\",\"preds\"],errors=\"ignore\").columns)\n",
    "\n",
    "# X = df_feat.filter([\"variable\"]+num_cols,axis=1).copy()\n",
    "\n",
    "X = df_feat[[\"variable\"]+num_cols]#.copy() # try values ? \n",
    "# X = X.fillna(0)\n",
    "y = df_feat[\"y_raw\"]#.copy()#.values\n",
    "\n",
    "# ## https://stackoverflow.com/questions/41753795/sklearn-timeseriessplit-cross-val-predict-only-works-for-partitions\n",
    "# preds = cross_val_predict(clf,X.fillna(0),y,cv=cv.split(df_feat))"
   ]
  },
  {
   "cell_type": "code",
   "execution_count": null,
   "id": "e9026361",
   "metadata": {},
   "outputs": [],
   "source": [
    "print(len(X))\n",
    "X"
   ]
  },
  {
   "cell_type": "markdown",
   "id": "8d79f513",
   "metadata": {},
   "source": [
    "#### RFECV FS - check overfitting\n",
    "* We see that the best model uses just the features we had engineered in advance (lags and basic transformations).\n",
    "* since we made those in advance and had such a model, using them is not overly problematic. "
   ]
  },
  {
   "cell_type": "code",
   "execution_count": null,
   "id": "0b9771f5",
   "metadata": {
    "scrolled": true
   },
   "outputs": [],
   "source": [
    "%%time\n",
    "if DO_RFE_FS:\n",
    "    sfs = RFECV(ElasticNet(l1_ratio=0.35), min_features_to_select=7,step=0.05,\n",
    "                n_jobs=-1,cv=TimeSeriesSplit())\n",
    "    sfs.fit(X.select_dtypes(\"number\"), y)\n",
    "    print(len(sfs.get_feature_names_out()))\n",
    "    list(sfs.get_feature_names_out())\n",
    "\n",
    "if DO_RFE_FS:\n",
    "    print(len(sfs.get_feature_names_out()))\n",
    "    list(sfs.get_feature_names_out())\n",
    "\n",
    "    # X2 = sfs.transform(X.select_dtypes(\"number\"))\n",
    "    X2 = X.filter(list(set([\"variable\",\"year_num\",\"lag5\"]+list(sfs.get_feature_names_out()))),axis=1).copy()\n",
    "    X2\n",
    "else: \n",
    "    X2 = X.copy()"
   ]
  },
  {
   "cell_type": "code",
   "execution_count": null,
   "id": "188ab0f0",
   "metadata": {},
   "outputs": [],
   "source": [
    "### keep subset feats!\n",
    "print(\"Filter feats\")\n",
    "X = X2\n",
    "print(X.shape[1])"
   ]
  },
  {
   "cell_type": "code",
   "execution_count": null,
   "id": "7625d689",
   "metadata": {},
   "outputs": [],
   "source": [
    "# cv = TimeSeriesSplit(n_splits=NUM_CV_FOLDS)\n",
    "# clf = Ridge(alpha=0.5) # HistGradientBoostingRegressor\n",
    "# clf =HistGradientBoostingRegressor(categorical_features=categorical_mask)\n",
    "from sklearn.pipeline import make_pipeline\n",
    "from sklearn.compose import make_column_transformer\n",
    "from sklearn.compose import make_column_selector\n",
    "from sklearn.preprocessing import OrdinalEncoder\n",
    "import numpy as np"
   ]
  },
  {
   "cell_type": "code",
   "execution_count": null,
   "id": "78727251",
   "metadata": {
    "scrolled": true
   },
   "outputs": [],
   "source": [
    "%%time \n",
    "print(\"CB full model\")\n",
    "# tscv = TimeSeriesSplit(NUM_CV_FOLDS)\n",
    "df_feat[\"preds\"] = np.NaN\n",
    "\n",
    "evaluate(X=X)\n",
    "\n",
    "display(df_feat.filter([\"year_num\",\"y_raw\",\"preds\",\"y_raw_predicted\",\"variable\"],axis=1).dropna(axis=0))\n",
    "print(df_feat.filter([\"year_num\",\"y_raw\",\"preds\",\"y_raw_predicted\"],axis=1).corrwith(df_feat[\"y_raw\"]).round(3).sort_values())\n",
    "\n",
    "y_true = df_feat.dropna(subset=[\"preds\"])[\"y_raw\"]\n",
    "y_pred = df_feat.dropna(subset=[\"preds\"])[\"preds\"]\n",
    "\n",
    "regression_results(y_true, y_pred)"
   ]
  },
  {
   "cell_type": "code",
   "execution_count": null,
   "id": "4d3631df",
   "metadata": {
    "scrolled": true
   },
   "outputs": [],
   "source": [
    "print(\"Linear model\")\n",
    "evaluate(model=RidgeCV(),X=X.select_dtypes(\"number\"))\n",
    "y_true = df_feat.dropna(subset=[\"preds\"])[\"y_raw\"]\n",
    "y_pred = df_feat.dropna(subset=[\"preds\"])[\"preds\"]\n",
    "\n",
    "regression_results(y_true, y_pred)"
   ]
  },
  {
   "cell_type": "code",
   "execution_count": null,
   "id": "28c0fc08",
   "metadata": {},
   "outputs": [],
   "source": [
    "### single feature baseline\n",
    "regression_results(y_true, y_pred=df_feat.dropna(subset=[\"preds\"])[\"lag5\"])"
   ]
  },
  {
   "cell_type": "code",
   "execution_count": null,
   "id": "33119d06",
   "metadata": {},
   "outputs": [],
   "source": [
    "df_feat.set_index(\"year_num\",inplace=True)"
   ]
  },
  {
   "cell_type": "code",
   "execution_count": null,
   "id": "a36b73c5",
   "metadata": {},
   "outputs": [],
   "source": [
    "### NOTE: time series CV has nans in predictions, note this when comparing! (e.g. first row per var)\n",
    "df_feat[df_feat[\"preds\"].isna()]"
   ]
  },
  {
   "cell_type": "code",
   "execution_count": null,
   "id": "44acda38",
   "metadata": {},
   "outputs": [],
   "source": [
    "print('r2:', round(metrics.r2_score(y_true=y_true, y_pred=df_feat.dropna(subset=[\"preds\"])[\"preds\"]),4))"
   ]
  },
  {
   "cell_type": "code",
   "execution_count": null,
   "id": "1276d953",
   "metadata": {},
   "outputs": [],
   "source": [
    "print('r2:', round(metrics.r2_score(y_true=y_true, y_pred=df_feat.dropna(subset=[\"preds\"])[\"y_raw\"]),4))"
   ]
  },
  {
   "cell_type": "code",
   "execution_count": null,
   "id": "98517c94",
   "metadata": {},
   "outputs": [],
   "source": [
    "y_true = df_feat[\"y_raw\"]\n",
    "y_pred = df_feat[\"preds\"].fillna(method=\"bfill\")\n",
    "\n",
    "regression_results(y_true, y_pred)"
   ]
  },
  {
   "cell_type": "code",
   "execution_count": null,
   "id": "0a573b93",
   "metadata": {},
   "outputs": [],
   "source": [
    "y_true = df_feat.dropna(subset=[\"preds\"])[\"y_raw\"]\n",
    "# y_pred = df_feat.dropna(subset=[\"preds\"])[\"preds\"]\n",
    "\n",
    "regression_results(y_true, df_feat.dropna(subset=[\"preds\"])[\"lag5\"])"
   ]
  },
  {
   "cell_type": "code",
   "execution_count": null,
   "id": "3f0d6b1b",
   "metadata": {},
   "outputs": [],
   "source": [
    "# print(\"CB model + Feats\")\n",
    "# df_feat[\"preds\"] = np.NaN\n",
    "# evaluate(X=X,model=CatBoostRegressor(verbose=False,has_time=True,cat_features=[\"variable\"])) # iterations=500,\n",
    "# y_true = df_feat.dropna(subset=[\"preds\"])[\"y_raw\"]\n",
    "# y_pred = df_feat.dropna(subset=[\"preds\"])[\"preds\"]\n",
    "\n",
    "# regression_results(y_true, y_pred)"
   ]
  },
  {
   "cell_type": "code",
   "execution_count": null,
   "id": "3d3f2595",
   "metadata": {},
   "outputs": [],
   "source": [
    "print(\"CB model + Feats\")\n",
    "df_feat[\"preds\"] = np.NaN\n",
    "evaluate(X=X.select_dtypes(\"number\"),model=CatBoostRegressor(verbose=False,has_time=True)) # iterations=500,\n",
    "y_true = df_feat.dropna(subset=[\"preds\"])[\"y_raw\"]\n",
    "y_pred = df_feat.dropna(subset=[\"preds\"])[\"preds\"]\n",
    "\n",
    "regression_results(y_true, y_pred)\n",
    "\n",
    "# ## all feats, CAtboost model:\n",
    "# r2:  0.961\n",
    "# MAE (Mean absolute error): 108.7497\n",
    "# Median absolute error: 35.78\n",
    "# RMSE: 271.2456\n",
    "# explained_variance:  0.961\n",
    "# mape: 15849072058643.87\n",
    "### ~same results using with/without \"Variable\" categorical feat"
   ]
  },
  {
   "cell_type": "markdown",
   "id": "18493d88",
   "metadata": {},
   "source": [
    "* diff target:\n",
    "```\n",
    "CB model + Feats\n",
    "1\n",
    "...\n",
    "5\n",
    "\n",
    "r2: 0.272\n",
    "MAE (Mean absolute error): 87.658\n",
    "Median absolute error: 32.8463\n",
    "RMSE: 200.2333\n",
    "explained_variance:  0.2747\n",
    "mape: 9.3886\n",
    "```"
   ]
  },
  {
   "cell_type": "code",
   "execution_count": null,
   "id": "a19f65e9",
   "metadata": {},
   "outputs": [],
   "source": [
    "print(\"Linear model + Feats\")\n",
    "df_feat[\"preds\"] = np.NaN\n",
    "evaluate(X=X.select_dtypes(\"number\"),model=LinearRegression())\n",
    "y_true = df_feat.dropna(subset=[\"preds\"])[\"y_raw\"]\n",
    "y_pred = df_feat.dropna(subset=[\"preds\"])[\"preds\"]\n",
    "\n",
    "regression_results(y_true, y_pred)"
   ]
  },
  {
   "cell_type": "code",
   "execution_count": null,
   "id": "81071b38",
   "metadata": {},
   "outputs": [],
   "source": [
    "print(\"Single feature baseline model\")\n",
    "df_feat[\"preds\"] = np.NaN\n",
    "evaluate(X=X[[\"lag5\"]],model=LinearRegression())\n",
    "y_true = df_feat.dropna(subset=[\"preds\"])[\"y_raw\"]\n",
    "y_pred = df_feat.dropna(subset=[\"preds\"])[\"preds\"]\n",
    "\n",
    "regression_results(y_true, y_pred)"
   ]
  },
  {
   "cell_type": "code",
   "execution_count": null,
   "id": "655672b0",
   "metadata": {},
   "outputs": [],
   "source": [
    "df_feat.dropna(subset=[\"preds\"])[[\"preds\",\"y_raw\",\"lag5\"]].corr().round(3)"
   ]
  },
  {
   "cell_type": "markdown",
   "id": "a17043b5",
   "metadata": {},
   "source": [
    "#### forwarf FS - check why so overfitting"
   ]
  },
  {
   "cell_type": "code",
   "execution_count": null,
   "id": "b7c4321e",
   "metadata": {
    "scrolled": true
   },
   "outputs": [],
   "source": [
    "%%time\n",
    "\n",
    "if DO_RFE_FS:\n",
    "#     from sklearn.feature_selection import SequentialFeatureSelector\n",
    "#     sfs = SequentialFeatureSelector(ElasticNet(warm_start=True,normalize=True,\n",
    "#                                                max_iter=1500), n_features_to_select=15,n_jobs=-1)\n",
    "#     sfs.fit(X.select_dtypes(\"number\"), y)\n",
    "#     print(len(sfs.get_feature_names_out()))\n",
    "#     list(sfs.get_feature_names_out())\n",
    "#     X2 = X.filter([\"variable\"]+list(sfs.get_feature_names_out()),axis=1).copy()\n",
    "#     X2"
   ]
  },
  {
   "cell_type": "code",
   "execution_count": null,
   "id": "cf21997d",
   "metadata": {},
   "outputs": [],
   "source": [
    "# df_feat[\"preds\"] = np.NaN\n",
    "# evaluate(X=X2.select_dtypes(\"number\"),model=LinearRegression())\n",
    "# y_true = df_feat.dropna(subset=[\"preds\"])[\"y_raw\"]\n",
    "# y_pred = df_feat.dropna(subset=[\"preds\"])[\"preds\"]\n",
    "\n",
    "# regression_results(y_true, y_pred)"
   ]
  },
  {
   "cell_type": "code",
   "execution_count": null,
   "id": "be8a25cd",
   "metadata": {},
   "outputs": [],
   "source": [
    "df_feat[\"preds\"] = np.NaN\n",
    "evaluate(X=X2)\n",
    "y_true = df_feat.dropna(subset=[\"preds\"])[\"y_raw\"]\n",
    "y_pred = df_feat.dropna(subset=[\"preds\"])[\"preds\"]\n",
    "\n",
    "regression_results(y_true, y_pred)"
   ]
  },
  {
   "cell_type": "markdown",
   "id": "d4b1033f",
   "metadata": {},
   "source": [
    "### Baselines\n",
    "R2 score for naive lag"
   ]
  },
  {
   "cell_type": "code",
   "execution_count": null,
   "id": "65b6346e",
   "metadata": {},
   "outputs": [],
   "source": [
    "df_feat.reset_index().sort_values([\"variable\",\"year_num\"]).head(7)"
   ]
  },
  {
   "cell_type": "code",
   "execution_count": null,
   "id": "d15f8d2f",
   "metadata": {},
   "outputs": [],
   "source": [
    "print('r2: lag5', round(metrics.r2_score(y_true=y_true, y_pred=df_feat.dropna(subset=[\"preds\"])[\"lag5\"]),4))\n",
    "print('r2: lag6', round(metrics.r2_score(y_true=y_true, y_pred=df_feat.dropna(subset=[\"preds\"])[\"lag6\"]),3))"
   ]
  },
  {
   "cell_type": "markdown",
   "id": "7ff83328",
   "metadata": {},
   "source": [
    "### SHAP Feature importance"
   ]
  },
  {
   "cell_type": "code",
   "execution_count": null,
   "id": "280e5370",
   "metadata": {},
   "outputs": [],
   "source": [
    "lst = X.columns[3:6]\n",
    "lst"
   ]
  },
  {
   "cell_type": "code",
   "execution_count": null,
   "id": "3b89a7a1",
   "metadata": {},
   "outputs": [],
   "source": [
    "# sample_string = 'my name is nik, welc(ome to datagy)'\n",
    "# re.split('\\W+', sample_string)"
   ]
  },
  {
   "cell_type": "code",
   "execution_count": null,
   "id": "ad2a322d",
   "metadata": {},
   "outputs": [],
   "source": [
    "# [i.replace(\"between 11 years and \",\"\") for i in lst]\n",
    "import re\n",
    "\n",
    "# [truncate(i) for i in lst if i.isnumeric()]\n",
    "# [truncate(i) for i.split() in lst]\n",
    "lst2 = []\n",
    "for i in lst:\n",
    "    i_split = i.replace(\")\",\" )\").split() # makes years uglier\n",
    "#     i_split = re.split('\\W+', i) ## deletes/loses the parantheses, messing up feats\n",
    "    lst2.append(\" \".join([truncate(c) for c in i_split]))\n",
    "lst2"
   ]
  },
  {
   "cell_type": "code",
   "execution_count": null,
   "id": "c174217b",
   "metadata": {},
   "outputs": [],
   "source": [
    "X.shape"
   ]
  },
  {
   "cell_type": "code",
   "execution_count": null,
   "id": "99c6d53f",
   "metadata": {},
   "outputs": [],
   "source": [
    "# import xgboost\n",
    "import shap\n",
    "\n",
    "# train an XGBoost model\n",
    "# X, y = shap.datasets.boston()\n",
    "# model = xgboost.XGBRegressor().fit(X, y)\n",
    "model = CatBoostRegressor(iterations=500,cat_features= [\"variable\"],\n",
    "                      verbose=False,has_time=True)\n",
    "# model = LinearRegression() ## better results\n",
    "# X = df_feat[[\"variable\"]+num_cols]#.copy() # try values ? \n",
    "# # X = X.fillna(0)\n",
    "# y = df_feat[\"y_raw\"]\n",
    "model.fit(X,y)\n",
    "# explain the model's predictions using SHAP\n",
    "# (same syntax works for LightGBM, CatBoost, scikit-learn, transformers, Spark, etc.)\n",
    "explainer = shap.Explainer(model)\n",
    "shap_values = explainer(X)\n",
    "\n",
    "# summarize the effects of all the features\n",
    "shap.plots.beeswarm(shap_values,max_display=15,)\n",
    "# shap.plots.bar(shap_values)"
   ]
  },
  {
   "cell_type": "code",
   "execution_count": null,
   "id": "60f21db6",
   "metadata": {},
   "outputs": [],
   "source": [
    "X.columns"
   ]
  },
  {
   "cell_type": "code",
   "execution_count": null,
   "id": "882332f3",
   "metadata": {},
   "outputs": [],
   "source": [
    "X[\"year_num\"].describe()"
   ]
  },
  {
   "cell_type": "code",
   "execution_count": null,
   "id": "011f07dd",
   "metadata": {},
   "outputs": [],
   "source": [
    "mask = X[\"year_num\"]>=2018\n",
    "df_future_predictions = X.loc[mask].copy()\n",
    "# model.fit(X,y)\n",
    "df_future_predictions[\"predicted\"] = model.predict(df_future_predictions.drop(columns=[\"predicted\"],errors=\"ignore\"))\n",
    "## check lag of target construction..., \n",
    "df_future_predictions[\"actual_y\"] = y.loc[mask].copy()\n",
    "df_future_predictions = df_future_predictions.filter(['year_num','variable', \"predicted\",\"actual_y\",'lag5'],axis=1)\n",
    "df_future_predictions"
   ]
  },
  {
   "cell_type": "markdown",
   "id": "8fc328ae",
   "metadata": {},
   "source": [
    "### Plot Predictions\n"
   ]
  },
  {
   "cell_type": "code",
   "execution_count": null,
   "id": "e7cdffb5",
   "metadata": {},
   "outputs": [],
   "source": [
    "df_feat[\"y_raw\"].notna().sum()"
   ]
  },
  {
   "cell_type": "code",
   "execution_count": null,
   "id": "4c3ba55d",
   "metadata": {},
   "outputs": [],
   "source": [
    "df_feat[\"preds\"].notna().sum()"
   ]
  },
  {
   "cell_type": "code",
   "execution_count": null,
   "id": "24d50ac0",
   "metadata": {},
   "outputs": [],
   "source": [
    "# df_feat.loc[df_feat[\"variable\"].str.contains(\"subthalamus\",case=False)]#[[\"y_raw\",\"y_raw_predicted\"]]"
   ]
  },
  {
   "cell_type": "code",
   "execution_count": null,
   "id": "b69f3d53",
   "metadata": {},
   "outputs": [],
   "source": [
    "plot_var_preds(df_feat,\"eeg\")"
   ]
  },
  {
   "cell_type": "code",
   "execution_count": null,
   "id": "6c40b2f3",
   "metadata": {},
   "outputs": [],
   "source": [
    "# df.loc[df[\"variable\"].str.contains(\"neural networks\",case=False)][[\"y_raw\",\"y_raw_predicted\"]].plot(title=\"neural networks\")"
   ]
  },
  {
   "cell_type": "code",
   "execution_count": null,
   "id": "c263c5ce",
   "metadata": {},
   "outputs": [],
   "source": [
    "plot_var_preds(df_feat,\"neural networks\")"
   ]
  },
  {
   "cell_type": "code",
   "execution_count": null,
   "id": "b6b26c51",
   "metadata": {},
   "outputs": [],
   "source": [
    "plot_var_preds(df_feat,\"artificial neural networks\")"
   ]
  },
  {
   "cell_type": "code",
   "execution_count": null,
   "id": "1c55075b",
   "metadata": {},
   "outputs": [],
   "source": [
    "plot_var_preds(df_feat,\"vaccine\")"
   ]
  },
  {
   "cell_type": "code",
   "execution_count": null,
   "id": "1f55a5c8",
   "metadata": {},
   "outputs": [],
   "source": [
    "plot_var_preds(df_feat,\"cannabis\",logScale=True)"
   ]
  },
  {
   "cell_type": "code",
   "execution_count": null,
   "id": "06711704",
   "metadata": {},
   "outputs": [],
   "source": [
    "df.loc[df[\"start\"].dt.year>1994][\"variable\"].unique()"
   ]
  },
  {
   "cell_type": "code",
   "execution_count": null,
   "id": "fc4ccbc4",
   "metadata": {
    "scrolled": true
   },
   "outputs": [],
   "source": [
    "for i in ['BRCA2', 'BRCA1', 'carbon nanotubes', 'GWAS']:\n",
    "    plot_var_preds(df_feat,i)"
   ]
  },
  {
   "cell_type": "code",
   "execution_count": null,
   "id": "b2c6f925",
   "metadata": {
    "scrolled": false
   },
   "outputs": [],
   "source": [
    "for i in ['artificial neural networks', 'graph neural network', 'buckyballs',\n",
    "#        'carbon nanotubes', 'BRCA2', 'BRCA1', 'GWAS',\n",
    "       'nanopore', 'metabolome', 'metagenomics', 'miRNA', 'CRISPR',\n",
    "       'biosimilar', 'connectome', 'crispr cas-9',]:\n",
    "    plot_var_preds(df_feat,i)"
   ]
  },
  {
   "cell_type": "code",
   "execution_count": null,
   "id": "5e265e32",
   "metadata": {
    "scrolled": false
   },
   "outputs": [],
   "source": [
    "for i in ['antibiotic','substance P', 'dopamine', 'fMRI', 'MRI', 'epigenetics',\n",
    "       'carbon dating', 'soy milk', 'mass spectrometry', \n",
    "       'machine learning', 'savant', 'prion']:\n",
    "    plot_var_preds(df_feat,i)"
   ]
  }
 ],
 "metadata": {
  "kernelspec": {
   "display_name": "Python 3 (ipykernel)",
   "language": "python",
   "name": "python3"
  },
  "language_info": {
   "codemirror_mode": {
    "name": "ipython",
    "version": 3
   },
   "file_extension": ".py",
   "mimetype": "text/x-python",
   "name": "python",
   "nbconvert_exporter": "python",
   "pygments_lexer": "ipython3",
   "version": "3.9.16"
  }
 },
 "nbformat": 4,
 "nbformat_minor": 5
}
