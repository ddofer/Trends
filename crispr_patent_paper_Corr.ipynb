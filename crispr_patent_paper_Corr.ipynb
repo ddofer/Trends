{
 "cells": [
  {
   "cell_type": "code",
   "execution_count": 2,
   "id": "08ed07d2",
   "metadata": {},
   "outputs": [],
   "source": [
    "import pandas as pd\n",
    "import numpy as np\n",
    "%matplotlib inline\n",
    "\n",
    "pd.set_option(\"display.precision\", 3)"
   ]
  },
  {
   "cell_type": "code",
   "execution_count": 3,
   "id": "ee52cebd",
   "metadata": {},
   "outputs": [],
   "source": [
    "## clean orig raw data of patents counts and crispr, from base dataset\n",
    "df_orig = pd.read_excel(\"crispr_patents_papers.xls\",parse_dates=[\"Year\"]).set_index(\"Year\").drop(columns=\"crispr[majr]\")\n",
    "df_orig.to_csv(\"S2-crispr_patents_papers.csv\",index=True)"
   ]
  },
  {
   "cell_type": "code",
   "execution_count": 6,
   "id": "04c3a754",
   "metadata": {},
   "outputs": [
    {
     "data": {
      "text/html": [
       "<div>\n",
       "<style scoped>\n",
       "    .dataframe tbody tr th:only-of-type {\n",
       "        vertical-align: middle;\n",
       "    }\n",
       "\n",
       "    .dataframe tbody tr th {\n",
       "        vertical-align: top;\n",
       "    }\n",
       "\n",
       "    .dataframe thead th {\n",
       "        text-align: right;\n",
       "    }\n",
       "</style>\n",
       "<table border=\"1\" class=\"dataframe\">\n",
       "  <thead>\n",
       "    <tr style=\"text-align: right;\">\n",
       "      <th></th>\n",
       "      <th>crispr</th>\n",
       "      <th>patents filed  Count</th>\n",
       "    </tr>\n",
       "    <tr>\n",
       "      <th>Year</th>\n",
       "      <th></th>\n",
       "      <th></th>\n",
       "    </tr>\n",
       "  </thead>\n",
       "  <tbody>\n",
       "    <tr>\n",
       "      <th>2002-01-01</th>\n",
       "      <td>0.177</td>\n",
       "      <td>0</td>\n",
       "    </tr>\n",
       "    <tr>\n",
       "      <th>2003-01-01</th>\n",
       "      <td>0.168</td>\n",
       "      <td>0</td>\n",
       "    </tr>\n",
       "    <tr>\n",
       "      <th>2004-01-01</th>\n",
       "      <td>0.156</td>\n",
       "      <td>0</td>\n",
       "    </tr>\n",
       "    <tr>\n",
       "      <th>2005-01-01</th>\n",
       "      <td>0.714</td>\n",
       "      <td>3</td>\n",
       "    </tr>\n",
       "    <tr>\n",
       "      <th>2006-01-01</th>\n",
       "      <td>0.933</td>\n",
       "      <td>11</td>\n",
       "    </tr>\n",
       "    <tr>\n",
       "      <th>2007-01-01</th>\n",
       "      <td>2.161</td>\n",
       "      <td>8</td>\n",
       "    </tr>\n",
       "    <tr>\n",
       "      <th>2008-01-01</th>\n",
       "      <td>3.345</td>\n",
       "      <td>22</td>\n",
       "    </tr>\n",
       "    <tr>\n",
       "      <th>2009-01-01</th>\n",
       "      <td>4.444</td>\n",
       "      <td>32</td>\n",
       "    </tr>\n",
       "    <tr>\n",
       "      <th>2010-01-01</th>\n",
       "      <td>5.732</td>\n",
       "      <td>13</td>\n",
       "    </tr>\n",
       "    <tr>\n",
       "      <th>2011-01-01</th>\n",
       "      <td>8.526</td>\n",
       "      <td>20</td>\n",
       "    </tr>\n",
       "    <tr>\n",
       "      <th>2012-01-01</th>\n",
       "      <td>13.308</td>\n",
       "      <td>32</td>\n",
       "    </tr>\n",
       "    <tr>\n",
       "      <th>2013-01-01</th>\n",
       "      <td>28.702</td>\n",
       "      <td>351</td>\n",
       "    </tr>\n",
       "    <tr>\n",
       "      <th>2014-01-01</th>\n",
       "      <td>57.825</td>\n",
       "      <td>987</td>\n",
       "    </tr>\n",
       "    <tr>\n",
       "      <th>2015-01-01</th>\n",
       "      <td>107.121</td>\n",
       "      <td>1657</td>\n",
       "    </tr>\n",
       "    <tr>\n",
       "      <th>2016-01-01</th>\n",
       "      <td>178.355</td>\n",
       "      <td>3106</td>\n",
       "    </tr>\n",
       "    <tr>\n",
       "      <th>2017-01-01</th>\n",
       "      <td>249.872</td>\n",
       "      <td>4311</td>\n",
       "    </tr>\n",
       "    <tr>\n",
       "      <th>2018-01-01</th>\n",
       "      <td>320.504</td>\n",
       "      <td>5754</td>\n",
       "    </tr>\n",
       "    <tr>\n",
       "      <th>2019-01-01</th>\n",
       "      <td>379.476</td>\n",
       "      <td>6621</td>\n",
       "    </tr>\n",
       "    <tr>\n",
       "      <th>2020-01-01</th>\n",
       "      <td>385.564</td>\n",
       "      <td>5504</td>\n",
       "    </tr>\n",
       "    <tr>\n",
       "      <th>2021-01-01</th>\n",
       "      <td>400.844</td>\n",
       "      <td>2931</td>\n",
       "    </tr>\n",
       "  </tbody>\n",
       "</table>\n",
       "</div>"
      ],
      "text/plain": [
       "             crispr  patents filed  Count\n",
       "Year                                     \n",
       "2002-01-01    0.177                     0\n",
       "2003-01-01    0.168                     0\n",
       "2004-01-01    0.156                     0\n",
       "2005-01-01    0.714                     3\n",
       "2006-01-01    0.933                    11\n",
       "2007-01-01    2.161                     8\n",
       "2008-01-01    3.345                    22\n",
       "2009-01-01    4.444                    32\n",
       "2010-01-01    5.732                    13\n",
       "2011-01-01    8.526                    20\n",
       "2012-01-01   13.308                    32\n",
       "2013-01-01   28.702                   351\n",
       "2014-01-01   57.825                   987\n",
       "2015-01-01  107.121                  1657\n",
       "2016-01-01  178.355                  3106\n",
       "2017-01-01  249.872                  4311\n",
       "2018-01-01  320.504                  5754\n",
       "2019-01-01  379.476                  6621\n",
       "2020-01-01  385.564                  5504\n",
       "2021-01-01  400.844                  2931"
      ]
     },
     "execution_count": 6,
     "metadata": {},
     "output_type": "execute_result"
    }
   ],
   "source": [
    "df = pd.read_csv(\"S2-crispr_patents_papers.csv\",parse_dates=[\"Year\"]).set_index(\"Year\")\n",
    "df"
   ]
  },
  {
   "cell_type": "code",
   "execution_count": 7,
   "id": "f0b2c0ee",
   "metadata": {},
   "outputs": [
    {
     "data": {
      "text/plain": [
       "Index(['crispr', 'patents filed  Count'], dtype='object')"
      ]
     },
     "execution_count": 7,
     "metadata": {},
     "output_type": "execute_result"
    }
   ],
   "source": [
    "df.columns"
   ]
  },
  {
   "cell_type": "code",
   "execution_count": 8,
   "id": "ae1db962",
   "metadata": {},
   "outputs": [
    {
     "data": {
      "text/plain": [
       "<Axes: xlabel='y(t)', ylabel='y(t + 1)'>"
      ]
     },
     "execution_count": 8,
     "metadata": {},
     "output_type": "execute_result"
    },
    {
     "data": {
      "image/png": "[encoded data removed]",
      "text/plain": [
       "<Figure size 640x480 with 1 Axes>"
      ]
     },
     "metadata": {},
     "output_type": "display_data"
    }
   ],
   "source": [
    "pd.plotting.lag_plot(df[\"crispr\"], lag=1)"
   ]
  },
  {
   "cell_type": "code",
   "execution_count": 9,
   "id": "ee03dc49",
   "metadata": {},
   "outputs": [
    {
     "data": {
      "text/plain": [
       "<Axes: xlabel='y(t)', ylabel='y(t + 1)'>"
      ]
     },
     "execution_count": 9,
     "metadata": {},
     "output_type": "execute_result"
    },
    {
     "data": {
      "image/png": "[encoded data removed]",
      "text/plain": [
       "<Figure size 640x480 with 1 Axes>"
      ]
     },
     "metadata": {},
     "output_type": "display_data"
    }
   ],
   "source": [
    "pd.plotting.lag_plot(df['patents filed  Count'], lag=1)"
   ]
  },
  {
   "cell_type": "code",
   "execution_count": 10,
   "id": "3b56fd7c",
   "metadata": {},
   "outputs": [
    {
     "data": {
      "text/plain": [
       "<Axes: xlabel='Lag', ylabel='Autocorrelation'>"
      ]
     },
     "execution_count": 10,
     "metadata": {},
     "output_type": "execute_result"
    },
    {
     "data": {
      "image/png": "[encoded data removed]",
      "text/plain": [
       "<Figure size 640x480 with 1 Axes>"
      ]
     },
     "metadata": {},
     "output_type": "display_data"
    }
   ],
   "source": [
    "pd.plotting.autocorrelation_plot(df)"
   ]
  },
  {
   "cell_type": "code",
   "execution_count": 11,
   "id": "0a3cbb8e",
   "metadata": {},
   "outputs": [
    {
     "data": {
      "text/plain": [
       "<Axes: xlabel='Lag', ylabel='Autocorrelation'>"
      ]
     },
     "execution_count": 11,
     "metadata": {},
     "output_type": "execute_result"
    },
    {
     "data": {
      "image/png": "[encoded data removed]",
      "text/plain": [
       "<Figure size 640x480 with 1 Axes>"
      ]
     },
     "metadata": {},
     "output_type": "display_data"
    }
   ],
   "source": [
    "pd.plotting.autocorrelation_plot(df.iloc[:,0])"
   ]
  },
  {
   "cell_type": "code",
   "execution_count": 12,
   "id": "cd86426f",
   "metadata": {},
   "outputs": [
    {
     "data": {
      "text/plain": [
       "<Axes: xlabel='Lag', ylabel='Autocorrelation'>"
      ]
     },
     "execution_count": 12,
     "metadata": {},
     "output_type": "execute_result"
    },
    {
     "data": {
      "image/png": "[encoded data removed]",
      "text/plain": [
       "<Figure size 640x480 with 1 Axes>"
      ]
     },
     "metadata": {},
     "output_type": "display_data"
    }
   ],
   "source": [
    "pd.plotting.autocorrelation_plot(df.iloc[:,1])"
   ]
  },
  {
   "cell_type": "code",
   "execution_count": 13,
   "id": "a5853437",
   "metadata": {},
   "outputs": [],
   "source": [
    "df_diff =df.diff()"
   ]
  },
  {
   "cell_type": "code",
   "execution_count": 14,
   "id": "84d03aea",
   "metadata": {},
   "outputs": [
    {
     "data": {
      "text/html": [
       "<div>\n",
       "<style scoped>\n",
       "    .dataframe tbody tr th:only-of-type {\n",
       "        vertical-align: middle;\n",
       "    }\n",
       "\n",
       "    .dataframe tbody tr th {\n",
       "        vertical-align: top;\n",
       "    }\n",
       "\n",
       "    .dataframe thead th {\n",
       "        text-align: right;\n",
       "    }\n",
       "</style>\n",
       "<table border=\"1\" class=\"dataframe\">\n",
       "  <thead>\n",
       "    <tr style=\"text-align: right;\">\n",
       "      <th></th>\n",
       "      <th>crispr</th>\n",
       "      <th>patents filed  Count</th>\n",
       "    </tr>\n",
       "    <tr>\n",
       "      <th>Year</th>\n",
       "      <th></th>\n",
       "      <th></th>\n",
       "    </tr>\n",
       "  </thead>\n",
       "  <tbody>\n",
       "    <tr>\n",
       "      <th>2003-01-01</th>\n",
       "      <td>-0.009</td>\n",
       "      <td>0.0</td>\n",
       "    </tr>\n",
       "    <tr>\n",
       "      <th>2004-01-01</th>\n",
       "      <td>-0.012</td>\n",
       "      <td>0.0</td>\n",
       "    </tr>\n",
       "    <tr>\n",
       "      <th>2005-01-01</th>\n",
       "      <td>0.558</td>\n",
       "      <td>3.0</td>\n",
       "    </tr>\n",
       "    <tr>\n",
       "      <th>2006-01-01</th>\n",
       "      <td>0.219</td>\n",
       "      <td>8.0</td>\n",
       "    </tr>\n",
       "    <tr>\n",
       "      <th>2007-01-01</th>\n",
       "      <td>1.228</td>\n",
       "      <td>-3.0</td>\n",
       "    </tr>\n",
       "    <tr>\n",
       "      <th>2008-01-01</th>\n",
       "      <td>1.184</td>\n",
       "      <td>14.0</td>\n",
       "    </tr>\n",
       "    <tr>\n",
       "      <th>2009-01-01</th>\n",
       "      <td>1.099</td>\n",
       "      <td>10.0</td>\n",
       "    </tr>\n",
       "    <tr>\n",
       "      <th>2010-01-01</th>\n",
       "      <td>1.288</td>\n",
       "      <td>-19.0</td>\n",
       "    </tr>\n",
       "    <tr>\n",
       "      <th>2011-01-01</th>\n",
       "      <td>2.794</td>\n",
       "      <td>7.0</td>\n",
       "    </tr>\n",
       "    <tr>\n",
       "      <th>2012-01-01</th>\n",
       "      <td>4.782</td>\n",
       "      <td>12.0</td>\n",
       "    </tr>\n",
       "    <tr>\n",
       "      <th>2013-01-01</th>\n",
       "      <td>15.395</td>\n",
       "      <td>319.0</td>\n",
       "    </tr>\n",
       "    <tr>\n",
       "      <th>2014-01-01</th>\n",
       "      <td>29.123</td>\n",
       "      <td>636.0</td>\n",
       "    </tr>\n",
       "    <tr>\n",
       "      <th>2015-01-01</th>\n",
       "      <td>49.296</td>\n",
       "      <td>670.0</td>\n",
       "    </tr>\n",
       "    <tr>\n",
       "      <th>2016-01-01</th>\n",
       "      <td>71.234</td>\n",
       "      <td>1449.0</td>\n",
       "    </tr>\n",
       "    <tr>\n",
       "      <th>2017-01-01</th>\n",
       "      <td>71.517</td>\n",
       "      <td>1205.0</td>\n",
       "    </tr>\n",
       "    <tr>\n",
       "      <th>2018-01-01</th>\n",
       "      <td>70.632</td>\n",
       "      <td>1443.0</td>\n",
       "    </tr>\n",
       "    <tr>\n",
       "      <th>2019-01-01</th>\n",
       "      <td>58.972</td>\n",
       "      <td>867.0</td>\n",
       "    </tr>\n",
       "    <tr>\n",
       "      <th>2020-01-01</th>\n",
       "      <td>6.088</td>\n",
       "      <td>-1117.0</td>\n",
       "    </tr>\n",
       "    <tr>\n",
       "      <th>2021-01-01</th>\n",
       "      <td>15.280</td>\n",
       "      <td>-2573.0</td>\n",
       "    </tr>\n",
       "  </tbody>\n",
       "</table>\n",
       "</div>"
      ],
      "text/plain": [
       "            crispr  patents filed  Count\n",
       "Year                                    \n",
       "2003-01-01  -0.009                   0.0\n",
       "2004-01-01  -0.012                   0.0\n",
       "2005-01-01   0.558                   3.0\n",
       "2006-01-01   0.219                   8.0\n",
       "2007-01-01   1.228                  -3.0\n",
       "2008-01-01   1.184                  14.0\n",
       "2009-01-01   1.099                  10.0\n",
       "2010-01-01   1.288                 -19.0\n",
       "2011-01-01   2.794                   7.0\n",
       "2012-01-01   4.782                  12.0\n",
       "2013-01-01  15.395                 319.0\n",
       "2014-01-01  29.123                 636.0\n",
       "2015-01-01  49.296                 670.0\n",
       "2016-01-01  71.234                1449.0\n",
       "2017-01-01  71.517                1205.0\n",
       "2018-01-01  70.632                1443.0\n",
       "2019-01-01  58.972                 867.0\n",
       "2020-01-01   6.088               -1117.0\n",
       "2021-01-01  15.280               -2573.0"
      ]
     },
     "execution_count": 14,
     "metadata": {},
     "output_type": "execute_result"
    }
   ],
   "source": [
    "df_diff.dropna()"
   ]
  },
  {
   "cell_type": "code",
   "execution_count": 15,
   "id": "84ef7cae",
   "metadata": {
    "scrolled": true
   },
   "outputs": [
    {
     "data": {
      "text/plain": [
       "<Axes: xlabel='Lag', ylabel='Autocorrelation'>"
      ]
     },
     "execution_count": 15,
     "metadata": {},
     "output_type": "execute_result"
    },
    {
     "data": {
      "image/png": "[encoded data removed]",
      "text/plain": [
       "<Figure size 640x480 with 1 Axes>"
      ]
     },
     "metadata": {},
     "output_type": "display_data"
    }
   ],
   "source": [
    "pd.plotting.autocorrelation_plot(df_diff.dropna().iloc[:,1])"
   ]
  },
  {
   "cell_type": "markdown",
   "id": "dffbd136",
   "metadata": {},
   "source": [
    "### drop first few \"0\" years"
   ]
  },
  {
   "cell_type": "code",
   "execution_count": 12,
   "id": "812e3444",
   "metadata": {
    "scrolled": true
   },
   "outputs": [
    {
     "data": {
      "text/html": [
       "<div>\n",
       "<style scoped>\n",
       "    .dataframe tbody tr th:only-of-type {\n",
       "        vertical-align: middle;\n",
       "    }\n",
       "\n",
       "    .dataframe tbody tr th {\n",
       "        vertical-align: top;\n",
       "    }\n",
       "\n",
       "    .dataframe thead th {\n",
       "        text-align: right;\n",
       "    }\n",
       "</style>\n",
       "<table border=\"1\" class=\"dataframe\">\n",
       "  <thead>\n",
       "    <tr style=\"text-align: right;\">\n",
       "      <th></th>\n",
       "      <th>crispr</th>\n",
       "      <th>patents filed  Count</th>\n",
       "    </tr>\n",
       "    <tr>\n",
       "      <th>Year</th>\n",
       "      <th></th>\n",
       "      <th></th>\n",
       "    </tr>\n",
       "  </thead>\n",
       "  <tbody>\n",
       "    <tr>\n",
       "      <th>2003-01-01</th>\n",
       "      <td>-0.009</td>\n",
       "      <td>0.0</td>\n",
       "    </tr>\n",
       "    <tr>\n",
       "      <th>2004-01-01</th>\n",
       "      <td>-0.012</td>\n",
       "      <td>0.0</td>\n",
       "    </tr>\n",
       "    <tr>\n",
       "      <th>2005-01-01</th>\n",
       "      <td>0.558</td>\n",
       "      <td>3.0</td>\n",
       "    </tr>\n",
       "    <tr>\n",
       "      <th>2006-01-01</th>\n",
       "      <td>0.219</td>\n",
       "      <td>8.0</td>\n",
       "    </tr>\n",
       "    <tr>\n",
       "      <th>2007-01-01</th>\n",
       "      <td>1.228</td>\n",
       "      <td>-3.0</td>\n",
       "    </tr>\n",
       "    <tr>\n",
       "      <th>2008-01-01</th>\n",
       "      <td>1.184</td>\n",
       "      <td>14.0</td>\n",
       "    </tr>\n",
       "    <tr>\n",
       "      <th>2009-01-01</th>\n",
       "      <td>1.099</td>\n",
       "      <td>10.0</td>\n",
       "    </tr>\n",
       "    <tr>\n",
       "      <th>2010-01-01</th>\n",
       "      <td>1.288</td>\n",
       "      <td>-19.0</td>\n",
       "    </tr>\n",
       "    <tr>\n",
       "      <th>2011-01-01</th>\n",
       "      <td>2.794</td>\n",
       "      <td>7.0</td>\n",
       "    </tr>\n",
       "    <tr>\n",
       "      <th>2012-01-01</th>\n",
       "      <td>4.782</td>\n",
       "      <td>12.0</td>\n",
       "    </tr>\n",
       "    <tr>\n",
       "      <th>2013-01-01</th>\n",
       "      <td>15.395</td>\n",
       "      <td>319.0</td>\n",
       "    </tr>\n",
       "    <tr>\n",
       "      <th>2014-01-01</th>\n",
       "      <td>29.123</td>\n",
       "      <td>636.0</td>\n",
       "    </tr>\n",
       "    <tr>\n",
       "      <th>2015-01-01</th>\n",
       "      <td>49.296</td>\n",
       "      <td>670.0</td>\n",
       "    </tr>\n",
       "    <tr>\n",
       "      <th>2016-01-01</th>\n",
       "      <td>71.234</td>\n",
       "      <td>1449.0</td>\n",
       "    </tr>\n",
       "    <tr>\n",
       "      <th>2017-01-01</th>\n",
       "      <td>71.517</td>\n",
       "      <td>1205.0</td>\n",
       "    </tr>\n",
       "    <tr>\n",
       "      <th>2018-01-01</th>\n",
       "      <td>70.632</td>\n",
       "      <td>1443.0</td>\n",
       "    </tr>\n",
       "    <tr>\n",
       "      <th>2019-01-01</th>\n",
       "      <td>58.972</td>\n",
       "      <td>867.0</td>\n",
       "    </tr>\n",
       "    <tr>\n",
       "      <th>2020-01-01</th>\n",
       "      <td>6.088</td>\n",
       "      <td>-1117.0</td>\n",
       "    </tr>\n",
       "    <tr>\n",
       "      <th>2021-01-01</th>\n",
       "      <td>15.280</td>\n",
       "      <td>-2573.0</td>\n",
       "    </tr>\n",
       "  </tbody>\n",
       "</table>\n",
       "</div>"
      ],
      "text/plain": [
       "            crispr  patents filed  Count\n",
       "Year                                    \n",
       "2003-01-01  -0.009                   0.0\n",
       "2004-01-01  -0.012                   0.0\n",
       "2005-01-01   0.558                   3.0\n",
       "2006-01-01   0.219                   8.0\n",
       "2007-01-01   1.228                  -3.0\n",
       "2008-01-01   1.184                  14.0\n",
       "2009-01-01   1.099                  10.0\n",
       "2010-01-01   1.288                 -19.0\n",
       "2011-01-01   2.794                   7.0\n",
       "2012-01-01   4.782                  12.0\n",
       "2013-01-01  15.395                 319.0\n",
       "2014-01-01  29.123                 636.0\n",
       "2015-01-01  49.296                 670.0\n",
       "2016-01-01  71.234                1449.0\n",
       "2017-01-01  71.517                1205.0\n",
       "2018-01-01  70.632                1443.0\n",
       "2019-01-01  58.972                 867.0\n",
       "2020-01-01   6.088               -1117.0\n",
       "2021-01-01  15.280               -2573.0"
      ]
     },
     "execution_count": 12,
     "metadata": {},
     "output_type": "execute_result"
    }
   ],
   "source": [
    "df_diff = df_diff.tail(19)\n",
    "df = df.tail(19)\n",
    "\n",
    "df_diff"
   ]
  },
  {
   "cell_type": "markdown",
   "id": "c7a30fb0",
   "metadata": {},
   "source": [
    "### Correlation\n",
    "* Also first orer differenced correlation (removes linear trend)"
   ]
  },
  {
   "cell_type": "code",
   "execution_count": 13,
   "id": "417318c5",
   "metadata": {},
   "outputs": [
    {
     "data": {
      "text/html": [
       "<div>\n",
       "<style scoped>\n",
       "    .dataframe tbody tr th:only-of-type {\n",
       "        vertical-align: middle;\n",
       "    }\n",
       "\n",
       "    .dataframe tbody tr th {\n",
       "        vertical-align: top;\n",
       "    }\n",
       "\n",
       "    .dataframe thead th {\n",
       "        text-align: right;\n",
       "    }\n",
       "</style>\n",
       "<table border=\"1\" class=\"dataframe\">\n",
       "  <thead>\n",
       "    <tr style=\"text-align: right;\">\n",
       "      <th></th>\n",
       "      <th>crispr</th>\n",
       "      <th>patents filed  Count</th>\n",
       "    </tr>\n",
       "  </thead>\n",
       "  <tbody>\n",
       "    <tr>\n",
       "      <th>crispr</th>\n",
       "      <td>1.000</td>\n",
       "      <td>0.938</td>\n",
       "    </tr>\n",
       "    <tr>\n",
       "      <th>patents filed  Count</th>\n",
       "      <td>0.938</td>\n",
       "      <td>1.000</td>\n",
       "    </tr>\n",
       "  </tbody>\n",
       "</table>\n",
       "</div>"
      ],
      "text/plain": [
       "                      crispr  patents filed  Count\n",
       "crispr                 1.000                 0.938\n",
       "patents filed  Count   0.938                 1.000"
      ]
     },
     "execution_count": 13,
     "metadata": {},
     "output_type": "execute_result"
    }
   ],
   "source": [
    "df.corr()"
   ]
  },
  {
   "cell_type": "code",
   "execution_count": 14,
   "id": "348f8111",
   "metadata": {},
   "outputs": [
    {
     "data": {
      "text/html": [
       "<div>\n",
       "<style scoped>\n",
       "    .dataframe tbody tr th:only-of-type {\n",
       "        vertical-align: middle;\n",
       "    }\n",
       "\n",
       "    .dataframe tbody tr th {\n",
       "        vertical-align: top;\n",
       "    }\n",
       "\n",
       "    .dataframe thead th {\n",
       "        text-align: right;\n",
       "    }\n",
       "</style>\n",
       "<table border=\"1\" class=\"dataframe\">\n",
       "  <thead>\n",
       "    <tr style=\"text-align: right;\">\n",
       "      <th></th>\n",
       "      <th>crispr</th>\n",
       "      <th>patents filed  Count</th>\n",
       "    </tr>\n",
       "  </thead>\n",
       "  <tbody>\n",
       "    <tr>\n",
       "      <th>crispr</th>\n",
       "      <td>1.00</td>\n",
       "      <td>0.64</td>\n",
       "    </tr>\n",
       "    <tr>\n",
       "      <th>patents filed  Count</th>\n",
       "      <td>0.64</td>\n",
       "      <td>1.00</td>\n",
       "    </tr>\n",
       "  </tbody>\n",
       "</table>\n",
       "</div>"
      ],
      "text/plain": [
       "                      crispr  patents filed  Count\n",
       "crispr                  1.00                  0.64\n",
       "patents filed  Count    0.64                  1.00"
      ]
     },
     "execution_count": 14,
     "metadata": {},
     "output_type": "execute_result"
    }
   ],
   "source": [
    "df_diff.corr()"
   ]
  },
  {
   "cell_type": "code",
   "execution_count": 15,
   "id": "e6c993d3",
   "metadata": {},
   "outputs": [
    {
     "data": {
      "text/plain": [
       "Year\n",
       "2003-01-01    -0.009\n",
       "2004-01-01    -0.012\n",
       "2005-01-01     0.558\n",
       "2006-01-01     0.219\n",
       "2007-01-01     1.228\n",
       "2008-01-01     1.184\n",
       "2009-01-01     1.099\n",
       "2010-01-01     1.288\n",
       "2011-01-01     2.794\n",
       "2012-01-01     4.782\n",
       "2013-01-01    15.395\n",
       "2014-01-01    29.123\n",
       "2015-01-01    49.296\n",
       "2016-01-01    71.234\n",
       "2017-01-01    71.517\n",
       "2018-01-01    70.632\n",
       "2019-01-01    58.972\n",
       "2020-01-01     6.088\n",
       "2021-01-01    15.280\n",
       "Name: crispr, dtype: float64"
      ]
     },
     "execution_count": 15,
     "metadata": {},
     "output_type": "execute_result"
    }
   ],
   "source": [
    "df_diff[\"crispr\"]"
   ]
  },
  {
   "cell_type": "markdown",
   "id": "ee918406",
   "metadata": {},
   "source": [
    "### lag/causal correlation\n"
   ]
  },
  {
   "cell_type": "code",
   "execution_count": 16,
   "id": "14bbc6b3",
   "metadata": {},
   "outputs": [
    {
     "data": {
      "text/html": [
       "<div>\n",
       "<style scoped>\n",
       "    .dataframe tbody tr th:only-of-type {\n",
       "        vertical-align: middle;\n",
       "    }\n",
       "\n",
       "    .dataframe tbody tr th {\n",
       "        vertical-align: top;\n",
       "    }\n",
       "\n",
       "    .dataframe thead th {\n",
       "        text-align: right;\n",
       "    }\n",
       "</style>\n",
       "<table border=\"1\" class=\"dataframe\">\n",
       "  <thead>\n",
       "    <tr style=\"text-align: right;\">\n",
       "      <th></th>\n",
       "      <th>crispr</th>\n",
       "      <th>patents filed  Count</th>\n",
       "    </tr>\n",
       "  </thead>\n",
       "  <tbody>\n",
       "    <tr>\n",
       "      <th>crispr</th>\n",
       "      <td>1.00</td>\n",
       "      <td>0.64</td>\n",
       "    </tr>\n",
       "    <tr>\n",
       "      <th>patents filed  Count</th>\n",
       "      <td>0.64</td>\n",
       "      <td>1.00</td>\n",
       "    </tr>\n",
       "  </tbody>\n",
       "</table>\n",
       "</div>"
      ],
      "text/plain": [
       "                      crispr  patents filed  Count\n",
       "crispr                  1.00                  0.64\n",
       "patents filed  Count    0.64                  1.00"
      ]
     },
     "execution_count": 16,
     "metadata": {},
     "output_type": "execute_result"
    }
   ],
   "source": [
    "df_diff.corr().round(3)"
   ]
  },
  {
   "cell_type": "code",
   "execution_count": 17,
   "id": "edd2e02b",
   "metadata": {},
   "outputs": [
    {
     "data": {
      "text/plain": [
       "0.459"
      ]
     },
     "execution_count": 17,
     "metadata": {},
     "output_type": "execute_result"
    }
   ],
   "source": [
    "df_diff[\"crispr\"].shift(1).corr(df_diff[\"patents filed  Count\"]).round(3)"
   ]
  },
  {
   "cell_type": "markdown",
   "id": "0db1a616",
   "metadata": {},
   "source": [
    "#### patents filed the previous year is a leading indicator! Stronger than same year\n"
   ]
  },
  {
   "cell_type": "code",
   "execution_count": 18,
   "id": "87c87ef6",
   "metadata": {},
   "outputs": [
    {
     "data": {
      "text/plain": [
       "0.745"
      ]
     },
     "execution_count": 18,
     "metadata": {},
     "output_type": "execute_result"
    }
   ],
   "source": [
    "df_diff[\"patents filed  Count\"].shift(1).corr(df_diff[\"crispr\"]).round(3)"
   ]
  },
  {
   "cell_type": "code",
   "execution_count": 19,
   "id": "51712690",
   "metadata": {},
   "outputs": [],
   "source": [
    "# df_diff[\"crispr\"].shift(-1).corr(df_diff[\"patents filed  Count\"]).round(3) ## identical to above"
   ]
  },
  {
   "cell_type": "markdown",
   "id": "9737c009",
   "metadata": {},
   "source": [
    "* Undifferenced :"
   ]
  },
  {
   "cell_type": "code",
   "execution_count": 20,
   "id": "5cc93a2e",
   "metadata": {},
   "outputs": [
    {
     "data": {
      "text/plain": [
       "0.887"
      ]
     },
     "execution_count": 20,
     "metadata": {},
     "output_type": "execute_result"
    }
   ],
   "source": [
    "df[\"crispr\"].shift(1).corr(df[\"patents filed  Count\"]).round(3)"
   ]
  },
  {
   "cell_type": "markdown",
   "id": "b4ab4add",
   "metadata": {},
   "source": [
    "#### patents filed the previous year is a super strong causal predictor (without differencing)\n"
   ]
  },
  {
   "cell_type": "code",
   "execution_count": 21,
   "id": "d18c75dd",
   "metadata": {},
   "outputs": [
    {
     "data": {
      "text/plain": [
       "0.985"
      ]
     },
     "execution_count": 21,
     "metadata": {},
     "output_type": "execute_result"
    }
   ],
   "source": [
    "df[\"patents filed  Count\"].shift(1).corr(df[\"crispr\"]).round(3)"
   ]
  },
  {
   "cell_type": "code",
   "execution_count": 22,
   "id": "9d77a29c",
   "metadata": {},
   "outputs": [
    {
     "name": "stdout",
     "output_type": "stream",
     "text": [
      "Same year patents:\n"
     ]
    },
    {
     "data": {
      "text/plain": [
       "0.938"
      ]
     },
     "execution_count": 22,
     "metadata": {},
     "output_type": "execute_result"
    }
   ],
   "source": [
    "print(\"Same year patents:\")\n",
    "df[\"patents filed  Count\"].corr(df[\"crispr\"]).round(3)"
   ]
  },
  {
   "cell_type": "code",
   "execution_count": 23,
   "id": "c19f6f4a",
   "metadata": {},
   "outputs": [
    {
     "name": "stdout",
     "output_type": "stream",
     "text": [
      "Future patents:\n"
     ]
    },
    {
     "data": {
      "text/plain": [
       "0.887"
      ]
     },
     "execution_count": 23,
     "metadata": {},
     "output_type": "execute_result"
    }
   ],
   "source": [
    "print(\"Future patents:\")\n",
    "df[\"patents filed  Count\"].shift(-1).corr(df[\"crispr\"]).round(3)"
   ]
  },
  {
   "cell_type": "code",
   "execution_count": 24,
   "id": "6ac2b8cd",
   "metadata": {},
   "outputs": [
    {
     "name": "stdout",
     "output_type": "stream",
     "text": [
      "Cross-correlation between patents and lags for different (Year) lags:\n",
      "-6 0.436\n",
      "-5 0.503\n",
      "-4 0.604\n",
      "-3 0.704\n",
      "-2 0.794\n",
      "-1 0.887\n",
      "0 0.938\n",
      "1 0.985\n",
      "2 0.943\n",
      "3 0.888\n",
      "4 0.826\n",
      "5 0.752\n"
     ]
    }
   ],
   "source": [
    "print(\"Cross-correlation between patents and lags for different (Year) lags:\")\n",
    "for i in range(-6,6):#[-1,0,1,2]:\n",
    "#     print(i,df_g.apply(lambda df: df['y_raw'].corr(df['patent_count'].shift(i))).mean().round(3))\n",
    "    print(i,df[\"crispr\"].corr(df[\"patents filed  Count\"].shift(i)).mean().round(3))"
   ]
  },
  {
   "cell_type": "markdown",
   "id": "f2870a97",
   "metadata": {},
   "source": [
    "matplotlib xcorr has different results?"
   ]
  },
  {
   "cell_type": "code",
   "execution_count": 28,
   "id": "94b10908",
   "metadata": {},
   "outputs": [
    {
     "data": {
      "image/png": "[encoded data removed]",
      "text/plain": [
       "<Figure size 640x480 with 1 Axes>"
      ]
     },
     "metadata": {},
     "output_type": "display_data"
    },
    {
     "data": {
      "text/plain": [
       "<Figure size 640x480 with 0 Axes>"
      ]
     },
     "metadata": {},
     "output_type": "display_data"
    }
   ],
   "source": [
    "import matplotlib.pyplot as plt\n",
    "from matplotlib import mlab\n",
    "### https://stackoverflow.com/questions/55535226/how-to-make-a-correlation-plot-with-a-certain-lag-of-two-time-series\n",
    "\n",
    "### https://stackoverflow.com/questions/69117617/how-to-find-the-lag-between-two-time-series-using-cross-correlation\n",
    "\n",
    "# https://docs.scipy.org/doc/scipy/reference/generated/scipy.signal.correlation_lags.html\n",
    "\n",
    "plt.xcorr(df[\"crispr\"], df[\"patents filed  Count\"], maxlags=4) # normed=True,   usevlines=True,\n",
    "plt.title(\"crispr papers versus patents filed  Count\")\n",
    "plt.show()\n",
    "plt.clf() "
   ]
  },
  {
   "cell_type": "code",
   "execution_count": 32,
   "id": "5593b1aa",
   "metadata": {},
   "outputs": [
    {
     "data": {
      "image/png": "[encoded data removed]",
      "text/plain": [
       "<Figure size 640x480 with 1 Axes>"
      ]
     },
     "metadata": {},
     "output_type": "display_data"
    },
    {
     "data": {
      "text/plain": [
       "<Figure size 640x480 with 0 Axes>"
      ]
     },
     "metadata": {},
     "output_type": "display_data"
    }
   ],
   "source": [
    "plt.xcorr(df[\"crispr\"], df[\"patents filed  Count\"], maxlags=3, detrend=mlab.detrend) #subtract sample mean\n",
    "plt.title(\"Detrend crispr papers versus patents filed  Count\")\n",
    "plt.show()\n",
    "plt.clf() "
   ]
  },
  {
   "cell_type": "markdown",
   "id": "850cd647",
   "metadata": {},
   "source": []
  },
  {
   "cell_type": "code",
   "execution_count": 26,
   "id": "6c1bf348",
   "metadata": {},
   "outputs": [
    {
     "data": {
      "text/plain": [
       "Year\n",
       "2003-01-01    0\n",
       "2004-01-01    0\n",
       "2005-01-01    3\n",
       "Name: patents filed  Count, dtype: int64"
      ]
     },
     "metadata": {},
     "output_type": "display_data"
    }
   ],
   "source": [
    "display(df[\"patents filed  Count\"].head(3))"
   ]
  },
  {
   "cell_type": "code",
   "execution_count": 27,
   "id": "a29c54b1",
   "metadata": {},
   "outputs": [
    {
     "data": {
      "text/plain": [
       "Year\n",
       "2003-01-01    NaN\n",
       "2004-01-01    0.0\n",
       "2005-01-01    0.0\n",
       "Name: patents filed  Count, dtype: float64"
      ]
     },
     "metadata": {},
     "output_type": "display_data"
    },
    {
     "data": {
      "text/plain": [
       "Year\n",
       "2003-01-01      NaN\n",
       "2004-01-01    0.168\n",
       "2005-01-01    0.156\n",
       "Name: crispr, dtype: float64"
      ]
     },
     "metadata": {},
     "output_type": "display_data"
    }
   ],
   "source": [
    "display(df[\"patents filed  Count\"].shift(1).head(3))\n",
    "display(df[\"crispr\"].shift(1).head(3))"
   ]
  }
 ],
 "metadata": {
  "kernelspec": {
   "display_name": "Python 3 (ipykernel)",
   "language": "python",
   "name": "python3"
  },
  "language_info": {
   "codemirror_mode": {
    "name": "ipython",
    "version": 3
   },
   "file_extension": ".py",
   "mimetype": "text/x-python",
   "name": "python",
   "nbconvert_exporter": "python",
   "pygments_lexer": "ipython3",
   "version": "3.9.13"
  }
 },
 "nbformat": 4,
 "nbformat_minor": 5
}
